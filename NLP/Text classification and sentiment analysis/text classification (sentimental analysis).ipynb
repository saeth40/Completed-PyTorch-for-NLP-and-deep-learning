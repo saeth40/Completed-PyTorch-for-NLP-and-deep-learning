{
 "cells": [
  {
   "cell_type": "markdown",
   "id": "651fa9e3-aa39-4b9c-9a79-bb9f9fdbed4e",
   "metadata": {},
   "source": [
    "# dataset"
   ]
  },
  {
   "cell_type": "code",
   "execution_count": 1,
   "id": "af46582c-c28b-421c-a90a-ef7958bff7e0",
   "metadata": {},
   "outputs": [],
   "source": [
    "import pandas as pd\n",
    "import matplotlib.pyplot as plt\n",
    "from sklearn.model_selection import train_test_split\n",
    "from transformers import BertTokenizer, BertModel\n",
    "import torch\n",
    "from torch.utils.data import DataLoader, Dataset\n",
    "from torchinfo import summary\n",
    "from torch import nn, optim\n",
    "import numpy as np\n",
    "from typing import Tuple, Dict, List\n",
    "from tqdm.auto import tqdm\n",
    "import timeit\n",
    "import os\n",
    "from torchmetrics import ConfusionMatrix\n",
    "from mlxtend.plotting import plot_confusion_matrix"
   ]
  },
  {
   "cell_type": "code",
   "execution_count": 2,
   "id": "ccd238e3-c2d1-48ef-9473-a8ce6870212b",
   "metadata": {},
   "outputs": [
    {
     "data": {
      "text/html": [
       "<div>\n",
       "<style scoped>\n",
       "    .dataframe tbody tr th:only-of-type {\n",
       "        vertical-align: middle;\n",
       "    }\n",
       "\n",
       "    .dataframe tbody tr th {\n",
       "        vertical-align: top;\n",
       "    }\n",
       "\n",
       "    .dataframe thead th {\n",
       "        text-align: right;\n",
       "    }\n",
       "</style>\n",
       "<table border=\"1\" class=\"dataframe\">\n",
       "  <thead>\n",
       "    <tr style=\"text-align: right;\">\n",
       "      <th></th>\n",
       "      <th>index</th>\n",
       "      <th>0</th>\n",
       "      <th>1</th>\n",
       "    </tr>\n",
       "  </thead>\n",
       "  <tbody>\n",
       "    <tr>\n",
       "      <th>0</th>\n",
       "      <td>1627</td>\n",
       "      <td>the problem is the needlessly poor quality of ...</td>\n",
       "      <td>0</td>\n",
       "    </tr>\n",
       "    <tr>\n",
       "      <th>1</th>\n",
       "      <td>1678</td>\n",
       "      <td>a feeble tootsie knockoff</td>\n",
       "      <td>0</td>\n",
       "    </tr>\n",
       "    <tr>\n",
       "      <th>2</th>\n",
       "      <td>2627</td>\n",
       "      <td>the bottom line , at least in my opinion , is ...</td>\n",
       "      <td>0</td>\n",
       "    </tr>\n",
       "    <tr>\n",
       "      <th>3</th>\n",
       "      <td>5892</td>\n",
       "      <td>would benigni 's italian pinocchio have been a...</td>\n",
       "      <td>0</td>\n",
       "    </tr>\n",
       "    <tr>\n",
       "      <th>4</th>\n",
       "      <td>3301</td>\n",
       "      <td>van wilder has a built in audience , but only ...</td>\n",
       "      <td>0</td>\n",
       "    </tr>\n",
       "    <tr>\n",
       "      <th>...</th>\n",
       "      <td>...</td>\n",
       "      <td>...</td>\n",
       "      <td>...</td>\n",
       "    </tr>\n",
       "    <tr>\n",
       "      <th>6915</th>\n",
       "      <td>6439</td>\n",
       "      <td>it all starts to smack of a hallmark hall of f...</td>\n",
       "      <td>0</td>\n",
       "    </tr>\n",
       "    <tr>\n",
       "      <th>6916</th>\n",
       "      <td>2436</td>\n",
       "      <td>but windtalkers does n't beat that one , either</td>\n",
       "      <td>0</td>\n",
       "    </tr>\n",
       "    <tr>\n",
       "      <th>6917</th>\n",
       "      <td>3990</td>\n",
       "      <td>the rules of attraction gets us too drunk on t...</td>\n",
       "      <td>0</td>\n",
       "    </tr>\n",
       "    <tr>\n",
       "      <th>6918</th>\n",
       "      <td>574</td>\n",
       "      <td>there 's a sheer unbridled delight in the way ...</td>\n",
       "      <td>1</td>\n",
       "    </tr>\n",
       "    <tr>\n",
       "      <th>6919</th>\n",
       "      <td>2553</td>\n",
       "      <td>what lrb frei rrb gives us is a man who uses t...</td>\n",
       "      <td>1</td>\n",
       "    </tr>\n",
       "  </tbody>\n",
       "</table>\n",
       "<p>6920 rows × 3 columns</p>\n",
       "</div>"
      ],
      "text/plain": [
       "      index                                                  0  1\n",
       "0      1627  the problem is the needlessly poor quality of ...  0\n",
       "1      1678                          a feeble tootsie knockoff  0\n",
       "2      2627  the bottom line , at least in my opinion , is ...  0\n",
       "3      5892  would benigni 's italian pinocchio have been a...  0\n",
       "4      3301  van wilder has a built in audience , but only ...  0\n",
       "...     ...                                                ... ..\n",
       "6915   6439  it all starts to smack of a hallmark hall of f...  0\n",
       "6916   2436    but windtalkers does n't beat that one , either  0\n",
       "6917   3990  the rules of attraction gets us too drunk on t...  0\n",
       "6918    574  there 's a sheer unbridled delight in the way ...  1\n",
       "6919   2553  what lrb frei rrb gives us is a man who uses t...  1\n",
       "\n",
       "[6920 rows x 3 columns]"
      ]
     },
     "execution_count": 2,
     "metadata": {},
     "output_type": "execute_result"
    }
   ],
   "source": [
    "df = pd.read_csv('https://github.com/clairett/pytorch-sentiment-classification/raw/master/data/SST2/train.tsv', delimiter='\\t', header=None)\n",
    "df = df.sample(frac=1).reset_index()\n",
    "df"
   ]
  },
  {
   "cell_type": "code",
   "execution_count": 3,
   "id": "641f1c55-3c90-4638-a96e-330e06fa7b48",
   "metadata": {},
   "outputs": [
    {
     "data": {
      "text/plain": [
       "Index(['index', 0, 1], dtype='object')"
      ]
     },
     "execution_count": 3,
     "metadata": {},
     "output_type": "execute_result"
    }
   ],
   "source": [
    "df.columns"
   ]
  },
  {
   "cell_type": "code",
   "execution_count": 4,
   "id": "31f8d1b1-477e-4c6b-bd7b-2327ee40fc21",
   "metadata": {},
   "outputs": [
    {
     "name": "stdout",
     "output_type": "stream",
     "text": [
      "<class 'pandas.core.frame.DataFrame'>\n",
      "RangeIndex: 6920 entries, 0 to 6919\n",
      "Data columns (total 3 columns):\n",
      " #   Column  Non-Null Count  Dtype \n",
      "---  ------  --------------  ----- \n",
      " 0   index   6920 non-null   int64 \n",
      " 1   0       6920 non-null   object\n",
      " 2   1       6920 non-null   int64 \n",
      "dtypes: int64(2), object(1)\n",
      "memory usage: 162.3+ KB\n"
     ]
    }
   ],
   "source": [
    "df.info()"
   ]
  },
  {
   "cell_type": "code",
   "execution_count": 5,
   "id": "3e1cce10-89a7-4f06-a984-000bde7fdb08",
   "metadata": {},
   "outputs": [
    {
     "data": {
      "text/html": [
       "<div>\n",
       "<style scoped>\n",
       "    .dataframe tbody tr th:only-of-type {\n",
       "        vertical-align: middle;\n",
       "    }\n",
       "\n",
       "    .dataframe tbody tr th {\n",
       "        vertical-align: top;\n",
       "    }\n",
       "\n",
       "    .dataframe thead th {\n",
       "        text-align: right;\n",
       "    }\n",
       "</style>\n",
       "<table border=\"1\" class=\"dataframe\">\n",
       "  <thead>\n",
       "    <tr style=\"text-align: right;\">\n",
       "      <th></th>\n",
       "      <th>index</th>\n",
       "      <th>1</th>\n",
       "    </tr>\n",
       "  </thead>\n",
       "  <tbody>\n",
       "    <tr>\n",
       "      <th>count</th>\n",
       "      <td>6920.000000</td>\n",
       "      <td>6920.000000</td>\n",
       "    </tr>\n",
       "    <tr>\n",
       "      <th>mean</th>\n",
       "      <td>3459.500000</td>\n",
       "      <td>0.521676</td>\n",
       "    </tr>\n",
       "    <tr>\n",
       "      <th>std</th>\n",
       "      <td>1997.776264</td>\n",
       "      <td>0.499566</td>\n",
       "    </tr>\n",
       "    <tr>\n",
       "      <th>min</th>\n",
       "      <td>0.000000</td>\n",
       "      <td>0.000000</td>\n",
       "    </tr>\n",
       "    <tr>\n",
       "      <th>25%</th>\n",
       "      <td>1729.750000</td>\n",
       "      <td>0.000000</td>\n",
       "    </tr>\n",
       "    <tr>\n",
       "      <th>50%</th>\n",
       "      <td>3459.500000</td>\n",
       "      <td>1.000000</td>\n",
       "    </tr>\n",
       "    <tr>\n",
       "      <th>75%</th>\n",
       "      <td>5189.250000</td>\n",
       "      <td>1.000000</td>\n",
       "    </tr>\n",
       "    <tr>\n",
       "      <th>max</th>\n",
       "      <td>6919.000000</td>\n",
       "      <td>1.000000</td>\n",
       "    </tr>\n",
       "  </tbody>\n",
       "</table>\n",
       "</div>"
      ],
      "text/plain": [
       "             index            1\n",
       "count  6920.000000  6920.000000\n",
       "mean   3459.500000     0.521676\n",
       "std    1997.776264     0.499566\n",
       "min       0.000000     0.000000\n",
       "25%    1729.750000     0.000000\n",
       "50%    3459.500000     1.000000\n",
       "75%    5189.250000     1.000000\n",
       "max    6919.000000     1.000000"
      ]
     },
     "execution_count": 5,
     "metadata": {},
     "output_type": "execute_result"
    }
   ],
   "source": [
    "df.describe()"
   ]
  },
  {
   "cell_type": "code",
   "execution_count": 6,
   "id": "eccbaa2d-5a4f-4118-8afe-7e2c7f8fee37",
   "metadata": {},
   "outputs": [
    {
     "data": {
      "text/plain": [
       "1    3610\n",
       "0    3310\n",
       "Name: 1, dtype: int64"
      ]
     },
     "execution_count": 6,
     "metadata": {},
     "output_type": "execute_result"
    }
   ],
   "source": [
    "df[1].value_counts()"
   ]
  },
  {
   "cell_type": "code",
   "execution_count": 7,
   "id": "86fded0a-b15b-46b9-b0ae-ea1c6fc3a3f3",
   "metadata": {},
   "outputs": [
    {
     "data": {
      "image/png": "[encoded data removed]",
      "text/plain": [
       "<Figure size 720x504 with 1 Axes>"
      ]
     },
     "metadata": {
      "needs_background": "light"
     },
     "output_type": "display_data"
    }
   ],
   "source": [
    "frequencies = list(df[1].value_counts())\n",
    "# In my original code I create a series and run on that,\n",
    "# so for consistency I create a series from the list.\n",
    "freq_series = pd.Series(frequencies)\n",
    "\n",
    "x_labels = ['positive','Negative']\n",
    "\n",
    "# Plot the figure.\n",
    "plt.figure(figsize=(10, 7))\n",
    "ax = freq_series.plot(kind=\"bar\")\n",
    "ax.set_title(\"Class count\")\n",
    "ax.set_xlabel(\"Class\")\n",
    "ax.set_ylabel(\"Frequency\")\n",
    "ax.set_xticklabels(x_labels)\n",
    "\n",
    "rects = ax.patches\n",
    "\n",
    "# Make some labels.\n",
    "labels = frequencies\n",
    "\n",
    "for rect, label in zip(rects, labels):\n",
    "    height = rect.get_height()\n",
    "    ax.text(\n",
    "        rect.get_x() + rect.get_width() / 2, height + 5, label, ha=\"center\", va=\"bottom\"\n",
    "    )\n",
    "\n",
    "plt.show()"
   ]
  },
  {
   "cell_type": "code",
   "execution_count": 8,
   "id": "44ffd7ab-ec19-49fb-90df-f32132ff9e8c",
   "metadata": {},
   "outputs": [
    {
     "data": {
      "text/plain": [
       "device(type='cuda')"
      ]
     },
     "execution_count": 8,
     "metadata": {},
     "output_type": "execute_result"
    }
   ],
   "source": [
    "device = torch.device(\"cuda\" if torch.cuda.is_available() else \"cpu\")\n",
    "device"
   ]
  },
  {
   "cell_type": "code",
   "execution_count": 9,
   "id": "0de765ce-a578-491e-a4bc-edb3a7fb6836",
   "metadata": {},
   "outputs": [],
   "source": [
    "tokenizer = BertTokenizer.from_pretrained('bert-base-uncased')"
   ]
  },
  {
   "cell_type": "code",
   "execution_count": 10,
   "id": "011d367f-e2fa-43a3-b59a-70d33a9a4f63",
   "metadata": {},
   "outputs": [
    {
     "data": {
      "text/plain": [
       "0       [101, 1996, 3291, 2003, 1996, 17044, 14540, 21...\n",
       "1       [101, 1037, 7408, 3468, 2205, 3215, 2666, 7324...\n",
       "2       [101, 1996, 3953, 2240, 1010, 2012, 2560, 1999...\n",
       "3       [101, 2052, 28378, 2072, 1005, 1055, 3059, 923...\n",
       "4       [101, 3158, 18463, 2038, 1037, 2328, 1999, 437...\n",
       "                              ...                        \n",
       "6915    [101, 2009, 2035, 4627, 2000, 21526, 1997, 103...\n",
       "6916    [101, 2021, 3612, 28014, 2545, 2515, 1050, 100...\n",
       "6917    [101, 1996, 3513, 1997, 8432, 4152, 2149, 2205...\n",
       "6918    [101, 2045, 1005, 1055, 1037, 11591, 4895, 237...\n",
       "6919    [101, 2054, 1048, 15185, 10424, 7416, 25269, 2...\n",
       "Name: 0, Length: 6920, dtype: object"
      ]
     },
     "execution_count": 10,
     "metadata": {},
     "output_type": "execute_result"
    }
   ],
   "source": [
    "# apply text tokenizer\n",
    "tokenized=df[0].apply((lambda x: tokenizer.encode(x, add_special_tokens=True)))\n",
    "tokenized"
   ]
  },
  {
   "cell_type": "code",
   "execution_count": 11,
   "id": "942f2e59-6efc-467d-9f8c-22cae834755d",
   "metadata": {},
   "outputs": [
    {
     "data": {
      "text/plain": [
       "67"
      ]
     },
     "execution_count": 11,
     "metadata": {},
     "output_type": "execute_result"
    }
   ],
   "source": [
    "# max len tokenized\n",
    "max_len = max(len(i) for i in tokenized)\n",
    "max_len"
   ]
  },
  {
   "cell_type": "code",
   "execution_count": 12,
   "id": "122979fb-c415-4eee-9cdf-a8d2c6f0347f",
   "metadata": {},
   "outputs": [],
   "source": [
    "padded = np.array([i + [0]*(max_len-len(i)) for i in tokenized.values])"
   ]
  },
  {
   "cell_type": "code",
   "execution_count": 13,
   "id": "f26d0aca-d9d7-487f-8b9e-578c22c2a8e8",
   "metadata": {},
   "outputs": [
    {
     "data": {
      "text/plain": [
       "(6920, 67)"
      ]
     },
     "execution_count": 13,
     "metadata": {},
     "output_type": "execute_result"
    }
   ],
   "source": [
    "padded.shape"
   ]
  },
  {
   "cell_type": "code",
   "execution_count": 14,
   "id": "cac63b1a-2fba-486d-a4bd-15043822a1a9",
   "metadata": {},
   "outputs": [
    {
     "data": {
      "text/plain": [
       "(6920, 67)"
      ]
     },
     "execution_count": 14,
     "metadata": {},
     "output_type": "execute_result"
    }
   ],
   "source": [
    "attention_mask = np.where(padded != 0, 1, 0)\n",
    "attention_mask.shape"
   ]
  },
  {
   "cell_type": "code",
   "execution_count": 15,
   "id": "ace1424f-65fa-4dc3-bf80-ba3768c636fa",
   "metadata": {},
   "outputs": [
    {
     "data": {
      "text/plain": [
       "(6920,)"
      ]
     },
     "execution_count": 15,
     "metadata": {},
     "output_type": "execute_result"
    }
   ],
   "source": [
    "labels = np.array(df[1])\n",
    "labels.shape"
   ]
  },
  {
   "cell_type": "code",
   "execution_count": 16,
   "id": "0f7cb71e-2bac-4aea-9aff-5d98fd9c7b65",
   "metadata": {},
   "outputs": [
    {
     "data": {
      "text/plain": [
       "(4844, 2076, 4844, 2076)"
      ]
     },
     "execution_count": 16,
     "metadata": {},
     "output_type": "execute_result"
    }
   ],
   "source": [
    "# train-test split\n",
    "train_size = int(len(attention_mask)*0.7)\n",
    "padded_train = padded[:train_size]\n",
    "padded_val = padded[train_size:]\n",
    "attention_mask_train = attention_mask[:train_size]\n",
    "attention_mask_val = attention_mask[train_size:]\n",
    "labels_train = labels[:train_size]\n",
    "labels_val = labels[train_size:]\n",
    "len(padded_train), len(padded_val), len(attention_mask_train), len(attention_mask_val)"
   ]
  },
  {
   "cell_type": "code",
   "execution_count": 17,
   "id": "2e31d5d9-774a-4254-8112-afa308db1080",
   "metadata": {},
   "outputs": [
    {
     "data": {
      "text/plain": [
       "(4844, 2076)"
      ]
     },
     "execution_count": 17,
     "metadata": {},
     "output_type": "execute_result"
    }
   ],
   "source": [
    "len(labels_train), len(labels_val)"
   ]
  },
  {
   "cell_type": "code",
   "execution_count": 18,
   "id": "f760f3e2-30c4-413d-8ada-4c6d8e9a9582",
   "metadata": {},
   "outputs": [],
   "source": [
    "# custom dataset\n",
    "class TokenDataset(Dataset):\n",
    "    def __init__(self,padded, attention_mask, labels):\n",
    "        self.padded = padded # array\n",
    "        self.attention_mask = attention_mask # array\n",
    "        self.labels = labels # aray\n",
    "        \n",
    "    def __len__(self):\n",
    "        return len(self.padded)\n",
    "\n",
    "    def __getitem__(self, index: int):\n",
    "        token_id = torch.from_numpy(self.padded[index]).int()\n",
    "        attention = torch.from_numpy(self.attention_mask[index]).int()\n",
    "        label = torch.from_numpy(np.array(self.labels[index]))\n",
    "        return  token_id, attention, label"
   ]
  },
  {
   "cell_type": "code",
   "execution_count": 19,
   "id": "8f37e377-ac7d-4350-80a0-927b97d23103",
   "metadata": {},
   "outputs": [],
   "source": [
    "train_dataset = TokenDataset(padded_train, attention_mask_train, labels_train)\n",
    "val_dataset = TokenDataset(padded_val, attention_mask_val, labels_val)\n",
    "\n",
    "batch_size = 64\n",
    "num_worker = 0\n",
    "#num_worker = os.cpu_count()\n",
    "train_dataloader = DataLoader(train_dataset,batch_size, num_workers=num_worker)\n",
    "val_dataloader = DataLoader(val_dataset,batch_size, num_workers=num_worker)"
   ]
  },
  {
   "cell_type": "markdown",
   "id": "16540917-1c5d-4c43-ba49-11e8181f4264",
   "metadata": {},
   "source": [
    "# model"
   ]
  },
  {
   "cell_type": "code",
   "execution_count": 20,
   "id": "0399484e-1f05-4164-907a-264fa75f02c3",
   "metadata": {},
   "outputs": [],
   "source": [
    "# Set seeds\n",
    "def set_seeds(seed: int=42):\n",
    "    \"\"\"Sets random sets for torch operations.\n",
    "\n",
    "    Args:\n",
    "        seed (int, optional): Random seed to set. Defaults to 42.\n",
    "    \"\"\"\n",
    "    # Set the seed for general torch operations\n",
    "    torch.manual_seed(seed)\n",
    "    # Set the seed for CUDA torch operations (ones that happen on the GPU)\n",
    "    torch.cuda.manual_seed(seed)"
   ]
  },
  {
   "cell_type": "code",
   "execution_count": 21,
   "id": "650b6948-f24b-48da-8cee-a3d351c88b21",
   "metadata": {},
   "outputs": [],
   "source": [
    "class SentimentClassifier(nn.Module):\n",
    "\n",
    "  def __init__(self, n_classes):\n",
    "    super().__init__()\n",
    "    self.bert = BertModel.from_pretrained(\"bert-base-uncased\")\n",
    "    self.linear = nn.Linear(self.bert.config.hidden_size, n_classes)\n",
    "  \n",
    "  def forward(self, input_ids, attention_mask):\n",
    "    last_hidden_states = self.bert(\n",
    "      input_ids=input_ids,\n",
    "      attention_mask=attention_mask\n",
    "    ) # out = [batch, seq_len, hidden units]\n",
    "    out = last_hidden_states[0][:, 0, :] # shape = [batch, hidden units]\n",
    "    out = self.linear(out)\n",
    "    return out"
   ]
  },
  {
   "cell_type": "code",
   "execution_count": 22,
   "id": "e016677f-f8e1-410c-9534-a7b7716361f0",
   "metadata": {},
   "outputs": [
    {
     "name": "stderr",
     "output_type": "stream",
     "text": [
      "Some weights of the model checkpoint at bert-base-uncased were not used when initializing BertModel: ['cls.predictions.transform.LayerNorm.bias', 'cls.predictions.transform.dense.weight', 'cls.predictions.bias', 'cls.predictions.decoder.weight', 'cls.predictions.transform.dense.bias', 'cls.seq_relationship.bias', 'cls.predictions.transform.LayerNorm.weight', 'cls.seq_relationship.weight']\n",
      "- This IS expected if you are initializing BertModel from the checkpoint of a model trained on another task or with another architecture (e.g. initializing a BertForSequenceClassification model from a BertForPreTraining model).\n",
      "- This IS NOT expected if you are initializing BertModel from the checkpoint of a model that you expect to be exactly identical (initializing a BertForSequenceClassification model from a BertForSequenceClassification model).\n"
     ]
    }
   ],
   "source": [
    "set_seeds()\n",
    "model = SentimentClassifier(2).to(device)"
   ]
  },
  {
   "cell_type": "code",
   "execution_count": 23,
   "id": "c7369c98-24e8-457c-bfc9-18caa5c8320f",
   "metadata": {},
   "outputs": [],
   "source": [
    "# Freeze all base layers in the \"features\" section of the model (the feature extractor) by setting requires_grad=False\n",
    "for param in model.parameters():\n",
    "    param.requires_grad = False"
   ]
  },
  {
   "cell_type": "code",
   "execution_count": 24,
   "id": "f1fce8c0-2199-4892-81ac-903d844fbf77",
   "metadata": {},
   "outputs": [],
   "source": [
    "for param in model.linear.parameters(): # unfreeze linear layer\n",
    "    param.requires_grad = True"
   ]
  },
  {
   "cell_type": "code",
   "execution_count": 25,
   "id": "83a47eca-2296-4d53-8dd1-6714bbeb1010",
   "metadata": {},
   "outputs": [],
   "source": [
    "def train_step(model: torch.nn.Module, \n",
    "               dataloader: torch.utils.data.DataLoader, \n",
    "               loss_fn: torch.nn.Module, \n",
    "               optimizer: torch.optim.Optimizer,\n",
    "               device: torch.device):\n",
    "    \"\"\"Trains a PyTorch model for a single epoch.\n",
    "\n",
    "    Turns a target PyTorch model to training mode and then\n",
    "    runs through all of the required training steps (forward\n",
    "    pass, loss calculation, optimizer step).\n",
    "\n",
    "    Args:\n",
    "    model: A PyTorch model to be trained.\n",
    "    dataloader: A DataLoader instance for the model to be trained on.\n",
    "    loss_fn: A PyTorch loss function to minimize.\n",
    "    optimizer: A PyTorch optimizer to help minimize the loss function.\n",
    "    device: A target device to compute on (e.g. \"cuda\" or \"cpu\").\n",
    "\n",
    "    Returns:\n",
    "    A tuple of training loss and training accuracy metrics.\n",
    "    In the form (train_loss, train_accuracy). For example:\n",
    "\n",
    "    (0.1112, 0.8743)\n",
    "    \"\"\"\n",
    "    # Put model in train mode\n",
    "    model.train()\n",
    "\n",
    "    # Setup train loss and train accuracy values\n",
    "    train_loss, train_acc = 0, 0\n",
    "\n",
    "    # Loop through data loader data batches\n",
    "    for batch, sample in enumerate(dataloader):\n",
    "        # Send data to target device\n",
    "        token_id, mask, labels = sample\n",
    "        batch_size, seq_len = token_id.shape # labels size = [batch]\n",
    "        token_id = token_id.to(device)\n",
    "        mask = mask.to(device)\n",
    "        labels = labels.to(device)\n",
    "\n",
    "        # 1. Forward pass\n",
    "        y_pred = model(token_id, mask) # size = [batch, num_class]\n",
    "        y_pred_class = torch.argmax(torch.softmax(model(token_id, mask), dim=1), dim=1) # size = [batch]\n",
    "\n",
    "        # 2. Calculate  and accumulate loss\n",
    "        loss = loss_fn(y_pred, labels)\n",
    "        train_loss += loss.item() \n",
    "\n",
    "        # 3. Optimizer zero grad\n",
    "        optimizer.zero_grad()\n",
    "\n",
    "        # 4. Loss backward\n",
    "        loss.backward()\n",
    "\n",
    "        # 5. Optimizer step\n",
    "        optimizer.step()\n",
    "        \n",
    "        train_acc += (y_pred_class == labels).sum().item()/len(y_pred)\n",
    "\n",
    "        # Calculate and accumulate accuracy metric across all batches\n",
    "        #delta_y = y.detach().cpu().numpy() - y_pred.detach().cpu().numpy()\n",
    "        #train_acc+= (np.sum((y.detach().cpu().numpy()-delta_y)/y.detach().cpu().numpy())/len(y))*100\n",
    "        #print(batch, loss.item(), train_acc/(batch+1))\n",
    "\n",
    "    # Adjust metrics to get average loss and accuracy per batch \n",
    "    train_loss = train_loss / len(dataloader)\n",
    "    train_acc = train_acc / len(dataloader)\n",
    "    return train_loss, train_acc\n",
    "\n",
    "def test_step(model: torch.nn.Module, \n",
    "              dataloader: torch.utils.data.DataLoader, \n",
    "              loss_fn: torch.nn.Module,\n",
    "              device: torch.device):\n",
    "    \"\"\"Tests a PyTorch model for a single epoch.\n",
    "\n",
    "    Turns a target PyTorch model to \"eval\" mode and then performs\n",
    "    a forward pass on a testing dataset.\n",
    "\n",
    "    Args:\n",
    "    model: A PyTorch model to be tested.\n",
    "    dataloader: A DataLoader instance for the model to be tested on.\n",
    "    loss_fn: A PyTorch loss function to calculate loss on the test data.\n",
    "    device: A target device to compute on (e.g. \"cuda\" or \"cpu\").\n",
    "\n",
    "    Returns:\n",
    "    A tuple of testing loss and testing accuracy metrics.\n",
    "    In the form (test_loss, test_accuracy). For example:\n",
    "\n",
    "    (0.0223, 0.8985)\n",
    "    \"\"\"\n",
    "    # Put model in eval mode\n",
    "    model.eval() \n",
    "\n",
    "    # Setup test loss and test accuracy values\n",
    "    test_loss, test_acc = 0, 0\n",
    "\n",
    "    # Turn on inference context manager\n",
    "    with torch.inference_mode():\n",
    "        # Loop through DataLoader batches\n",
    "        for batch, sample in enumerate(dataloader):\n",
    "            # Send data to target device\n",
    "            token_id, mask, labels = sample\n",
    "            batch_size, seq_len = token_id.shape # labels size = [batch]\n",
    "            token_id = token_id.to(device)\n",
    "            mask = mask.to(device)\n",
    "            labels = labels.to(device)\n",
    "            \n",
    "\n",
    "            # 1. Forward pass\n",
    "            test_pred_logits = model(token_id, mask) # size = [batch, num_class]\n",
    "\n",
    "            # 2. Calculate and accumulate loss\n",
    "            loss = loss_fn(test_pred_logits, labels)\n",
    "            test_loss += loss.item()\n",
    "\n",
    "            # Calculate and accumulate accuracy\n",
    "            #delta_y = y.detach().cpu().numpy() - test_pred_logits.detach().cpu().numpy()\n",
    "            #test_acc+= (np.sum((y.detach().cpu().numpy()-delta_y)/y.detach().cpu().numpy())/len(y))*100\n",
    "            y_pred_class = torch.argmax(torch.softmax(model(token_id, mask), dim=1), dim=1) # size = [batch]\n",
    "            test_acc += (y_pred_class == labels).sum().item()/len(test_pred_logits)\n",
    "\n",
    "    # Adjust metrics to get average loss and accuracy per batch \n",
    "    test_loss = test_loss / len(dataloader)\n",
    "    test_acc = test_acc / len(dataloader)\n",
    "    return test_loss, test_acc\n",
    "\n",
    "def train(model: torch.nn.Module, \n",
    "          train_dataloader: torch.utils.data.DataLoader, \n",
    "          test_dataloader: torch.utils.data.DataLoader, \n",
    "          optimizer: torch.optim.Optimizer,\n",
    "          loss_fn: torch.nn.Module,\n",
    "          epochs: int,\n",
    "          device: torch.device) -> Dict[str, List]:\n",
    "    \"\"\"Trains and tests a PyTorch model.\n",
    "\n",
    "    Passes a target PyTorch models through train_step() and test_step()\n",
    "    functions for a number of epochs, training and testing the model\n",
    "    in the same epoch loop.\n",
    "\n",
    "    Calculates, prints and stores evaluation metrics throughout.\n",
    "\n",
    "    Args:\n",
    "    model: A PyTorch model to be trained and tested.\n",
    "    train_dataloader: A DataLoader instance for the model to be trained on.\n",
    "    test_dataloader: A DataLoader instance for the model to be tested on.\n",
    "    optimizer: A PyTorch optimizer to help minimize the loss function.\n",
    "    loss_fn: A PyTorch loss function to calculate loss on both datasets.\n",
    "    epochs: An integer indicating how many epochs to train for.\n",
    "    device: A target device to compute on (e.g. \"cuda\" or \"cpu\").\n",
    "\n",
    "    Returns:\n",
    "    A dictionary of training and testing loss as well as training and\n",
    "    testing accuracy metrics. Each metric has a value in a list for \n",
    "    each epoch.\n",
    "    In the form: {train_loss: [...],\n",
    "              train_acc: [...],\n",
    "              test_loss: [...],\n",
    "              test_acc: [...]} \n",
    "    For example if training for epochs=2: \n",
    "             {train_loss: [2.0616, 1.0537],\n",
    "              train_acc: [0.3945, 0.3945],\n",
    "              test_loss: [1.2641, 1.5706],\n",
    "              test_acc: [0.3400, 0.2973]} \n",
    "    \"\"\"\n",
    "    \n",
    "    # track accuracy (if it doesn't increase, reducr the learning rate)\n",
    "    #scheduler = torch.optim.lr_scheduler.ReduceLROnPlateau(optimizer, mode='min', patience=1, verbose=True)\n",
    "    \n",
    "    #early_stop_count=0\n",
    "    \n",
    "    # Create empty results dictionary\n",
    "    results = {\"train_loss\": [],\n",
    "               \"train_acc\": [],\n",
    "               \"test_loss\": [],\n",
    "               \"test_acc\": []\n",
    "    }\n",
    "    \n",
    "    # Make sure model on target device\n",
    "    model.to(device)\n",
    "\n",
    "    # Loop through training and testing steps for a number of epochs\n",
    "    for epoch in tqdm(range(epochs)):\n",
    "        start = timeit.default_timer()\n",
    "        train_loss, train_acc = train_step(model=model,\n",
    "                                          dataloader=train_dataloader,\n",
    "                                          loss_fn=loss_fn,\n",
    "                                          optimizer=optimizer,\n",
    "                                          device=device)\n",
    "        print('train', epoch+1, 'completed')\n",
    "        test_loss, test_acc = test_step(model=model,\n",
    "          dataloader=test_dataloader,\n",
    "          loss_fn=loss_fn,\n",
    "          device=device)\n",
    "        print('test', epoch+1, 'completed')\n",
    "        stop = timeit.default_timer()\n",
    "\n",
    "        # Print out what's happening\n",
    "        print(\n",
    "          f\"Epoch: {epoch+1} | \"\n",
    "          f\"train_loss: {train_loss:.4f} | \"\n",
    "          f\"train_acc: {train_acc:.4f} | \"\n",
    "          f\"test_loss: {test_loss:.4f} | \"\n",
    "          f\"test_acc: {test_acc:.4f} | \"\n",
    "          f\"time (sec): {stop-start:.2f}\"\n",
    "        )\n",
    "        \n",
    "        #scheduler.step(test_loss) # monitor test accuracy\n",
    "        \n",
    "        # early stopping\n",
    "        #if epoch==0:\n",
    "            #pass\n",
    "        #else:\n",
    "            #if  results[\"test_loss\"][-1]-test_loss <= 0.005:\n",
    "                #early_stop_count+=1\n",
    "                #if early_stop_count==4:\n",
    "                    #print('early stopping!')\n",
    "                    #break\n",
    "            #else:\n",
    "                #early_stop_count=0\n",
    "        \n",
    "        # Update results dictionary\n",
    "        results[\"train_loss\"].append(train_loss)\n",
    "        results[\"train_acc\"].append(train_acc)\n",
    "        results[\"test_loss\"].append(test_loss)\n",
    "        results[\"test_acc\"].append(test_acc)\n",
    "        \n",
    "                \n",
    "    # Return the filled results at the end of the epochs\n",
    "    return results"
   ]
  },
  {
   "cell_type": "code",
   "execution_count": 26,
   "id": "2a6fb871-4c05-445c-b7fe-086d3a76b7e4",
   "metadata": {},
   "outputs": [],
   "source": [
    "# Plot loss curves of a model\n",
    "def plot_loss_curves(results):\n",
    "    \"\"\"Plots training curves of a results dictionary.\n",
    "\n",
    "    Args:\n",
    "        results (dict): dictionary containing list of values, e.g.\n",
    "            {\"train_loss\": [...],\n",
    "             \"train_acc\": [...],\n",
    "             \"test_loss\": [...],\n",
    "             \"test_acc\": [...]}\n",
    "    \"\"\"\n",
    "    loss = results[\"train_loss\"]\n",
    "    test_loss = results[\"test_loss\"]\n",
    "\n",
    "    accuracy = results[\"train_acc\"]\n",
    "    test_accuracy = results[\"test_acc\"]\n",
    "\n",
    "    epochs = range(1, len(results[\"train_loss\"])+1)\n",
    "\n",
    "    plt.figure(figsize=(15, 7))\n",
    "\n",
    "    # Plot loss\n",
    "    plt.subplot(1, 2, 1)\n",
    "    plt.plot(epochs, loss, label=\"train_loss\")\n",
    "    plt.plot(epochs, test_loss, label=\"test_loss\")\n",
    "    plt.xticks(epochs)\n",
    "    plt.title(\"Loss\")\n",
    "    plt.xlabel(\"Epochs\")\n",
    "    plt.legend()\n",
    "\n",
    "    # Plot accuracy\n",
    "    plt.subplot(1, 2, 2)\n",
    "    plt.plot(epochs, accuracy, label=\"train_accuracy\")\n",
    "    plt.plot(epochs, test_accuracy, label=\"test_accuracy\")\n",
    "    plt.xticks(epochs)\n",
    "    plt.title(\"Accuracy\")\n",
    "    plt.xlabel(\"Epochs\")\n",
    "    plt.legend()\n",
    "    print('average train accuracy:', sum(accuracy)/len(accuracy))\n",
    "    print('average test accuracy:', sum(test_accuracy)/len(test_accuracy))"
   ]
  },
  {
   "cell_type": "code",
   "execution_count": 27,
   "id": "08395a21-a8e4-4e1f-b376-6e3a35b26bb9",
   "metadata": {},
   "outputs": [],
   "source": [
    "def plot_confision_matrix(model, dataloader, num_classes):\n",
    "    # 1. Make predictions with trained model\n",
    "    y_preds = []\n",
    "    y_trues = []\n",
    "    model.eval()\n",
    "    with torch.inference_mode():\n",
    "         for batch, sample in enumerate(dataloader):\n",
    "            # Send data to target device\n",
    "            token_id, mask, labels = sample\n",
    "            batch_size, seq_len = token_id.shape # labels size = [batch]\n",
    "            token_id = token_id.to(device)\n",
    "            mask = mask.to(device)\n",
    "            labels = labels.to(device)\n",
    "            \n",
    "\n",
    "            # 1. Forward pass\n",
    "            y_pred_class = torch.argmax(torch.softmax(model(token_id, mask), dim=1), dim=1) # size = [batch]\n",
    "            y_preds.append(y_pred_class.cpu())\n",
    "            y_trues.append(labels.cpu())\n",
    "    # Concatenate list of predictions into a tensor\n",
    "    y_pred_tensor = torch.cat(y_preds)\n",
    "    y_true_tensor = torch.cat(y_trues)\n",
    "    \n",
    "    # 2. Setup confusion matrix instance and compare predictions to targets\n",
    "    confmat = ConfusionMatrix(num_classes=num_classes)\n",
    "    confmat_tensor = confmat(preds=y_pred_tensor,\n",
    "                             target=y_true_tensor)\n",
    "\n",
    "    # 3. Plot the confusion matrix\n",
    "    class_dict = {0: 'Negative',\n",
    "                  1: 'Positive'}\n",
    "    fig, ax = plot_confusion_matrix(\n",
    "        conf_mat=confmat_tensor.numpy(), # matplotlib likes working with NumPy \n",
    "        colorbar=True,\n",
    "        show_absolute=True,\n",
    "        show_normed=True,\n",
    "        class_names=class_dict.values(),\n",
    "        figsize=(10, 7)\n",
    "    );"
   ]
  },
  {
   "cell_type": "markdown",
   "id": "a5a57799-177c-4c47-93c1-cbcffb074a23",
   "metadata": {},
   "source": [
    "# train"
   ]
  },
  {
   "cell_type": "code",
   "execution_count": 28,
   "id": "34f17505-9660-4a0e-bafa-181e55e5ecfd",
   "metadata": {},
   "outputs": [
    {
     "data": {
      "application/vnd.jupyter.widget-view+json": {
       "model_id": "5d20894e7cb54ab9a53400ffeafc5803",
       "version_major": 2,
       "version_minor": 0
      },
      "text/plain": [
       "  0%|          | 0/5 [00:00<?, ?it/s]"
      ]
     },
     "metadata": {},
     "output_type": "display_data"
    },
    {
     "name": "stdout",
     "output_type": "stream",
     "text": [
      "train 1 completed\n",
      "test 1 completed\n",
      "Epoch: 1 | train_loss: 0.5530 | train_acc: 0.7455 | test_loss: 0.4547 | test_acc: 0.8031 | time (sec): 141.11\n",
      "train 2 completed\n",
      "test 2 completed\n",
      "Epoch: 2 | train_loss: 0.4403 | train_acc: 0.8192 | test_loss: 0.4014 | test_acc: 0.8258 | time (sec): 139.99\n",
      "train 3 completed\n",
      "test 3 completed\n",
      "Epoch: 3 | train_loss: 0.4087 | train_acc: 0.8251 | test_loss: 0.3809 | test_acc: 0.8325 | time (sec): 140.08\n",
      "train 4 completed\n",
      "test 4 completed\n",
      "Epoch: 4 | train_loss: 0.3897 | train_acc: 0.8366 | test_loss: 0.3705 | test_acc: 0.8377 | time (sec): 140.03\n",
      "train 5 completed\n",
      "test 5 completed\n",
      "Epoch: 5 | train_loss: 0.3776 | train_acc: 0.8378 | test_loss: 0.3639 | test_acc: 0.8415 | time (sec): 141.57\n"
     ]
    }
   ],
   "source": [
    "# Define loss and optimizer\n",
    "loss_fn = nn.CrossEntropyLoss()\n",
    "optimizer = torch.optim.Adam(model.parameters(), lr=1e-3)\n",
    "set_seeds()\n",
    "results = train(model=model,\n",
    "                       train_dataloader=train_dataloader,\n",
    "                       test_dataloader=val_dataloader,\n",
    "                       optimizer=optimizer,\n",
    "                       loss_fn=loss_fn,\n",
    "                       epochs=5,\n",
    "                       device=device)"
   ]
  },
  {
   "cell_type": "code",
   "execution_count": 29,
   "id": "cddf064d-97d4-4670-a3bb-b40d073c12e0",
   "metadata": {},
   "outputs": [
    {
     "name": "stdout",
     "output_type": "stream",
     "text": [
      "average train accuracy: 0.8128326854066985\n",
      "average test accuracy: 0.8280979437229437\n"
     ]
    },
    {
     "data": {
      "image/png": "[encoded data removed]",
      "text/plain": [
       "<Figure size 1080x504 with 2 Axes>"
      ]
     },
     "metadata": {
      "needs_background": "light"
     },
     "output_type": "display_data"
    }
   ],
   "source": [
    "# Plot the loss curves of our model\n",
    "plot_loss_curves(results)"
   ]
  },
  {
   "cell_type": "code",
   "execution_count": 30,
   "id": "5461248a-c1d6-4f24-9aa2-849797a4c624",
   "metadata": {},
   "outputs": [
    {
     "data": {
      "image/png": "[encoded data removed]",
      "text/plain": [
       "<Figure size 720x504 with 2 Axes>"
      ]
     },
     "metadata": {
      "needs_background": "light"
     },
     "output_type": "display_data"
    }
   ],
   "source": [
    "plot_confision_matrix(model, val_dataloader, 2)"
   ]
  },
  {
   "cell_type": "markdown",
   "id": "4f0619de-dc2d-4890-a41b-da3024226b44",
   "metadata": {},
   "source": [
    "# fine-tune pre-trained BERT"
   ]
  },
  {
   "cell_type": "code",
   "execution_count": 31,
   "id": "884992b5-500e-48d4-8c25-e9df30887d94",
   "metadata": {},
   "outputs": [],
   "source": [
    "# Freeze all base layers in the \"features\" section of the model (the feature extractor) by setting requires_grad=False\n",
    "for param in model.parameters():\n",
    "    param.requires_grad = False"
   ]
  },
  {
   "cell_type": "code",
   "execution_count": 32,
   "id": "2333346f-8d8d-4ebb-ad03-54de59406b33",
   "metadata": {},
   "outputs": [
    {
     "data": {
      "text/plain": [
       "BertLayer(\n",
       "  (attention): BertAttention(\n",
       "    (self): BertSelfAttention(\n",
       "      (query): Linear(in_features=768, out_features=768, bias=True)\n",
       "      (key): Linear(in_features=768, out_features=768, bias=True)\n",
       "      (value): Linear(in_features=768, out_features=768, bias=True)\n",
       "      (dropout): Dropout(p=0.1, inplace=False)\n",
       "    )\n",
       "    (output): BertSelfOutput(\n",
       "      (dense): Linear(in_features=768, out_features=768, bias=True)\n",
       "      (LayerNorm): LayerNorm((768,), eps=1e-12, elementwise_affine=True)\n",
       "      (dropout): Dropout(p=0.1, inplace=False)\n",
       "    )\n",
       "  )\n",
       "  (intermediate): BertIntermediate(\n",
       "    (dense): Linear(in_features=768, out_features=3072, bias=True)\n",
       "    (intermediate_act_fn): GELUActivation()\n",
       "  )\n",
       "  (output): BertOutput(\n",
       "    (dense): Linear(in_features=3072, out_features=768, bias=True)\n",
       "    (LayerNorm): LayerNorm((768,), eps=1e-12, elementwise_affine=True)\n",
       "    (dropout): Dropout(p=0.1, inplace=False)\n",
       "  )\n",
       ")"
      ]
     },
     "execution_count": 32,
     "metadata": {},
     "output_type": "execute_result"
    }
   ],
   "source": [
    "model.bert.encoder.layer[11]"
   ]
  },
  {
   "cell_type": "code",
   "execution_count": 33,
   "id": "905a7886-f7b6-499f-960e-600fa33ec070",
   "metadata": {},
   "outputs": [],
   "source": [
    "# unfreeze the lasr layer of pre-trained BERT\n",
    "for param in model.bert.encoder.layer[11].parameters(): # unfreeze linear layer\n",
    "    param.requires_grad = True"
   ]
  },
  {
   "cell_type": "code",
   "execution_count": 34,
   "id": "01869514-5067-4f2d-8622-40277ed2f0b1",
   "metadata": {},
   "outputs": [
    {
     "data": {
      "application/vnd.jupyter.widget-view+json": {
       "model_id": "d65eedfcc9da456e998d2e952c17f181",
       "version_major": 2,
       "version_minor": 0
      },
      "text/plain": [
       "  0%|          | 0/5 [00:00<?, ?it/s]"
      ]
     },
     "metadata": {},
     "output_type": "display_data"
    },
    {
     "name": "stdout",
     "output_type": "stream",
     "text": [
      "train 1 completed\n",
      "test 1 completed\n",
      "Epoch: 1 | train_loss: 0.5008 | train_acc: 0.8178 | test_loss: 0.3216 | test_acc: 0.8603 | time (sec): 146.39\n",
      "train 2 completed\n",
      "test 2 completed\n",
      "Epoch: 2 | train_loss: 0.3083 | train_acc: 0.8712 | test_loss: 0.2855 | test_acc: 0.8762 | time (sec): 146.41\n",
      "train 3 completed\n",
      "test 3 completed\n",
      "Epoch: 3 | train_loss: 0.2669 | train_acc: 0.8856 | test_loss: 0.3358 | test_acc: 0.8624 | time (sec): 146.57\n",
      "train 4 completed\n",
      "test 4 completed\n",
      "Epoch: 4 | train_loss: 0.2445 | train_acc: 0.8931 | test_loss: 0.3279 | test_acc: 0.8663 | time (sec): 146.64\n",
      "train 5 completed\n",
      "test 5 completed\n",
      "Epoch: 5 | train_loss: 0.2265 | train_acc: 0.9035 | test_loss: 0.3132 | test_acc: 0.8858 | time (sec): 146.54\n"
     ]
    }
   ],
   "source": [
    "# Define loss and optimizer\n",
    "loss_fn = nn.CrossEntropyLoss()\n",
    "optimizer = torch.optim.Adam(model.parameters(), lr=1e-3)\n",
    "set_seeds()\n",
    "results = train(model=model,\n",
    "                       train_dataloader=train_dataloader,\n",
    "                       test_dataloader=val_dataloader,\n",
    "                       optimizer=optimizer,\n",
    "                       loss_fn=loss_fn,\n",
    "                       epochs=5,\n",
    "                       device=device)"
   ]
  },
  {
   "cell_type": "code",
   "execution_count": 35,
   "id": "21ab5d9a-32e8-484a-b5a5-ab53788be560",
   "metadata": {},
   "outputs": [
    {
     "name": "stdout",
     "output_type": "stream",
     "text": [
      "average train accuracy: 0.8742486543062201\n",
      "average test accuracy: 0.8701704545454545\n"
     ]
    },
    {
     "data": {
      "image/png": "[encoded data removed]",
      "text/plain": [
       "<Figure size 1080x504 with 2 Axes>"
      ]
     },
     "metadata": {
      "needs_background": "light"
     },
     "output_type": "display_data"
    }
   ],
   "source": [
    "# Plot the loss curves of our model\n",
    "plot_loss_curves(results)"
   ]
  },
  {
   "cell_type": "code",
   "execution_count": 36,
   "id": "dcfa6773-129e-4d58-829b-a3af9ddcba43",
   "metadata": {},
   "outputs": [
    {
     "data": {
      "image/png": "[encoded data removed]",
      "text/plain": [
       "<Figure size 720x504 with 2 Axes>"
      ]
     },
     "metadata": {
      "needs_background": "light"
     },
     "output_type": "display_data"
    }
   ],
   "source": [
    "plot_confision_matrix(model, val_dataloader, 2)"
   ]
  },
  {
   "cell_type": "code",
   "execution_count": null,
   "id": "0a6eca3d-7fa1-4462-8106-8d871bf1b806",
   "metadata": {},
   "outputs": [],
   "source": []
  }
 ],
 "metadata": {
  "kernelspec": {
   "display_name": "Python 3 (ipykernel)",
   "language": "python",
   "name": "python3"
  },
  "language_info": {
   "codemirror_mode": {
    "name": "ipython",
    "version": 3
   },
   "file_extension": ".py",
   "mimetype": "text/x-python",
   "name": "python",
   "nbconvert_exporter": "python",
   "pygments_lexer": "ipython3",
   "version": "3.9.12"
  }
 },
 "nbformat": 4,
 "nbformat_minor": 5
}
