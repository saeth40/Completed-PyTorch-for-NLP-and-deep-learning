{
 "cells": [
  {
   "cell_type": "markdown",
   "id": "28f16a92-4d68-42b4-9d4f-4548a4ae3d5b",
   "metadata": {},
   "source": [
    "# load dataset"
   ]
  },
  {
   "cell_type": "code",
   "execution_count": 1,
   "id": "e7aa35e3-1869-431c-b89f-61393954a924",
   "metadata": {},
   "outputs": [],
   "source": [
    "import pandas as pd\n",
    "import numpy as np\n",
    "from sklearn.preprocessing import MinMaxScaler\n",
    "import math\n",
    "from sklearn.metrics import mean_squared_error\n",
    "import torch\n",
    "from torch import nn\n",
    "from torch.utils.data import DataLoader, Dataset\n",
    "from torchvision import datasets, transforms\n",
    "import requests\n",
    "import io\n",
    "from typing import Tuple, Dict, List\n",
    "from torchinfo import summary\n",
    "import tqdm\n",
    "import matplotlib.pyplot as plt"
   ]
  },
  {
   "cell_type": "code",
   "execution_count": 2,
   "id": "65567065-48c6-41bd-bdf1-6846c7d7b650",
   "metadata": {},
   "outputs": [
    {
     "data": {
      "text/plain": [
       "'cuda'"
      ]
     },
     "execution_count": 2,
     "metadata": {},
     "output_type": "execute_result"
    }
   ],
   "source": [
    "# Setup device-agnostic code\n",
    "device = \"cuda\" if torch.cuda.is_available() else \"cpu\"\n",
    "device"
   ]
  },
  {
   "cell_type": "code",
   "execution_count": 3,
   "id": "21d76d35-d311-4448-a2b3-bd21b776195a",
   "metadata": {},
   "outputs": [
    {
     "data": {
      "text/html": [
       "<div>\n",
       "<style scoped>\n",
       "    .dataframe tbody tr th:only-of-type {\n",
       "        vertical-align: middle;\n",
       "    }\n",
       "\n",
       "    .dataframe tbody tr th {\n",
       "        vertical-align: top;\n",
       "    }\n",
       "\n",
       "    .dataframe thead th {\n",
       "        text-align: right;\n",
       "    }\n",
       "</style>\n",
       "<table border=\"1\" class=\"dataframe\">\n",
       "  <thead>\n",
       "    <tr style=\"text-align: right;\">\n",
       "      <th></th>\n",
       "      <th>Unnamed: 0</th>\n",
       "      <th>symbol</th>\n",
       "      <th>date</th>\n",
       "      <th>close</th>\n",
       "      <th>high</th>\n",
       "      <th>low</th>\n",
       "      <th>open</th>\n",
       "      <th>volume</th>\n",
       "      <th>adjClose</th>\n",
       "      <th>adjHigh</th>\n",
       "      <th>adjLow</th>\n",
       "      <th>adjOpen</th>\n",
       "      <th>adjVolume</th>\n",
       "      <th>divCash</th>\n",
       "      <th>splitFactor</th>\n",
       "    </tr>\n",
       "  </thead>\n",
       "  <tbody>\n",
       "    <tr>\n",
       "      <th>0</th>\n",
       "      <td>0</td>\n",
       "      <td>AAPL</td>\n",
       "      <td>2015-05-27 00:00:00+00:00</td>\n",
       "      <td>132.045</td>\n",
       "      <td>132.260</td>\n",
       "      <td>130.0500</td>\n",
       "      <td>130.34</td>\n",
       "      <td>45833246</td>\n",
       "      <td>121.682558</td>\n",
       "      <td>121.880685</td>\n",
       "      <td>119.844118</td>\n",
       "      <td>120.111360</td>\n",
       "      <td>45833246</td>\n",
       "      <td>0.0</td>\n",
       "      <td>1.0</td>\n",
       "    </tr>\n",
       "    <tr>\n",
       "      <th>1</th>\n",
       "      <td>1</td>\n",
       "      <td>AAPL</td>\n",
       "      <td>2015-05-28 00:00:00+00:00</td>\n",
       "      <td>131.780</td>\n",
       "      <td>131.950</td>\n",
       "      <td>131.1000</td>\n",
       "      <td>131.86</td>\n",
       "      <td>30733309</td>\n",
       "      <td>121.438354</td>\n",
       "      <td>121.595013</td>\n",
       "      <td>120.811718</td>\n",
       "      <td>121.512076</td>\n",
       "      <td>30733309</td>\n",
       "      <td>0.0</td>\n",
       "      <td>1.0</td>\n",
       "    </tr>\n",
       "    <tr>\n",
       "      <th>2</th>\n",
       "      <td>2</td>\n",
       "      <td>AAPL</td>\n",
       "      <td>2015-05-29 00:00:00+00:00</td>\n",
       "      <td>130.280</td>\n",
       "      <td>131.450</td>\n",
       "      <td>129.9000</td>\n",
       "      <td>131.23</td>\n",
       "      <td>50884452</td>\n",
       "      <td>120.056069</td>\n",
       "      <td>121.134251</td>\n",
       "      <td>119.705890</td>\n",
       "      <td>120.931516</td>\n",
       "      <td>50884452</td>\n",
       "      <td>0.0</td>\n",
       "      <td>1.0</td>\n",
       "    </tr>\n",
       "    <tr>\n",
       "      <th>3</th>\n",
       "      <td>3</td>\n",
       "      <td>AAPL</td>\n",
       "      <td>2015-06-01 00:00:00+00:00</td>\n",
       "      <td>130.535</td>\n",
       "      <td>131.390</td>\n",
       "      <td>130.0500</td>\n",
       "      <td>131.20</td>\n",
       "      <td>32112797</td>\n",
       "      <td>120.291057</td>\n",
       "      <td>121.078960</td>\n",
       "      <td>119.844118</td>\n",
       "      <td>120.903870</td>\n",
       "      <td>32112797</td>\n",
       "      <td>0.0</td>\n",
       "      <td>1.0</td>\n",
       "    </tr>\n",
       "    <tr>\n",
       "      <th>4</th>\n",
       "      <td>4</td>\n",
       "      <td>AAPL</td>\n",
       "      <td>2015-06-02 00:00:00+00:00</td>\n",
       "      <td>129.960</td>\n",
       "      <td>130.655</td>\n",
       "      <td>129.3200</td>\n",
       "      <td>129.86</td>\n",
       "      <td>33667627</td>\n",
       "      <td>119.761181</td>\n",
       "      <td>120.401640</td>\n",
       "      <td>119.171406</td>\n",
       "      <td>119.669029</td>\n",
       "      <td>33667627</td>\n",
       "      <td>0.0</td>\n",
       "      <td>1.0</td>\n",
       "    </tr>\n",
       "    <tr>\n",
       "      <th>...</th>\n",
       "      <td>...</td>\n",
       "      <td>...</td>\n",
       "      <td>...</td>\n",
       "      <td>...</td>\n",
       "      <td>...</td>\n",
       "      <td>...</td>\n",
       "      <td>...</td>\n",
       "      <td>...</td>\n",
       "      <td>...</td>\n",
       "      <td>...</td>\n",
       "      <td>...</td>\n",
       "      <td>...</td>\n",
       "      <td>...</td>\n",
       "      <td>...</td>\n",
       "      <td>...</td>\n",
       "    </tr>\n",
       "    <tr>\n",
       "      <th>1253</th>\n",
       "      <td>1253</td>\n",
       "      <td>AAPL</td>\n",
       "      <td>2020-05-18 00:00:00+00:00</td>\n",
       "      <td>314.960</td>\n",
       "      <td>316.500</td>\n",
       "      <td>310.3241</td>\n",
       "      <td>313.17</td>\n",
       "      <td>33843125</td>\n",
       "      <td>314.960000</td>\n",
       "      <td>316.500000</td>\n",
       "      <td>310.324100</td>\n",
       "      <td>313.170000</td>\n",
       "      <td>33843125</td>\n",
       "      <td>0.0</td>\n",
       "      <td>1.0</td>\n",
       "    </tr>\n",
       "    <tr>\n",
       "      <th>1254</th>\n",
       "      <td>1254</td>\n",
       "      <td>AAPL</td>\n",
       "      <td>2020-05-19 00:00:00+00:00</td>\n",
       "      <td>313.140</td>\n",
       "      <td>318.520</td>\n",
       "      <td>313.0100</td>\n",
       "      <td>315.03</td>\n",
       "      <td>25432385</td>\n",
       "      <td>313.140000</td>\n",
       "      <td>318.520000</td>\n",
       "      <td>313.010000</td>\n",
       "      <td>315.030000</td>\n",
       "      <td>25432385</td>\n",
       "      <td>0.0</td>\n",
       "      <td>1.0</td>\n",
       "    </tr>\n",
       "    <tr>\n",
       "      <th>1255</th>\n",
       "      <td>1255</td>\n",
       "      <td>AAPL</td>\n",
       "      <td>2020-05-20 00:00:00+00:00</td>\n",
       "      <td>319.230</td>\n",
       "      <td>319.520</td>\n",
       "      <td>316.2000</td>\n",
       "      <td>316.68</td>\n",
       "      <td>27876215</td>\n",
       "      <td>319.230000</td>\n",
       "      <td>319.520000</td>\n",
       "      <td>316.200000</td>\n",
       "      <td>316.680000</td>\n",
       "      <td>27876215</td>\n",
       "      <td>0.0</td>\n",
       "      <td>1.0</td>\n",
       "    </tr>\n",
       "    <tr>\n",
       "      <th>1256</th>\n",
       "      <td>1256</td>\n",
       "      <td>AAPL</td>\n",
       "      <td>2020-05-21 00:00:00+00:00</td>\n",
       "      <td>316.850</td>\n",
       "      <td>320.890</td>\n",
       "      <td>315.8700</td>\n",
       "      <td>318.66</td>\n",
       "      <td>25672211</td>\n",
       "      <td>316.850000</td>\n",
       "      <td>320.890000</td>\n",
       "      <td>315.870000</td>\n",
       "      <td>318.660000</td>\n",
       "      <td>25672211</td>\n",
       "      <td>0.0</td>\n",
       "      <td>1.0</td>\n",
       "    </tr>\n",
       "    <tr>\n",
       "      <th>1257</th>\n",
       "      <td>1257</td>\n",
       "      <td>AAPL</td>\n",
       "      <td>2020-05-22 00:00:00+00:00</td>\n",
       "      <td>318.890</td>\n",
       "      <td>319.230</td>\n",
       "      <td>315.3500</td>\n",
       "      <td>315.77</td>\n",
       "      <td>20450754</td>\n",
       "      <td>318.890000</td>\n",
       "      <td>319.230000</td>\n",
       "      <td>315.350000</td>\n",
       "      <td>315.770000</td>\n",
       "      <td>20450754</td>\n",
       "      <td>0.0</td>\n",
       "      <td>1.0</td>\n",
       "    </tr>\n",
       "  </tbody>\n",
       "</table>\n",
       "<p>1258 rows × 15 columns</p>\n",
       "</div>"
      ],
      "text/plain": [
       "      Unnamed: 0 symbol                       date    close     high  \\\n",
       "0              0   AAPL  2015-05-27 00:00:00+00:00  132.045  132.260   \n",
       "1              1   AAPL  2015-05-28 00:00:00+00:00  131.780  131.950   \n",
       "2              2   AAPL  2015-05-29 00:00:00+00:00  130.280  131.450   \n",
       "3              3   AAPL  2015-06-01 00:00:00+00:00  130.535  131.390   \n",
       "4              4   AAPL  2015-06-02 00:00:00+00:00  129.960  130.655   \n",
       "...          ...    ...                        ...      ...      ...   \n",
       "1253        1253   AAPL  2020-05-18 00:00:00+00:00  314.960  316.500   \n",
       "1254        1254   AAPL  2020-05-19 00:00:00+00:00  313.140  318.520   \n",
       "1255        1255   AAPL  2020-05-20 00:00:00+00:00  319.230  319.520   \n",
       "1256        1256   AAPL  2020-05-21 00:00:00+00:00  316.850  320.890   \n",
       "1257        1257   AAPL  2020-05-22 00:00:00+00:00  318.890  319.230   \n",
       "\n",
       "           low    open    volume    adjClose     adjHigh      adjLow  \\\n",
       "0     130.0500  130.34  45833246  121.682558  121.880685  119.844118   \n",
       "1     131.1000  131.86  30733309  121.438354  121.595013  120.811718   \n",
       "2     129.9000  131.23  50884452  120.056069  121.134251  119.705890   \n",
       "3     130.0500  131.20  32112797  120.291057  121.078960  119.844118   \n",
       "4     129.3200  129.86  33667627  119.761181  120.401640  119.171406   \n",
       "...        ...     ...       ...         ...         ...         ...   \n",
       "1253  310.3241  313.17  33843125  314.960000  316.500000  310.324100   \n",
       "1254  313.0100  315.03  25432385  313.140000  318.520000  313.010000   \n",
       "1255  316.2000  316.68  27876215  319.230000  319.520000  316.200000   \n",
       "1256  315.8700  318.66  25672211  316.850000  320.890000  315.870000   \n",
       "1257  315.3500  315.77  20450754  318.890000  319.230000  315.350000   \n",
       "\n",
       "         adjOpen  adjVolume  divCash  splitFactor  \n",
       "0     120.111360   45833246      0.0          1.0  \n",
       "1     121.512076   30733309      0.0          1.0  \n",
       "2     120.931516   50884452      0.0          1.0  \n",
       "3     120.903870   32112797      0.0          1.0  \n",
       "4     119.669029   33667627      0.0          1.0  \n",
       "...          ...        ...      ...          ...  \n",
       "1253  313.170000   33843125      0.0          1.0  \n",
       "1254  315.030000   25432385      0.0          1.0  \n",
       "1255  316.680000   27876215      0.0          1.0  \n",
       "1256  318.660000   25672211      0.0          1.0  \n",
       "1257  315.770000   20450754      0.0          1.0  \n",
       "\n",
       "[1258 rows x 15 columns]"
      ]
     },
     "execution_count": 3,
     "metadata": {},
     "output_type": "execute_result"
    }
   ],
   "source": [
    "\n",
    "    \n",
    "# Downloading the csv file from your GitHub account\n",
    "\n",
    "url = \"https://raw.githubusercontent.com/krishnaik06/Stock-MArket-Forecasting/master/AAPL.csv\" # Make sure the url is the raw version of the file on GitHub\n",
    "download = requests.get(url).content\n",
    "\n",
    "# Reading the downloaded content and turning it into a pandas dataframe\n",
    "\n",
    "df = pd.read_csv(io.StringIO(download.decode('utf-8')))\n",
    "\n",
    "# Printing out the first 5 rows of the dataframe\n",
    "\n",
    "df"
   ]
  },
  {
   "cell_type": "markdown",
   "id": "b86eff30-9547-4125-85a7-4b46612c8fdf",
   "metadata": {
    "tags": []
   },
   "source": [
    "# case 1 'close' prediction with previous 'close'"
   ]
  },
  {
   "cell_type": "markdown",
   "id": "31d58098-b82d-4105-8316-2f124be46e2c",
   "metadata": {
    "tags": []
   },
   "source": [
    "## pytorch"
   ]
  },
  {
   "cell_type": "code",
   "execution_count": 4,
   "id": "14b30b72-54e8-4d3b-9ec2-2085dbca8017",
   "metadata": {},
   "outputs": [
    {
     "data": {
      "text/plain": [
       "0       132.045\n",
       "1       131.780\n",
       "2       130.280\n",
       "3       130.535\n",
       "4       129.960\n",
       "         ...   \n",
       "1253    314.960\n",
       "1254    313.140\n",
       "1255    319.230\n",
       "1256    316.850\n",
       "1257    318.890\n",
       "Name: close, Length: 1258, dtype: float64"
      ]
     },
     "execution_count": 4,
     "metadata": {},
     "output_type": "execute_result"
    }
   ],
   "source": [
    "df_close = df['close']\n",
    "df_close"
   ]
  },
  {
   "cell_type": "code",
   "execution_count": 5,
   "id": "38d5af7d-1394-4f5d-928f-64c52abb9253",
   "metadata": {},
   "outputs": [
    {
     "data": {
      "text/plain": [
       "(1258,)"
      ]
     },
     "execution_count": 5,
     "metadata": {},
     "output_type": "execute_result"
    }
   ],
   "source": [
    "np.array(df_close).shape"
   ]
  },
  {
   "cell_type": "code",
   "execution_count": 6,
   "id": "49205454-7231-4932-a539-f242b056afc5",
   "metadata": {},
   "outputs": [
    {
     "data": {
      "text/plain": [
       "array([[0.17607447],\n",
       "       [0.17495567],\n",
       "       [0.16862282],\n",
       "       ...,\n",
       "       [0.96635143],\n",
       "       [0.9563033 ],\n",
       "       [0.96491598]])"
      ]
     },
     "execution_count": 6,
     "metadata": {},
     "output_type": "execute_result"
    }
   ],
   "source": [
    "# LSTM are sensitive to the scale of the data. so we apply MinMax scaler \n",
    "scaler=MinMaxScaler(feature_range=(0,1))\n",
    "scaler.fit(np.array(df_close).reshape(-1,1))\n",
    "df_close=scaler.transform(np.array(df_close).reshape(-1,1))\n",
    "df_close"
   ]
  },
  {
   "attachments": {
    "56d6eda9-9d47-4910-91e1-883962770ca3.png": {
     "image/png": "[encoded data removed]"
    }
   },
   "cell_type": "markdown",
   "id": "c601e8a6-af13-47d2-a339-93f1ec93eefa",
   "metadata": {},
   "source": [
    "![image.png](attachment:56d6eda9-9d47-4910-91e1-883962770ca3.png)"
   ]
  },
  {
   "cell_type": "code",
   "execution_count": 7,
   "id": "359b4ff9-e1a1-48e6-a3ae-587644c71bd1",
   "metadata": {},
   "outputs": [
    {
     "data": {
      "text/plain": [
       "(1258, 1)"
      ]
     },
     "execution_count": 7,
     "metadata": {},
     "output_type": "execute_result"
    }
   ],
   "source": [
    "df_close.shape"
   ]
  },
  {
   "cell_type": "code",
   "execution_count": 8,
   "id": "d463483f-b406-40d6-a530-ba0ad31aa962",
   "metadata": {},
   "outputs": [
    {
     "data": {
      "text/plain": [
       "array([[0.17607447],\n",
       "       [0.17495567],\n",
       "       [0.16862282]])"
      ]
     },
     "execution_count": 8,
     "metadata": {},
     "output_type": "execute_result"
    }
   ],
   "source": [
    "df_close[:3]"
   ]
  },
  {
   "cell_type": "code",
   "execution_count": 9,
   "id": "198c8131-5a8d-4894-b3ef-de408be4d740",
   "metadata": {},
   "outputs": [],
   "source": [
    "##splitting dataset into train and test split\n",
    "training_size=int(len(df_close)*0.65)\n",
    "test_size=len(df_close)-training_size\n",
    "train_data,test_data=df_close[0:training_size],df_close[training_size:len(df_close)]"
   ]
  },
  {
   "cell_type": "code",
   "execution_count": 10,
   "id": "433080ae-2422-4e46-a686-71c372012bd2",
   "metadata": {},
   "outputs": [
    {
     "data": {
      "text/plain": [
       "817"
      ]
     },
     "execution_count": 10,
     "metadata": {},
     "output_type": "execute_result"
    }
   ],
   "source": [
    "len(train_data)"
   ]
  },
  {
   "cell_type": "code",
   "execution_count": 11,
   "id": "15652cf3-3c69-432b-bdde-56b62209c215",
   "metadata": {},
   "outputs": [
    {
     "data": {
      "text/plain": [
       "441"
      ]
     },
     "execution_count": 11,
     "metadata": {},
     "output_type": "execute_result"
    }
   ],
   "source": [
    "len(test_data)"
   ]
  },
  {
   "cell_type": "code",
   "execution_count": 12,
   "id": "d3a8db7e-bd1c-48d0-9fd8-bfe3e042d115",
   "metadata": {},
   "outputs": [
    {
     "data": {
      "text/plain": [
       "array([[0.17607447],\n",
       "       [0.17495567],\n",
       "       [0.16862282],\n",
       "       [0.1696994 ],\n",
       "       [0.16727181]])"
      ]
     },
     "execution_count": 12,
     "metadata": {},
     "output_type": "execute_result"
    }
   ],
   "source": [
    "train_data[:5]"
   ]
  },
  {
   "cell_type": "code",
   "execution_count": 13,
   "id": "f54221df-bd08-4ee8-9bfc-4a143a02c676",
   "metadata": {},
   "outputs": [
    {
     "data": {
      "text/plain": [
       "'1.12.0'"
      ]
     },
     "execution_count": 13,
     "metadata": {},
     "output_type": "execute_result"
    }
   ],
   "source": [
    "\n",
    "# Note: this notebook requires torch >= 1.10.0\n",
    "torch.__version__"
   ]
  },
  {
   "cell_type": "code",
   "execution_count": 14,
   "id": "90c66c81-0ce7-4154-b1c8-4b09c0d89d00",
   "metadata": {},
   "outputs": [
    {
     "data": {
      "text/plain": [
       "(<torch.utils.data.dataloader.DataLoader at 0x23a987e0730>,\n",
       " <torch.utils.data.dataloader.DataLoader at 0x23a987e06d0>)"
      ]
     },
     "execution_count": 14,
     "metadata": {},
     "output_type": "execute_result"
    }
   ],
   "source": [
    "class StockDataset(Dataset):\n",
    "    def __init__(self,data,seq_len = 100):\n",
    "        self.data = data\n",
    "        self.seq_len = seq_len\n",
    "        \n",
    "    def __len__(self):\n",
    "        return len(self.data)-self.seq_len-1\n",
    "\n",
    "    def __getitem__(self, index: int)-> Tuple[torch.Tensor, torch.Tensor] :\n",
    "        x = self.data[index : index+self.seq_len]\n",
    "        y = self.data[index+self.seq_len]\n",
    "        x = torch.from_numpy(x).float()\n",
    "        y = torch.from_numpy(y).float()\n",
    "        return  x, y\n",
    "\n",
    "\n",
    "train_dataset = StockDataset(train_data) \n",
    "test_dataset = StockDataset(test_data)\n",
    "\n",
    "batch_size = 64\n",
    "train_dataloader = DataLoader(train_dataset,batch_size)\n",
    "test_dataloader = DataLoader(test_dataset,batch_size)\n",
    "train_dataloader, test_dataloader"
   ]
  },
  {
   "cell_type": "code",
   "execution_count": 15,
   "id": "6424e93c-2652-44c8-9d54-a4c3a3a30bd7",
   "metadata": {},
   "outputs": [],
   "source": [
    "# Set seeds\n",
    "def set_seeds(seed: int=42):\n",
    "    \"\"\"Sets random sets for torch operations.\n",
    "\n",
    "    Args:\n",
    "        seed (int, optional): Random seed to set. Defaults to 42.\n",
    "    \"\"\"\n",
    "    # Set the seed for general torch operations\n",
    "    torch.manual_seed(seed)\n",
    "    # Set the seed for CUDA torch operations (ones that happen on the GPU)\n",
    "    torch.cuda.manual_seed(seed)"
   ]
  },
  {
   "cell_type": "code",
   "execution_count": 16,
   "id": "f91de293-699f-45d9-9e56-9ec5f7534bc1",
   "metadata": {},
   "outputs": [],
   "source": [
    "from tqdm.auto import tqdm\n",
    "import timeit\n",
    "\n",
    "def train_step(model: torch.nn.Module, \n",
    "               dataloader: torch.utils.data.DataLoader, \n",
    "               loss_fn: torch.nn.Module, \n",
    "               optimizer: torch.optim.Optimizer,\n",
    "               device: torch.device) -> Tuple[float, float]:\n",
    "    \"\"\"Trains a PyTorch model for a single epoch.\n",
    "\n",
    "    Turns a target PyTorch model to training mode and then\n",
    "    runs through all of the required training steps (forward\n",
    "    pass, loss calculation, optimizer step).\n",
    "\n",
    "    Args:\n",
    "    model: A PyTorch model to be trained.\n",
    "    dataloader: A DataLoader instance for the model to be trained on.\n",
    "    loss_fn: A PyTorch loss function to minimize.\n",
    "    optimizer: A PyTorch optimizer to help minimize the loss function.\n",
    "    device: A target device to compute on (e.g. \"cuda\" or \"cpu\").\n",
    "\n",
    "    Returns:\n",
    "    A tuple of training loss and training accuracy metrics.\n",
    "    In the form (train_loss, train_accuracy). For example:\n",
    "\n",
    "    (0.1112, 0.8743)\n",
    "    \"\"\"\n",
    "    # Put model in train mode\n",
    "    model.train()\n",
    "\n",
    "    # Setup train loss and train accuracy values\n",
    "    train_loss = 0\n",
    "\n",
    "    # Loop through data loader data batches\n",
    "    for batch, (X, y) in enumerate(dataloader):\n",
    "        # Send data to target device\n",
    "        batch_size, seq_len, feature = X.shape\n",
    "        X, y = X.to(device), y.to(device)\n",
    "\n",
    "        # 1. Forward pass\n",
    "        y_pred = model(X)\n",
    "\n",
    "        # 2. Calculate  and accumulate loss\n",
    "        loss = loss_fn(y_pred.reshape(batch_size), y.reshape(batch_size))\n",
    "        train_loss += loss.item() \n",
    "\n",
    "        # 3. Optimizer zero grad\n",
    "        optimizer.zero_grad()\n",
    "\n",
    "        # 4. Loss backward\n",
    "        loss.backward()\n",
    "\n",
    "        # 5. Optimizer step\n",
    "        optimizer.step()\n",
    "\n",
    "        # Calculate and accumulate accuracy metric across all batches\n",
    "        #delta_y = y.detach().cpu().numpy() - y_pred.detach().cpu().numpy()\n",
    "        #train_acc+= (np.sum((y.detach().cpu().numpy()-delta_y)/y.detach().cpu().numpy())/len(y))*100\n",
    "\n",
    "    # Adjust metrics to get average loss and accuracy per batch \n",
    "    train_loss = train_loss / len(dataloader)\n",
    "    #train_acc = train_acc / len(dataloader)\n",
    "    return train_loss\n",
    "\n",
    "def test_step(model: torch.nn.Module, \n",
    "              dataloader: torch.utils.data.DataLoader, \n",
    "              loss_fn: torch.nn.Module,\n",
    "              device: torch.device) -> Tuple[float, float]:\n",
    "    \"\"\"Tests a PyTorch model for a single epoch.\n",
    "\n",
    "    Turns a target PyTorch model to \"eval\" mode and then performs\n",
    "    a forward pass on a testing dataset.\n",
    "\n",
    "    Args:\n",
    "    model: A PyTorch model to be tested.\n",
    "    dataloader: A DataLoader instance for the model to be tested on.\n",
    "    loss_fn: A PyTorch loss function to calculate loss on the test data.\n",
    "    device: A target device to compute on (e.g. \"cuda\" or \"cpu\").\n",
    "\n",
    "    Returns:\n",
    "    A tuple of testing loss and testing accuracy metrics.\n",
    "    In the form (test_loss, test_accuracy). For example:\n",
    "\n",
    "    (0.0223, 0.8985)\n",
    "    \"\"\"\n",
    "    # Put model in eval mode\n",
    "    model.eval() \n",
    "\n",
    "    # Setup test loss and test accuracy values\n",
    "    test_loss = 0\n",
    "\n",
    "    # Turn on inference context manager\n",
    "    with torch.inference_mode():\n",
    "        # Loop through DataLoader batches\n",
    "        for batch, (X, y) in enumerate(dataloader):\n",
    "            # Send data to target device\n",
    "            X, y = X.to(device), y.to(device)\n",
    "            batch_size, seq_len, feature = X.shape\n",
    "\n",
    "            # 1. Forward pass\n",
    "            test_pred_logits = model(X)\n",
    "\n",
    "            # 2. Calculate and accumulate loss\n",
    "            loss = loss_fn(test_pred_logits.reshape(batch_size), y.reshape(batch_size))\n",
    "            test_loss += loss.item()\n",
    "\n",
    "            # Calculate and accumulate accuracy\n",
    "            #delta_y = y.detach().cpu().numpy() - test_pred_logits.detach().cpu().numpy()\n",
    "            #test_acc+= (np.sum((y.detach().cpu().numpy()-delta_y)/y.detach().cpu().numpy())/len(y))*100\n",
    "\n",
    "    # Adjust metrics to get average loss and accuracy per batch \n",
    "    test_loss = test_loss / len(dataloader)\n",
    "    #test_acc = test_acc / len(dataloader)\n",
    "    return test_loss\n",
    "\n",
    "def train(model: torch.nn.Module, \n",
    "          train_dataloader: torch.utils.data.DataLoader, \n",
    "          test_dataloader: torch.utils.data.DataLoader, \n",
    "          optimizer: torch.optim.Optimizer,\n",
    "          loss_fn: torch.nn.Module,\n",
    "          epochs: int,\n",
    "          device: torch.device) -> Dict[str, List]:\n",
    "    \"\"\"Trains and tests a PyTorch model.\n",
    "\n",
    "    Passes a target PyTorch models through train_step() and test_step()\n",
    "    functions for a number of epochs, training and testing the model\n",
    "    in the same epoch loop.\n",
    "\n",
    "    Calculates, prints and stores evaluation metrics throughout.\n",
    "\n",
    "    Args:\n",
    "    model: A PyTorch model to be trained and tested.\n",
    "    train_dataloader: A DataLoader instance for the model to be trained on.\n",
    "    test_dataloader: A DataLoader instance for the model to be tested on.\n",
    "    optimizer: A PyTorch optimizer to help minimize the loss function.\n",
    "    loss_fn: A PyTorch loss function to calculate loss on both datasets.\n",
    "    epochs: An integer indicating how many epochs to train for.\n",
    "    device: A target device to compute on (e.g. \"cuda\" or \"cpu\").\n",
    "\n",
    "    Returns:\n",
    "    A dictionary of training and testing loss as well as training and\n",
    "    testing accuracy metrics. Each metric has a value in a list for \n",
    "    each epoch.\n",
    "    In the form: {train_loss: [...],\n",
    "              train_acc: [...],\n",
    "              test_loss: [...],\n",
    "              test_acc: [...]} \n",
    "    For example if training for epochs=2: \n",
    "             {train_loss: [2.0616, 1.0537],\n",
    "              train_acc: [0.3945, 0.3945],\n",
    "              test_loss: [1.2641, 1.5706],\n",
    "              test_acc: [0.3400, 0.2973]} \n",
    "    \"\"\"\n",
    "    \n",
    "    # track accuracy (if it doesn't increase, reducr the learning rate)\n",
    "    #scheduler = torch.optim.lr_scheduler.ReduceLROnPlateau(optimizer, mode='min', patience=1, verbose=True)\n",
    "    \n",
    "    #early_stop_count=0\n",
    "    \n",
    "    # Create empty results dictionary\n",
    "    results = {\"train_loss\": [],\n",
    "               \"test_loss\": []\n",
    "    }\n",
    "    \n",
    "    # Make sure model on target device\n",
    "    model.to(device)\n",
    "\n",
    "    # Loop through training and testing steps for a number of epochs\n",
    "    for epoch in tqdm(range(epochs)):\n",
    "        start = timeit.default_timer()\n",
    "        train_loss = train_step(model=model,\n",
    "                                          dataloader=train_dataloader,\n",
    "                                          loss_fn=loss_fn,\n",
    "                                          optimizer=optimizer,\n",
    "                                          device=device)\n",
    "        test_loss = test_step(model=model,\n",
    "          dataloader=test_dataloader,\n",
    "          loss_fn=loss_fn,\n",
    "          device=device)\n",
    "        \n",
    "        stop = timeit.default_timer()\n",
    "\n",
    "        # Print out what's happening\n",
    "        print(\n",
    "          f\"Epoch: {epoch+1} | \"\n",
    "          f\"train_loss: {train_loss:.4f} | \"\n",
    "          f\"test_loss: {test_loss:.4f} | \"\n",
    "          f\"time (sec): {stop-start:.2f}\"\n",
    "        )\n",
    "        \n",
    "        #scheduler.step(test_loss) # monitor test accuracy\n",
    "        \n",
    "        # early stopping\n",
    "        #if epoch==0:\n",
    "            #pass\n",
    "        #else:\n",
    "            #if  results[\"test_loss\"][-1]-test_loss <= 0.005:\n",
    "                #early_stop_count+=1\n",
    "                #if early_stop_count==4:\n",
    "                    #print('early stopping!')\n",
    "                    #break\n",
    "            #else:\n",
    "                #early_stop_count=0\n",
    "        \n",
    "        # Update results dictionary\n",
    "        results[\"train_loss\"].append(train_loss)\n",
    "        results[\"test_loss\"].append(test_loss)\n",
    "        \n",
    "                \n",
    "    # Return the filled results at the end of the epochs\n",
    "    return results"
   ]
  },
  {
   "cell_type": "code",
   "execution_count": 17,
   "id": "6762e4dd-c736-4015-b88c-fd4b8c3f1dc8",
   "metadata": {},
   "outputs": [],
   "source": [
    "# Plot loss curves of a model\n",
    "def plot_loss_curves(results):\n",
    "    \"\"\"Plots training curves of a results dictionary.\n",
    "\n",
    "    Args:\n",
    "        results (dict): dictionary containing list of values, e.g.\n",
    "            {\"train_loss\": [...],\n",
    "             \"test_loss\": [...],}\n",
    "    \"\"\"\n",
    "    loss = results[\"train_loss\"]\n",
    "    test_loss = results[\"test_loss\"]\n",
    "\n",
    "\n",
    "    epochs = range(1, len(results[\"train_loss\"])+1)\n",
    "\n",
    "    plt.figure(figsize=(15, 7))\n",
    "    # Plot loss\n",
    "    plt.plot(epochs, loss, label=\"train_loss\")\n",
    "    plt.plot(epochs, test_loss, label=\"test_loss\")\n",
    "    plt.xticks(epochs)\n",
    "    plt.title(\"Loss\")\n",
    "    plt.xlabel(\"Epochs\")\n",
    "    plt.legend()\n",
    "    print('average train loss:', sum(loss)/len(loss))\n",
    "    print('average test loss:', sum(test_loss)/len(test_loss))"
   ]
  },
  {
   "cell_type": "code",
   "execution_count": 18,
   "id": "a5bea788-ba5c-425d-b393-31ae48039dd5",
   "metadata": {},
   "outputs": [],
   "source": [
    "class stackedLstm(nn.Module):\n",
    "    \"\"\"\n",
    "    Model architecture copying TinyVGG from: \n",
    "    https://poloclub.github.io/cnn-explainer/\n",
    "    \"\"\"\n",
    "    def __init__(self, input_size: int, hidden_size : int, num_layers : int) -> None:\n",
    "        super().__init__()\n",
    "        self.input_size = input_size\n",
    "        self.hidden_size = hidden_size\n",
    "        self.num_layers = num_layers\n",
    "        self.lstms = nn.LSTM(input_size = self.input_size, hidden_size =self.hidden_size, num_layers  = self.num_layers, batch_first=True)\n",
    "        self.linear = nn.Linear(in_features=hidden_size, out_features=1)\n",
    "        \n",
    "        \n",
    "    def forward(self, x):\n",
    "        output, (h,c) = self.lstms(x)\n",
    "        output = output[:, -1, :] # [batch, seq lenght, hidden units]\n",
    "        output = self.linear(output)\n",
    "        return output\n",
    "\n",
    "    "
   ]
  },
  {
   "cell_type": "code",
   "execution_count": 19,
   "id": "e6ed6bd7-5dc3-4538-a17f-231cb3686122",
   "metadata": {},
   "outputs": [],
   "source": [
    "set_seeds()\n",
    "model_test1 = stackedLstm(input_size=1, hidden_size=50, num_layers =3).to(device)"
   ]
  },
  {
   "cell_type": "code",
   "execution_count": 20,
   "id": "3838746f-19ce-410a-8aae-0283515226a7",
   "metadata": {},
   "outputs": [
    {
     "data": {
      "text/plain": [
       "====================================================================================================\n",
       "Layer (type (var_name))                  Input Shape     Output Shape    Param #         Trainable\n",
       "====================================================================================================\n",
       "stackedLstm (stackedLstm)                [64, 100, 1]    [64, 1]         --              True\n",
       "├─LSTM (lstms)                           [64, 100, 1]    [64, 100, 50]   51,400          True\n",
       "├─Linear (linear)                        [64, 50]        [64, 1]         51              True\n",
       "====================================================================================================\n",
       "Total params: 51,451\n",
       "Trainable params: 51,451\n",
       "Non-trainable params: 0\n",
       "Total mult-adds (M): 328.96\n",
       "====================================================================================================\n",
       "Input size (MB): 0.03\n",
       "Forward/backward pass size (MB): 2.56\n",
       "Params size (MB): 0.21\n",
       "Estimated Total Size (MB): 2.79\n",
       "===================================================================================================="
      ]
     },
     "execution_count": 20,
     "metadata": {},
     "output_type": "execute_result"
    }
   ],
   "source": [
    "# Print a summary using torchinfo (uncomment for actual output)\n",
    "summary(model=model_test1, \n",
    "        input_size=(64, 100, 1), # make sure this is \"input_size\", not \"input_shape\"\n",
    "        # col_names=[\"input_size\"], # uncomment for smaller output\n",
    "        col_names=[\"input_size\", \"output_size\", \"num_params\", \"trainable\"],\n",
    "        col_width=15,\n",
    "        row_settings=[\"var_names\"]\n",
    ")"
   ]
  },
  {
   "cell_type": "code",
   "execution_count": 21,
   "id": "17b741fb-d7c8-493c-90a0-0cd52128af2c",
   "metadata": {},
   "outputs": [],
   "source": [
    "set_seeds()\n",
    "inp = torch.randn(64, 100, 1).to(device)\n",
    "with torch.inference_mode():\n",
    "    out = model_test1(inp)\n",
    "    #print(len(out[:][0])) = 100\n",
    "    #print(out)\n",
    "    #out = out[:, 99].squeeze()\n",
    "    #print(out)"
   ]
  },
  {
   "cell_type": "code",
   "execution_count": 22,
   "id": "d88dd1b7-09df-44fb-a5ef-d2accbb8a82a",
   "metadata": {},
   "outputs": [
    {
     "data": {
      "text/plain": [
       "torch.Size([64, 1])"
      ]
     },
     "execution_count": 22,
     "metadata": {},
     "output_type": "execute_result"
    }
   ],
   "source": [
    "out.shape"
   ]
  },
  {
   "cell_type": "code",
   "execution_count": 23,
   "id": "27c5df45-1006-4ea1-ad9f-1ee307ddc28e",
   "metadata": {},
   "outputs": [],
   "source": [
    "#out"
   ]
  },
  {
   "cell_type": "code",
   "execution_count": 24,
   "id": "4f5281c4-c651-4806-8cdf-b2e777656172",
   "metadata": {},
   "outputs": [
    {
     "data": {
      "application/vnd.jupyter.widget-view+json": {
       "model_id": "e3a2732c48e94903a2d1516ed28bd634",
       "version_major": 2,
       "version_minor": 0
      },
      "text/plain": [
       "  0%|          | 0/30 [00:00<?, ?it/s]"
      ]
     },
     "metadata": {},
     "output_type": "display_data"
    },
    {
     "name": "stdout",
     "output_type": "stream",
     "text": [
      "Epoch: 1 | train_loss: 0.0241 | test_loss: 0.1866 | time (sec): 0.47\n",
      "Epoch: 2 | train_loss: 0.0335 | test_loss: 0.2149 | time (sec): 0.10\n",
      "Epoch: 3 | train_loss: 0.0263 | test_loss: 0.2254 | time (sec): 0.10\n",
      "Epoch: 4 | train_loss: 0.0237 | test_loss: 0.2137 | time (sec): 0.10\n",
      "Epoch: 5 | train_loss: 0.0235 | test_loss: 0.2023 | time (sec): 0.10\n",
      "Epoch: 6 | train_loss: 0.0237 | test_loss: 0.1948 | time (sec): 0.09\n",
      "Epoch: 7 | train_loss: 0.0229 | test_loss: 0.1800 | time (sec): 0.09\n",
      "Epoch: 8 | train_loss: 0.0205 | test_loss: 0.1241 | time (sec): 0.09\n",
      "Epoch: 9 | train_loss: 0.0118 | test_loss: 0.0425 | time (sec): 0.10\n",
      "Epoch: 10 | train_loss: 0.0063 | test_loss: 0.0435 | time (sec): 0.09\n",
      "Epoch: 11 | train_loss: 0.0039 | test_loss: 0.0504 | time (sec): 0.10\n",
      "Epoch: 12 | train_loss: 0.0018 | test_loss: 0.0335 | time (sec): 0.09\n",
      "Epoch: 13 | train_loss: 0.0042 | test_loss: 0.0356 | time (sec): 0.09\n",
      "Epoch: 14 | train_loss: 0.0047 | test_loss: 0.0270 | time (sec): 0.10\n",
      "Epoch: 15 | train_loss: 0.0064 | test_loss: 0.0212 | time (sec): 0.10\n",
      "Epoch: 16 | train_loss: 0.0082 | test_loss: 0.0203 | time (sec): 0.09\n",
      "Epoch: 17 | train_loss: 0.0050 | test_loss: 0.0094 | time (sec): 0.10\n",
      "Epoch: 18 | train_loss: 0.0062 | test_loss: 0.0307 | time (sec): 0.09\n",
      "Epoch: 19 | train_loss: 0.0048 | test_loss: 0.0195 | time (sec): 0.09\n",
      "Epoch: 20 | train_loss: 0.0036 | test_loss: 0.0145 | time (sec): 0.09\n",
      "Epoch: 21 | train_loss: 0.0043 | test_loss: 0.0231 | time (sec): 0.09\n",
      "Epoch: 22 | train_loss: 0.0119 | test_loss: 0.0394 | time (sec): 0.09\n",
      "Epoch: 23 | train_loss: 0.0037 | test_loss: 0.0178 | time (sec): 0.10\n",
      "Epoch: 24 | train_loss: 0.0038 | test_loss: 0.0212 | time (sec): 0.09\n",
      "Epoch: 25 | train_loss: 0.0023 | test_loss: 0.0146 | time (sec): 0.10\n",
      "Epoch: 26 | train_loss: 0.0050 | test_loss: 0.0282 | time (sec): 0.09\n",
      "Epoch: 27 | train_loss: 0.0028 | test_loss: 0.0177 | time (sec): 0.09\n",
      "Epoch: 28 | train_loss: 0.0024 | test_loss: 0.0213 | time (sec): 0.09\n",
      "Epoch: 29 | train_loss: 0.0020 | test_loss: 0.0168 | time (sec): 0.09\n",
      "Epoch: 30 | train_loss: 0.0029 | test_loss: 0.0260 | time (sec): 0.09\n"
     ]
    }
   ],
   "source": [
    "# Define loss and optimizer\n",
    "loss_fn = nn.MSELoss()\n",
    "optimizer = torch.optim.Adam(model_test1.parameters(), lr=1e-3)\n",
    "set_seeds()\n",
    "results = train(model=model_test1,\n",
    "                       train_dataloader=train_dataloader,\n",
    "                       test_dataloader=test_dataloader,\n",
    "                       optimizer=optimizer,\n",
    "                       loss_fn=loss_fn,\n",
    "                       epochs=30,\n",
    "                       device=device)"
   ]
  },
  {
   "cell_type": "code",
   "execution_count": 25,
   "id": "6686f0d2-ef97-4b59-b79f-76959756158d",
   "metadata": {},
   "outputs": [
    {
     "name": "stdout",
     "output_type": "stream",
     "text": [
      "average train loss: 0.010212477943625547\n",
      "average test loss: 0.0705380431984344\n"
     ]
    },
    {
     "data": {
      "image/png": "[encoded data removed]",
      "text/plain": [
       "<Figure size 1080x504 with 1 Axes>"
      ]
     },
     "metadata": {
      "needs_background": "light"
     },
     "output_type": "display_data"
    }
   ],
   "source": [
    "plot_loss_curves(results)"
   ]
  },
  {
   "cell_type": "code",
   "execution_count": 26,
   "id": "b44a6e3f-a5f5-4bfd-b0e9-d399d4584c36",
   "metadata": {},
   "outputs": [
    {
     "name": "stdout",
     "output_type": "stream",
     "text": [
      "test rmse loss: 33.867366817576034\n"
     ]
    }
   ],
   "source": [
    "y_preds = []\n",
    "y_trues = []\n",
    "#hn , cn = model.init()\n",
    "model_test1.eval()\n",
    "with torch.inference_mode():\n",
    "  for batch, (X, y) in enumerate(test_dataloader):\n",
    "    # Send data and targets to target device\n",
    "    X, y = X.to(device), y.to(device)\n",
    "    batch_size, seq_len, feature = X.shape\n",
    "    # Do the forward pass\n",
    "    out  = model_test1(X)\n",
    "    y_pred = out.reshape(batch_size)\n",
    "    y_preds.append(y_pred.cpu())\n",
    "    y_trues.append(y.cpu())\n",
    "y_pred_tensor_test = torch.cat(y_preds).cpu().numpy().reshape(-1, 1)\n",
    "#print(y_pred_tensor)\n",
    "y_true_tensor_test = torch.cat(y_trues).cpu().numpy().reshape(-1, 1)\n",
    "#print(y_true_tensor)\n",
    "y_pred_tensor_test = scaler.inverse_transform(y_pred_tensor_test)\n",
    "y_true_tensor_test = scaler.inverse_transform(y_true_tensor_test)\n",
    "### Calculate RMSE performance metrics\n",
    "import math\n",
    "from sklearn.metrics import mean_squared_error\n",
    "print('test rmse loss:', math.sqrt(mean_squared_error(y_pred_tensor_test,y_true_tensor_test)))"
   ]
  },
  {
   "cell_type": "code",
   "execution_count": 27,
   "id": "44e522f3-09e7-485f-929d-f5c576f930fc",
   "metadata": {},
   "outputs": [
    {
     "name": "stdout",
     "output_type": "stream",
     "text": [
      "train rmse loss: 7.469588101021754\n"
     ]
    }
   ],
   "source": [
    "y_preds = []\n",
    "y_trues = []\n",
    "#hn , cn = model.init()\n",
    "model_test1.eval()\n",
    "with torch.inference_mode():\n",
    "  for batch, (X, y) in enumerate(train_dataloader):\n",
    "    # Send data and targets to target device\n",
    "    X, y = X.to(device), y.to(device)\n",
    "    batch_size, seq_len, feature = X.shape\n",
    "    # Do the forward pass\n",
    "    out  = model_test1(X)\n",
    "    y_pred = out.reshape(batch_size)\n",
    "    y_preds.append(y_pred.cpu())\n",
    "    y_trues.append(y.cpu())\n",
    "y_pred_tensor_train = torch.cat(y_preds).cpu().numpy().reshape(-1, 1)\n",
    "#print(y_pred_tensor)\n",
    "y_true_tensor_train = torch.cat(y_trues).cpu().numpy().reshape(-1, 1)\n",
    "#print(y_true_tensor)\n",
    "y_pred_tensor_train = scaler.inverse_transform(y_pred_tensor_train)\n",
    "y_true_tensor_train = scaler.inverse_transform(y_true_tensor_train)\n",
    "### Calculate RMSE performance metrics\n",
    "import math\n",
    "from sklearn.metrics import mean_squared_error\n",
    "print('train rmse loss:', math.sqrt(mean_squared_error(y_pred_tensor_train,y_true_tensor_train)))"
   ]
  },
  {
   "cell_type": "code",
   "execution_count": 28,
   "id": "de13b1b8-aaf3-4b78-b0fd-4a20df2d7600",
   "metadata": {},
   "outputs": [
    {
     "data": {
      "text/plain": [
       "[<matplotlib.lines.Line2D at 0x23aad0e6d90>]"
      ]
     },
     "execution_count": 28,
     "metadata": {},
     "output_type": "execute_result"
    },
    {
     "data": {
      "image/png": "[encoded data removed]",
      "text/plain": [
       "<Figure size 432x288 with 1 Axes>"
      ]
     },
     "metadata": {
      "needs_background": "light"
     },
     "output_type": "display_data"
    }
   ],
   "source": [
    "plt.plot(y_pred_tensor_train)"
   ]
  },
  {
   "cell_type": "code",
   "execution_count": 29,
   "id": "ba84bd7e-47a9-4419-be18-3e6b605c4345",
   "metadata": {},
   "outputs": [
    {
     "data": {
      "text/plain": [
       "[<matplotlib.lines.Line2D at 0x23aad155880>]"
      ]
     },
     "execution_count": 29,
     "metadata": {},
     "output_type": "execute_result"
    },
    {
     "data": {
      "image/png": "[encoded data removed]",
      "text/plain": [
       "<Figure size 432x288 with 1 Axes>"
      ]
     },
     "metadata": {
      "needs_background": "light"
     },
     "output_type": "display_data"
    }
   ],
   "source": [
    "plt.plot(scaler.inverse_transform(df_close)[100:len(y_pred_tensor_train)+101])"
   ]
  },
  {
   "cell_type": "code",
   "execution_count": 30,
   "id": "534478eb-e558-4bbb-bb4b-4894459f8fc0",
   "metadata": {},
   "outputs": [
    {
     "data": {
      "image/png": "[encoded data removed]",
      "text/plain": [
       "<Figure size 432x288 with 1 Axes>"
      ]
     },
     "metadata": {
      "needs_background": "light"
     },
     "output_type": "display_data"
    }
   ],
   "source": [
    "### Plotting \n",
    "# shift train predictions for plotting\n",
    "look_back=100\n",
    "trainPredictPlot = np.empty_like(df_close)\n",
    "trainPredictPlot[:, :] = np.nan\n",
    "trainPredictPlot[look_back:len(y_pred_tensor_train)+look_back, :] = y_pred_tensor_train\n",
    "# shift test predictions for plotting\n",
    "testPredictPlot = np.empty_like(df_close)\n",
    "testPredictPlot[:, :] = np.nan\n",
    "testPredictPlot[len(y_pred_tensor_train)+(look_back*2)+1:len(df_close)-1, :] = y_pred_tensor_test\n",
    "# plot baseline and predictions\n",
    "plt.plot(scaler.inverse_transform(df_close), '--', label='all data')\n",
    "plt.plot(trainPredictPlot, '-', label='train prediction')\n",
    "plt.plot(testPredictPlot, '-', label='test prediction')\n",
    "plt.legend()\n",
    "plt.show()"
   ]
  },
  {
   "cell_type": "markdown",
   "id": "1ebccfa4-9bb5-48b3-806a-1ab6d5c8b73f",
   "metadata": {
    "tags": []
   },
   "source": [
    "## keras method"
   ]
  },
  {
   "cell_type": "code",
   "execution_count": 31,
   "id": "f5f90754-f767-47fa-b7af-adb02e4e8461",
   "metadata": {},
   "outputs": [],
   "source": [
    "df1=df.reset_index()['close']"
   ]
  },
  {
   "cell_type": "code",
   "execution_count": 32,
   "id": "71744f8a-c72c-4731-9335-a20d8ae03152",
   "metadata": {},
   "outputs": [
    {
     "data": {
      "text/plain": [
       "[<matplotlib.lines.Line2D at 0x23aad83ffa0>]"
      ]
     },
     "execution_count": 32,
     "metadata": {},
     "output_type": "execute_result"
    },
    {
     "data": {
      "image/png": "[encoded data removed]",
      "text/plain": [
       "<Figure size 432x288 with 1 Axes>"
      ]
     },
     "metadata": {
      "needs_background": "light"
     },
     "output_type": "display_data"
    }
   ],
   "source": [
    "\n",
    "plt.plot(df1)"
   ]
  },
  {
   "cell_type": "code",
   "execution_count": 33,
   "id": "329e35b7-cb87-4986-a39f-9ba239b5f47d",
   "metadata": {},
   "outputs": [],
   "source": [
    "scaler=MinMaxScaler(feature_range=(0,1))\n",
    "df1=scaler.fit_transform(np.array(df1).reshape(-1,1))"
   ]
  },
  {
   "cell_type": "code",
   "execution_count": 34,
   "id": "1168c28c-b25d-480f-9ea6-7a2cb2b08f48",
   "metadata": {},
   "outputs": [],
   "source": [
    "training_size=int(len(df1)*0.65)\n",
    "test_size=len(df1)-training_size\n",
    "train_data,test_data=df1[0:training_size,:],df1[training_size:len(df1),:1]"
   ]
  },
  {
   "cell_type": "code",
   "execution_count": 35,
   "id": "7b6083c6-3beb-4531-ab9c-11d56fa36c73",
   "metadata": {},
   "outputs": [
    {
     "data": {
      "text/plain": [
       "(817, 441)"
      ]
     },
     "execution_count": 35,
     "metadata": {},
     "output_type": "execute_result"
    }
   ],
   "source": [
    "training_size,test_size"
   ]
  },
  {
   "cell_type": "code",
   "execution_count": 36,
   "id": "0b215aba-cb60-42d9-ae18-2287d4414bfd",
   "metadata": {},
   "outputs": [],
   "source": [
    "def create_dataset(dataset, time_step=1):\n",
    "\tdataX, dataY = [], []\n",
    "\tfor i in range(len(dataset)-time_step-1):\n",
    "\t\ta = dataset[i:(i+time_step), 0]   ###i=0, 0,1,2,3-----99   100 \n",
    "\t\tdataX.append(a)\n",
    "\t\tdataY.append(dataset[i + time_step, 0])\n",
    "\treturn np.array(dataX), np.array(dataY)"
   ]
  },
  {
   "cell_type": "code",
   "execution_count": 37,
   "id": "cdd47a4a-fd26-453c-93c2-c96e9432e6ce",
   "metadata": {},
   "outputs": [],
   "source": [
    "time_step = 100\n",
    "X_train, y_train = create_dataset(train_data, time_step)\n",
    "X_test, ytest = create_dataset(test_data, time_step)"
   ]
  },
  {
   "cell_type": "code",
   "execution_count": 38,
   "id": "4bcfce9d-fe92-4dad-91e0-cd2df39562bb",
   "metadata": {},
   "outputs": [
    {
     "name": "stdout",
     "output_type": "stream",
     "text": [
      "(716, 100)\n",
      "(716,)\n"
     ]
    },
    {
     "data": {
      "text/plain": [
       "(None, None)"
      ]
     },
     "execution_count": 38,
     "metadata": {},
     "output_type": "execute_result"
    }
   ],
   "source": [
    "print(X_train.shape), print(y_train.shape)"
   ]
  },
  {
   "cell_type": "code",
   "execution_count": 39,
   "id": "58273e33-063a-427d-8196-7767e8914fec",
   "metadata": {},
   "outputs": [
    {
     "name": "stdout",
     "output_type": "stream",
     "text": [
      "(340, 100)\n",
      "(340,)\n"
     ]
    },
    {
     "data": {
      "text/plain": [
       "(None, None)"
      ]
     },
     "execution_count": 39,
     "metadata": {},
     "output_type": "execute_result"
    }
   ],
   "source": [
    "print(X_test.shape), print(ytest.shape)"
   ]
  },
  {
   "cell_type": "code",
   "execution_count": 40,
   "id": "9db41ad7-23b1-46ab-9896-c7a459af019c",
   "metadata": {},
   "outputs": [],
   "source": [
    "# reshape input to be [samples, time steps, features] which is required for LSTM\n",
    "X_train =X_train.reshape(X_train.shape[0],X_train.shape[1] , 1)\n",
    "X_test = X_test.reshape(X_test.shape[0],X_test.shape[1] , 1)"
   ]
  },
  {
   "cell_type": "code",
   "execution_count": 41,
   "id": "e3f759df-1604-4c75-822a-9655a1947fea",
   "metadata": {},
   "outputs": [],
   "source": [
    "### Create the Stacked LSTM model\n",
    "from tensorflow.keras.models import Sequential\n",
    "from tensorflow.keras.layers import Dense\n",
    "from tensorflow.keras.layers import LSTM"
   ]
  },
  {
   "cell_type": "code",
   "execution_count": 42,
   "id": "8db6f3cc-3061-46c0-92b2-fae8b1ddc534",
   "metadata": {},
   "outputs": [],
   "source": [
    "model=Sequential()\n",
    "model.add(LSTM(50,return_sequences=True,input_shape=(100,1)))\n",
    "model.add(LSTM(50,return_sequences=True))\n",
    "model.add(LSTM(50))\n",
    "model.add(Dense(1))\n",
    "model.compile(loss='mean_squared_error',optimizer='adam')"
   ]
  },
  {
   "cell_type": "code",
   "execution_count": 43,
   "id": "aabf794c-37df-4ee2-aa86-8f17d4d3c125",
   "metadata": {},
   "outputs": [
    {
     "name": "stdout",
     "output_type": "stream",
     "text": [
      "Model: \"sequential\"\n",
      "_________________________________________________________________\n",
      " Layer (type)                Output Shape              Param #   \n",
      "=================================================================\n",
      " lstm (LSTM)                 (None, 100, 50)           10400     \n",
      "                                                                 \n",
      " lstm_1 (LSTM)               (None, 100, 50)           20200     \n",
      "                                                                 \n",
      " lstm_2 (LSTM)               (None, 50)                20200     \n",
      "                                                                 \n",
      " dense (Dense)               (None, 1)                 51        \n",
      "                                                                 \n",
      "=================================================================\n",
      "Total params: 50,851\n",
      "Trainable params: 50,851\n",
      "Non-trainable params: 0\n",
      "_________________________________________________________________\n"
     ]
    }
   ],
   "source": [
    "model.summary()"
   ]
  },
  {
   "cell_type": "code",
   "execution_count": 44,
   "id": "ad485e71-ff1f-43f0-b192-6d4560bf83b8",
   "metadata": {},
   "outputs": [
    {
     "name": "stdout",
     "output_type": "stream",
     "text": [
      "Epoch 1/30\n",
      "12/12 [==============================] - 6s 139ms/step - loss: 0.0175 - val_loss: 0.0659\n",
      "Epoch 2/30\n",
      "12/12 [==============================] - 0s 29ms/step - loss: 0.0036 - val_loss: 0.0045\n",
      "Epoch 3/30\n",
      "12/12 [==============================] - 0s 29ms/step - loss: 0.0012 - val_loss: 0.0045\n",
      "Epoch 4/30\n",
      "12/12 [==============================] - 0s 29ms/step - loss: 8.8786e-04 - val_loss: 0.0092\n",
      "Epoch 5/30\n",
      "12/12 [==============================] - 0s 30ms/step - loss: 8.1800e-04 - val_loss: 0.0077\n",
      "Epoch 6/30\n",
      "12/12 [==============================] - 0s 30ms/step - loss: 7.0490e-04 - val_loss: 0.0047\n",
      "Epoch 7/30\n",
      "12/12 [==============================] - 0s 28ms/step - loss: 6.1974e-04 - val_loss: 0.0043\n",
      "Epoch 8/30\n",
      "12/12 [==============================] - 0s 30ms/step - loss: 6.2405e-04 - val_loss: 0.0046\n",
      "Epoch 9/30\n",
      "12/12 [==============================] - 0s 29ms/step - loss: 6.0566e-04 - val_loss: 0.0047\n",
      "Epoch 10/30\n",
      "12/12 [==============================] - 0s 31ms/step - loss: 5.9995e-04 - val_loss: 0.0043\n",
      "Epoch 11/30\n",
      "12/12 [==============================] - 0s 30ms/step - loss: 5.9164e-04 - val_loss: 0.0045\n",
      "Epoch 12/30\n",
      "12/12 [==============================] - 0s 29ms/step - loss: 5.8399e-04 - val_loss: 0.0045\n",
      "Epoch 13/30\n",
      "12/12 [==============================] - 0s 29ms/step - loss: 5.8046e-04 - val_loss: 0.0040\n",
      "Epoch 14/30\n",
      "12/12 [==============================] - 0s 29ms/step - loss: 5.9644e-04 - val_loss: 0.0035\n",
      "Epoch 15/30\n",
      "12/12 [==============================] - 0s 30ms/step - loss: 5.7447e-04 - val_loss: 0.0033\n",
      "Epoch 16/30\n",
      "12/12 [==============================] - 0s 29ms/step - loss: 5.7116e-04 - val_loss: 0.0033\n",
      "Epoch 17/30\n",
      "12/12 [==============================] - 0s 30ms/step - loss: 5.6708e-04 - val_loss: 0.0031\n",
      "Epoch 18/30\n",
      "12/12 [==============================] - 0s 30ms/step - loss: 5.6710e-04 - val_loss: 0.0030\n",
      "Epoch 19/30\n",
      "12/12 [==============================] - 0s 29ms/step - loss: 5.3833e-04 - val_loss: 0.0030\n",
      "Epoch 20/30\n",
      "12/12 [==============================] - 0s 30ms/step - loss: 5.4377e-04 - val_loss: 0.0030\n",
      "Epoch 21/30\n",
      "12/12 [==============================] - 0s 30ms/step - loss: 5.4805e-04 - val_loss: 0.0041\n",
      "Epoch 22/30\n",
      "12/12 [==============================] - 0s 30ms/step - loss: 5.3970e-04 - val_loss: 0.0027\n",
      "Epoch 23/30\n",
      "12/12 [==============================] - 0s 30ms/step - loss: 5.1774e-04 - val_loss: 0.0036\n",
      "Epoch 24/30\n",
      "12/12 [==============================] - 0s 29ms/step - loss: 5.2712e-04 - val_loss: 0.0032\n",
      "Epoch 25/30\n",
      "12/12 [==============================] - 0s 29ms/step - loss: 4.9529e-04 - val_loss: 0.0025\n",
      "Epoch 26/30\n",
      "12/12 [==============================] - 0s 30ms/step - loss: 4.7520e-04 - val_loss: 0.0030\n",
      "Epoch 27/30\n",
      "12/12 [==============================] - 0s 30ms/step - loss: 4.7374e-04 - val_loss: 0.0026\n",
      "Epoch 28/30\n",
      "12/12 [==============================] - 0s 29ms/step - loss: 4.6061e-04 - val_loss: 0.0022\n",
      "Epoch 29/30\n",
      "12/12 [==============================] - 0s 30ms/step - loss: 4.4905e-04 - val_loss: 0.0021\n",
      "Epoch 30/30\n",
      "12/12 [==============================] - 0s 29ms/step - loss: 4.5989e-04 - val_loss: 0.0023\n"
     ]
    },
    {
     "data": {
      "text/plain": [
       "<keras.callbacks.History at 0x23b5fa601c0>"
      ]
     },
     "execution_count": 44,
     "metadata": {},
     "output_type": "execute_result"
    }
   ],
   "source": [
    "model.fit(X_train,y_train,validation_data=(X_test,ytest),epochs=30,batch_size=64,verbose=1)"
   ]
  },
  {
   "cell_type": "code",
   "execution_count": 45,
   "id": "1f29dfd4-32f5-421b-bf47-8ea1377d2822",
   "metadata": {},
   "outputs": [
    {
     "name": "stdout",
     "output_type": "stream",
     "text": [
      "23/23 [==============================] - 1s 11ms/step\n",
      "11/11 [==============================] - 0s 11ms/step\n"
     ]
    }
   ],
   "source": [
    "### Lets Do the prediction and check performance metrics\n",
    "train_predict=model.predict(X_train)\n",
    "test_predict=model.predict(X_test)"
   ]
  },
  {
   "cell_type": "code",
   "execution_count": 46,
   "id": "96c2afee-8975-4b31-895d-3afb4f5b3aa4",
   "metadata": {},
   "outputs": [],
   "source": [
    "##Transformback to original form\n",
    "train_predict=scaler.inverse_transform(train_predict)\n",
    "test_predict=scaler.inverse_transform(test_predict)"
   ]
  },
  {
   "cell_type": "code",
   "execution_count": 47,
   "id": "7b50bb7a-6600-4a2d-9f02-df4baed2648c",
   "metadata": {},
   "outputs": [
    {
     "data": {
      "text/plain": [
       "141.64570376450473"
      ]
     },
     "execution_count": 47,
     "metadata": {},
     "output_type": "execute_result"
    }
   ],
   "source": [
    "### Calculate RMSE performance metrics\n",
    "import math\n",
    "from sklearn.metrics import mean_squared_error\n",
    "math.sqrt(mean_squared_error(y_train,train_predict))"
   ]
  },
  {
   "cell_type": "code",
   "execution_count": 48,
   "id": "a58e659d-d002-49a9-8c8d-cde84613dd17",
   "metadata": {},
   "outputs": [
    {
     "data": {
      "text/plain": [
       "234.53441272564763"
      ]
     },
     "execution_count": 48,
     "metadata": {},
     "output_type": "execute_result"
    }
   ],
   "source": [
    "### Test Data RMSE\n",
    "math.sqrt(mean_squared_error(ytest,test_predict))"
   ]
  },
  {
   "cell_type": "code",
   "execution_count": 49,
   "id": "dd0052d2-77bf-461f-871a-71bc6cd98d89",
   "metadata": {},
   "outputs": [
    {
     "data": {
      "image/png": "[encoded data removed]",
      "text/plain": [
       "<Figure size 432x288 with 1 Axes>"
      ]
     },
     "metadata": {
      "needs_background": "light"
     },
     "output_type": "display_data"
    }
   ],
   "source": [
    "# plot baseline and predictions -> need to shift graph\n",
    "plt.plot(scaler.inverse_transform(df1),'--', label='all data')\n",
    "plt.plot(train_predict, '-', label='train prediction')\n",
    "plt.plot(test_predict, '-', label='test prediction')\n",
    "plt.legend()\n",
    "plt.show()"
   ]
  },
  {
   "cell_type": "code",
   "execution_count": 50,
   "id": "dc8350ae-18ca-40a9-a360-d495263408ad",
   "metadata": {},
   "outputs": [
    {
     "data": {
      "image/png": "[encoded data removed]",
      "text/plain": [
       "<Figure size 432x288 with 1 Axes>"
      ]
     },
     "metadata": {
      "needs_background": "light"
     },
     "output_type": "display_data"
    }
   ],
   "source": [
    "### Plotting \n",
    "# shift train predictions for plotting\n",
    "look_back=100\n",
    "trainPredictPlot = np.empty_like(df1)\n",
    "trainPredictPlot[:, :] = np.nan\n",
    "trainPredictPlot[look_back:len(train_predict)+look_back, :] = train_predict\n",
    "# shift test predictions for plotting\n",
    "testPredictPlot = np.empty_like(df1)\n",
    "testPredictPlot[:, :] = np.nan\n",
    "testPredictPlot[len(train_predict)+(look_back*2)+1:len(df1)-1, :] = test_predict\n",
    "# plot baseline and predictions\n",
    "plt.plot(scaler.inverse_transform(df1),'--', label='all data')\n",
    "plt.plot(trainPredictPlot, '-', label='train prediction')\n",
    "plt.plot(testPredictPlot, '-', label='test prediction')\n",
    "plt.legend()\n",
    "plt.show()"
   ]
  },
  {
   "cell_type": "code",
   "execution_count": 51,
   "id": "61450ab0-e4ed-4849-b812-d541f9c4cdf5",
   "metadata": {},
   "outputs": [
    {
     "data": {
      "text/plain": [
       "441"
      ]
     },
     "execution_count": 51,
     "metadata": {},
     "output_type": "execute_result"
    }
   ],
   "source": [
    "len(test_data)"
   ]
  },
  {
   "cell_type": "code",
   "execution_count": 52,
   "id": "094a3b5c-f8e5-4738-9209-762a9777aaac",
   "metadata": {},
   "outputs": [
    {
     "data": {
      "text/plain": [
       "(1, 100)"
      ]
     },
     "execution_count": 52,
     "metadata": {},
     "output_type": "execute_result"
    }
   ],
   "source": [
    "x_input=test_data[341:].reshape(1,-1)\n",
    "x_input.shape"
   ]
  },
  {
   "cell_type": "code",
   "execution_count": 53,
   "id": "99b49769-45bb-4d44-ac19-d872e0a88dd2",
   "metadata": {},
   "outputs": [],
   "source": [
    "temp_input=list(x_input)\n",
    "temp_input=temp_input[0].tolist()"
   ]
  },
  {
   "cell_type": "code",
   "execution_count": 54,
   "id": "dd779be3-9de3-4acf-bd76-df4dc193904b",
   "metadata": {},
   "outputs": [
    {
     "name": "stdout",
     "output_type": "stream",
     "text": [
      "[0.9172908]\n",
      "101\n",
      "1 day output [[0.9214883]]\n",
      "2 day output [[0.92414474]]\n",
      "3 day output [[0.9253652]]\n",
      "4 day output [[0.9253925]]\n",
      "5 day output [[0.924507]]\n",
      "6 day output [[0.9229696]]\n",
      "7 day output [[0.92099595]]\n",
      "8 day output [[0.9187504]]\n",
      "9 day output [[0.91635]]\n",
      "10 day output [[0.91387284]]\n",
      "11 day output [[0.9113678]]\n",
      "12 day output [[0.908864]]\n",
      "13 day output [[0.90637684]]\n",
      "14 day output [[0.90391445]]\n",
      "15 day output [[0.9014801]]\n",
      "16 day output [[0.89907515]]\n",
      "17 day output [[0.8966999]]\n",
      "18 day output [[0.89435506]]\n",
      "19 day output [[0.8920407]]\n",
      "20 day output [[0.8897579]]\n",
      "21 day output [[0.8875072]]\n",
      "22 day output [[0.8852893]]\n",
      "23 day output [[0.88310504]]\n",
      "24 day output [[0.8809551]]\n",
      "25 day output [[0.87883973]]\n",
      "26 day output [[0.8767594]]\n",
      "27 day output [[0.874714]]\n",
      "28 day output [[0.8727038]]\n",
      "29 day output [[0.87072825]]\n"
     ]
    }
   ],
   "source": [
    "# demonstrate prediction for next 30 days\n",
    "from numpy import array\n",
    "\n",
    "lst_output=[]\n",
    "n_steps=100\n",
    "i=0\n",
    "while(i<30):\n",
    "    \n",
    "    if(len(temp_input)>100):\n",
    "        #print(temp_input)\n",
    "        x_input=np.array(temp_input[1:])\n",
    "        #print(\"{} day input {}\".format(i,x_input))\n",
    "        x_input=x_input.reshape(1,-1)\n",
    "        x_input = x_input.reshape((1, n_steps, 1))\n",
    "        #print(x_input)\n",
    "        yhat = model.predict(x_input, verbose=0)\n",
    "        print(\"{} day output {}\".format(i,yhat))\n",
    "        temp_input.extend(yhat[0].tolist())\n",
    "        temp_input=temp_input[1:]\n",
    "        #print(temp_input)\n",
    "        lst_output.extend(yhat.tolist())\n",
    "        i=i+1\n",
    "    else:\n",
    "        x_input = x_input.reshape((1, n_steps,1))\n",
    "        yhat = model.predict(x_input, verbose=0)\n",
    "        print(yhat[0])\n",
    "        temp_input.extend(yhat[0].tolist())\n",
    "        print(len(temp_input))\n",
    "        lst_output.extend(yhat.tolist())\n",
    "        i=i+1"
   ]
  },
  {
   "cell_type": "code",
   "execution_count": 55,
   "id": "1d265c8a-4e69-4faf-9336-32d95b4a22cd",
   "metadata": {},
   "outputs": [],
   "source": [
    "day_new=np.arange(1,101)\n",
    "day_pred=np.arange(101,131)"
   ]
  },
  {
   "cell_type": "code",
   "execution_count": 56,
   "id": "9ac22f13-8627-4f30-8af2-8a158c928c43",
   "metadata": {},
   "outputs": [
    {
     "data": {
      "text/plain": [
       "1258"
      ]
     },
     "execution_count": 56,
     "metadata": {},
     "output_type": "execute_result"
    }
   ],
   "source": [
    "len(df1)"
   ]
  },
  {
   "cell_type": "code",
   "execution_count": 57,
   "id": "8075141c-6fa4-40c0-a6a1-b48bfdc479a2",
   "metadata": {},
   "outputs": [
    {
     "data": {
      "text/plain": [
       "[<matplotlib.lines.Line2D at 0x23bc80db640>]"
      ]
     },
     "execution_count": 57,
     "metadata": {},
     "output_type": "execute_result"
    },
    {
     "data": {
      "image/png": "[encoded data removed]",
      "text/plain": [
       "<Figure size 432x288 with 1 Axes>"
      ]
     },
     "metadata": {
      "needs_background": "light"
     },
     "output_type": "display_data"
    }
   ],
   "source": [
    "plt.plot(day_new,scaler.inverse_transform(df1[1158:]))\n",
    "plt.plot(day_pred,scaler.inverse_transform(lst_output))"
   ]
  },
  {
   "cell_type": "code",
   "execution_count": 58,
   "id": "7b86f78c-b452-45c2-8c6a-9bd0ee79d998",
   "metadata": {},
   "outputs": [
    {
     "data": {
      "text/plain": [
       "[<matplotlib.lines.Line2D at 0x23bc80be550>]"
      ]
     },
     "execution_count": 58,
     "metadata": {},
     "output_type": "execute_result"
    },
    {
     "data": {
      "image/png": "[encoded data removed]",
      "text/plain": [
       "<Figure size 432x288 with 1 Axes>"
      ]
     },
     "metadata": {
      "needs_background": "light"
     },
     "output_type": "display_data"
    }
   ],
   "source": [
    "df3=df1.tolist()\n",
    "df3.extend(lst_output)\n",
    "plt.plot(df3[1200:])"
   ]
  },
  {
   "cell_type": "code",
   "execution_count": 59,
   "id": "c6716db9-f7bb-48b6-9871-b849a60165ad",
   "metadata": {},
   "outputs": [
    {
     "data": {
      "text/plain": [
       "[<matplotlib.lines.Line2D at 0x23bc8277d00>]"
      ]
     },
     "execution_count": 59,
     "metadata": {},
     "output_type": "execute_result"
    },
    {
     "data": {
      "image/png": "[encoded data removed]",
      "text/plain": [
       "<Figure size 432x288 with 1 Axes>"
      ]
     },
     "metadata": {
      "needs_background": "light"
     },
     "output_type": "display_data"
    }
   ],
   "source": [
    "plt.plot(df3)"
   ]
  },
  {
   "cell_type": "markdown",
   "id": "1af818a8-069b-46a0-927a-39a6d8a8cafb",
   "metadata": {},
   "source": [
    "# more than 1 input features time series"
   ]
  },
  {
   "cell_type": "code",
   "execution_count": 60,
   "id": "e819e0b3-5557-4fc0-98c4-adc8c40cf659",
   "metadata": {},
   "outputs": [
    {
     "data": {
      "text/plain": [
       "Index(['Unnamed: 0', 'symbol', 'date', 'close', 'high', 'low', 'open',\n",
       "       'volume', 'adjClose', 'adjHigh', 'adjLow', 'adjOpen', 'adjVolume',\n",
       "       'divCash', 'splitFactor'],\n",
       "      dtype='object')"
      ]
     },
     "execution_count": 60,
     "metadata": {},
     "output_type": "execute_result"
    }
   ],
   "source": [
    "df.columns"
   ]
  },
  {
   "cell_type": "code",
   "execution_count": 61,
   "id": "b3dfbb85-70d6-4654-9bb1-c53756b4b8fd",
   "metadata": {},
   "outputs": [
    {
     "data": {
      "text/html": [
       "<div>\n",
       "<style scoped>\n",
       "    .dataframe tbody tr th:only-of-type {\n",
       "        vertical-align: middle;\n",
       "    }\n",
       "\n",
       "    .dataframe tbody tr th {\n",
       "        vertical-align: top;\n",
       "    }\n",
       "\n",
       "    .dataframe thead th {\n",
       "        text-align: right;\n",
       "    }\n",
       "</style>\n",
       "<table border=\"1\" class=\"dataframe\">\n",
       "  <thead>\n",
       "    <tr style=\"text-align: right;\">\n",
       "      <th></th>\n",
       "      <th>close</th>\n",
       "      <th>high</th>\n",
       "      <th>low</th>\n",
       "      <th>open</th>\n",
       "      <th>volume</th>\n",
       "    </tr>\n",
       "  </thead>\n",
       "  <tbody>\n",
       "    <tr>\n",
       "      <th>0</th>\n",
       "      <td>132.045</td>\n",
       "      <td>132.260</td>\n",
       "      <td>130.0500</td>\n",
       "      <td>130.34</td>\n",
       "      <td>45833246</td>\n",
       "    </tr>\n",
       "    <tr>\n",
       "      <th>1</th>\n",
       "      <td>131.780</td>\n",
       "      <td>131.950</td>\n",
       "      <td>131.1000</td>\n",
       "      <td>131.86</td>\n",
       "      <td>30733309</td>\n",
       "    </tr>\n",
       "    <tr>\n",
       "      <th>2</th>\n",
       "      <td>130.280</td>\n",
       "      <td>131.450</td>\n",
       "      <td>129.9000</td>\n",
       "      <td>131.23</td>\n",
       "      <td>50884452</td>\n",
       "    </tr>\n",
       "    <tr>\n",
       "      <th>3</th>\n",
       "      <td>130.535</td>\n",
       "      <td>131.390</td>\n",
       "      <td>130.0500</td>\n",
       "      <td>131.20</td>\n",
       "      <td>32112797</td>\n",
       "    </tr>\n",
       "    <tr>\n",
       "      <th>4</th>\n",
       "      <td>129.960</td>\n",
       "      <td>130.655</td>\n",
       "      <td>129.3200</td>\n",
       "      <td>129.86</td>\n",
       "      <td>33667627</td>\n",
       "    </tr>\n",
       "    <tr>\n",
       "      <th>...</th>\n",
       "      <td>...</td>\n",
       "      <td>...</td>\n",
       "      <td>...</td>\n",
       "      <td>...</td>\n",
       "      <td>...</td>\n",
       "    </tr>\n",
       "    <tr>\n",
       "      <th>1253</th>\n",
       "      <td>314.960</td>\n",
       "      <td>316.500</td>\n",
       "      <td>310.3241</td>\n",
       "      <td>313.17</td>\n",
       "      <td>33843125</td>\n",
       "    </tr>\n",
       "    <tr>\n",
       "      <th>1254</th>\n",
       "      <td>313.140</td>\n",
       "      <td>318.520</td>\n",
       "      <td>313.0100</td>\n",
       "      <td>315.03</td>\n",
       "      <td>25432385</td>\n",
       "    </tr>\n",
       "    <tr>\n",
       "      <th>1255</th>\n",
       "      <td>319.230</td>\n",
       "      <td>319.520</td>\n",
       "      <td>316.2000</td>\n",
       "      <td>316.68</td>\n",
       "      <td>27876215</td>\n",
       "    </tr>\n",
       "    <tr>\n",
       "      <th>1256</th>\n",
       "      <td>316.850</td>\n",
       "      <td>320.890</td>\n",
       "      <td>315.8700</td>\n",
       "      <td>318.66</td>\n",
       "      <td>25672211</td>\n",
       "    </tr>\n",
       "    <tr>\n",
       "      <th>1257</th>\n",
       "      <td>318.890</td>\n",
       "      <td>319.230</td>\n",
       "      <td>315.3500</td>\n",
       "      <td>315.77</td>\n",
       "      <td>20450754</td>\n",
       "    </tr>\n",
       "  </tbody>\n",
       "</table>\n",
       "<p>1258 rows × 5 columns</p>\n",
       "</div>"
      ],
      "text/plain": [
       "        close     high       low    open    volume\n",
       "0     132.045  132.260  130.0500  130.34  45833246\n",
       "1     131.780  131.950  131.1000  131.86  30733309\n",
       "2     130.280  131.450  129.9000  131.23  50884452\n",
       "3     130.535  131.390  130.0500  131.20  32112797\n",
       "4     129.960  130.655  129.3200  129.86  33667627\n",
       "...       ...      ...       ...     ...       ...\n",
       "1253  314.960  316.500  310.3241  313.17  33843125\n",
       "1254  313.140  318.520  313.0100  315.03  25432385\n",
       "1255  319.230  319.520  316.2000  316.68  27876215\n",
       "1256  316.850  320.890  315.8700  318.66  25672211\n",
       "1257  318.890  319.230  315.3500  315.77  20450754\n",
       "\n",
       "[1258 rows x 5 columns]"
      ]
     },
     "execution_count": 61,
     "metadata": {},
     "output_type": "execute_result"
    }
   ],
   "source": [
    "target_columns = ['close', 'high', 'low', 'open', 'volume']\n",
    "selected_data = df[target_columns]\n",
    "selected_data"
   ]
  },
  {
   "cell_type": "code",
   "execution_count": 62,
   "id": "cd2c8402-57a2-409a-98db-3084678654c5",
   "metadata": {},
   "outputs": [
    {
     "data": {
      "text/html": [
       "<div>\n",
       "<style scoped>\n",
       "    .dataframe tbody tr th:only-of-type {\n",
       "        vertical-align: middle;\n",
       "    }\n",
       "\n",
       "    .dataframe tbody tr th {\n",
       "        vertical-align: top;\n",
       "    }\n",
       "\n",
       "    .dataframe thead th {\n",
       "        text-align: right;\n",
       "    }\n",
       "</style>\n",
       "<table border=\"1\" class=\"dataframe\">\n",
       "  <thead>\n",
       "    <tr style=\"text-align: right;\">\n",
       "      <th></th>\n",
       "      <th>close</th>\n",
       "      <th>high</th>\n",
       "      <th>low</th>\n",
       "      <th>open</th>\n",
       "      <th>volume</th>\n",
       "    </tr>\n",
       "  </thead>\n",
       "  <tbody>\n",
       "    <tr>\n",
       "      <th>0</th>\n",
       "      <td>0.176074</td>\n",
       "      <td>0.171860</td>\n",
       "      <td>0.173508</td>\n",
       "      <td>0.171857</td>\n",
       "      <td>0.228522</td>\n",
       "    </tr>\n",
       "    <tr>\n",
       "      <th>1</th>\n",
       "      <td>0.174956</td>\n",
       "      <td>0.170548</td>\n",
       "      <td>0.177997</td>\n",
       "      <td>0.178333</td>\n",
       "      <td>0.128419</td>\n",
       "    </tr>\n",
       "    <tr>\n",
       "      <th>2</th>\n",
       "      <td>0.168623</td>\n",
       "      <td>0.168431</td>\n",
       "      <td>0.172866</td>\n",
       "      <td>0.175649</td>\n",
       "      <td>0.262008</td>\n",
       "    </tr>\n",
       "    <tr>\n",
       "      <th>3</th>\n",
       "      <td>0.169699</td>\n",
       "      <td>0.168177</td>\n",
       "      <td>0.173508</td>\n",
       "      <td>0.175521</td>\n",
       "      <td>0.137564</td>\n",
       "    </tr>\n",
       "    <tr>\n",
       "      <th>4</th>\n",
       "      <td>0.167272</td>\n",
       "      <td>0.165065</td>\n",
       "      <td>0.170387</td>\n",
       "      <td>0.169812</td>\n",
       "      <td>0.147872</td>\n",
       "    </tr>\n",
       "    <tr>\n",
       "      <th>...</th>\n",
       "      <td>...</td>\n",
       "      <td>...</td>\n",
       "      <td>...</td>\n",
       "      <td>...</td>\n",
       "      <td>...</td>\n",
       "    </tr>\n",
       "    <tr>\n",
       "      <th>1253</th>\n",
       "      <td>0.948324</td>\n",
       "      <td>0.951943</td>\n",
       "      <td>0.944305</td>\n",
       "      <td>0.950752</td>\n",
       "      <td>0.149035</td>\n",
       "    </tr>\n",
       "    <tr>\n",
       "      <th>1254</th>\n",
       "      <td>0.940640</td>\n",
       "      <td>0.960496</td>\n",
       "      <td>0.955789</td>\n",
       "      <td>0.958676</td>\n",
       "      <td>0.093277</td>\n",
       "    </tr>\n",
       "    <tr>\n",
       "      <th>1255</th>\n",
       "      <td>0.966351</td>\n",
       "      <td>0.964730</td>\n",
       "      <td>0.969429</td>\n",
       "      <td>0.965705</td>\n",
       "      <td>0.109478</td>\n",
       "    </tr>\n",
       "    <tr>\n",
       "      <th>1256</th>\n",
       "      <td>0.956303</td>\n",
       "      <td>0.970531</td>\n",
       "      <td>0.968018</td>\n",
       "      <td>0.974141</td>\n",
       "      <td>0.094867</td>\n",
       "    </tr>\n",
       "    <tr>\n",
       "      <th>1257</th>\n",
       "      <td>0.964916</td>\n",
       "      <td>0.963502</td>\n",
       "      <td>0.965794</td>\n",
       "      <td>0.961828</td>\n",
       "      <td>0.060252</td>\n",
       "    </tr>\n",
       "  </tbody>\n",
       "</table>\n",
       "<p>1258 rows × 5 columns</p>\n",
       "</div>"
      ],
      "text/plain": [
       "         close      high       low      open    volume\n",
       "0     0.176074  0.171860  0.173508  0.171857  0.228522\n",
       "1     0.174956  0.170548  0.177997  0.178333  0.128419\n",
       "2     0.168623  0.168431  0.172866  0.175649  0.262008\n",
       "3     0.169699  0.168177  0.173508  0.175521  0.137564\n",
       "4     0.167272  0.165065  0.170387  0.169812  0.147872\n",
       "...        ...       ...       ...       ...       ...\n",
       "1253  0.948324  0.951943  0.944305  0.950752  0.149035\n",
       "1254  0.940640  0.960496  0.955789  0.958676  0.093277\n",
       "1255  0.966351  0.964730  0.969429  0.965705  0.109478\n",
       "1256  0.956303  0.970531  0.968018  0.974141  0.094867\n",
       "1257  0.964916  0.963502  0.965794  0.961828  0.060252\n",
       "\n",
       "[1258 rows x 5 columns]"
      ]
     },
     "execution_count": 62,
     "metadata": {},
     "output_type": "execute_result"
    }
   ],
   "source": [
    "scaler=MinMaxScaler(feature_range=(0,1))\n",
    "scaler.fit(selected_data)\n",
    "selected_data = pd.DataFrame(scaler.transform(selected_data),\n",
    "                            index = selected_data.index,\n",
    "                            columns = selected_data.columns)\n",
    "selected_data"
   ]
  },
  {
   "cell_type": "code",
   "execution_count": 63,
   "id": "7677c215-f6ad-42a5-aa8e-678cc2a337ae",
   "metadata": {},
   "outputs": [
    {
     "data": {
      "text/plain": [
       "(817, 441)"
      ]
     },
     "execution_count": 63,
     "metadata": {},
     "output_type": "execute_result"
    }
   ],
   "source": [
    "train_size = int(len(selected_data)*0.65)\n",
    "train_dataFrame = selected_data[:train_size]\n",
    "test_dataFrame = selected_data[train_size:]\n",
    "len(train_dataFrame), len(test_dataFrame)"
   ]
  },
  {
   "cell_type": "code",
   "execution_count": 64,
   "id": "b6d6529d-30a8-4c84-8612-1ef8f6f62941",
   "metadata": {},
   "outputs": [
    {
     "data": {
      "text/html": [
       "<div>\n",
       "<style scoped>\n",
       "    .dataframe tbody tr th:only-of-type {\n",
       "        vertical-align: middle;\n",
       "    }\n",
       "\n",
       "    .dataframe tbody tr th {\n",
       "        vertical-align: top;\n",
       "    }\n",
       "\n",
       "    .dataframe thead th {\n",
       "        text-align: right;\n",
       "    }\n",
       "</style>\n",
       "<table border=\"1\" class=\"dataframe\">\n",
       "  <thead>\n",
       "    <tr style=\"text-align: right;\">\n",
       "      <th></th>\n",
       "      <th>close</th>\n",
       "      <th>high</th>\n",
       "      <th>low</th>\n",
       "      <th>open</th>\n",
       "      <th>volume</th>\n",
       "    </tr>\n",
       "  </thead>\n",
       "  <tbody>\n",
       "    <tr>\n",
       "      <th>0</th>\n",
       "      <td>0.176074</td>\n",
       "      <td>0.171860</td>\n",
       "      <td>0.173508</td>\n",
       "      <td>0.171857</td>\n",
       "      <td>0.228522</td>\n",
       "    </tr>\n",
       "    <tr>\n",
       "      <th>1</th>\n",
       "      <td>0.174956</td>\n",
       "      <td>0.170548</td>\n",
       "      <td>0.177997</td>\n",
       "      <td>0.178333</td>\n",
       "      <td>0.128419</td>\n",
       "    </tr>\n",
       "    <tr>\n",
       "      <th>2</th>\n",
       "      <td>0.168623</td>\n",
       "      <td>0.168431</td>\n",
       "      <td>0.172866</td>\n",
       "      <td>0.175649</td>\n",
       "      <td>0.262008</td>\n",
       "    </tr>\n",
       "    <tr>\n",
       "      <th>3</th>\n",
       "      <td>0.169699</td>\n",
       "      <td>0.168177</td>\n",
       "      <td>0.173508</td>\n",
       "      <td>0.175521</td>\n",
       "      <td>0.137564</td>\n",
       "    </tr>\n",
       "    <tr>\n",
       "      <th>4</th>\n",
       "      <td>0.167272</td>\n",
       "      <td>0.165065</td>\n",
       "      <td>0.170387</td>\n",
       "      <td>0.169812</td>\n",
       "      <td>0.147872</td>\n",
       "    </tr>\n",
       "    <tr>\n",
       "      <th>...</th>\n",
       "      <td>...</td>\n",
       "      <td>...</td>\n",
       "      <td>...</td>\n",
       "      <td>...</td>\n",
       "      <td>...</td>\n",
       "    </tr>\n",
       "    <tr>\n",
       "      <th>95</th>\n",
       "      <td>0.091953</td>\n",
       "      <td>0.087264</td>\n",
       "      <td>0.085599</td>\n",
       "      <td>0.085204</td>\n",
       "      <td>0.274482</td>\n",
       "    </tr>\n",
       "    <tr>\n",
       "      <th>96</th>\n",
       "      <td>0.089758</td>\n",
       "      <td>0.089254</td>\n",
       "      <td>0.093937</td>\n",
       "      <td>0.096835</td>\n",
       "      <td>0.126655</td>\n",
       "    </tr>\n",
       "    <tr>\n",
       "      <th>97</th>\n",
       "      <td>0.090560</td>\n",
       "      <td>0.087984</td>\n",
       "      <td>0.090688</td>\n",
       "      <td>0.088698</td>\n",
       "      <td>0.143772</td>\n",
       "    </tr>\n",
       "    <tr>\n",
       "      <th>98</th>\n",
       "      <td>0.083889</td>\n",
       "      <td>0.084046</td>\n",
       "      <td>0.085899</td>\n",
       "      <td>0.090700</td>\n",
       "      <td>0.219434</td>\n",
       "    </tr>\n",
       "    <tr>\n",
       "      <th>99</th>\n",
       "      <td>0.090855</td>\n",
       "      <td>0.086502</td>\n",
       "      <td>0.089875</td>\n",
       "      <td>0.089166</td>\n",
       "      <td>0.174428</td>\n",
       "    </tr>\n",
       "  </tbody>\n",
       "</table>\n",
       "<p>100 rows × 5 columns</p>\n",
       "</div>"
      ],
      "text/plain": [
       "       close      high       low      open    volume\n",
       "0   0.176074  0.171860  0.173508  0.171857  0.228522\n",
       "1   0.174956  0.170548  0.177997  0.178333  0.128419\n",
       "2   0.168623  0.168431  0.172866  0.175649  0.262008\n",
       "3   0.169699  0.168177  0.173508  0.175521  0.137564\n",
       "4   0.167272  0.165065  0.170387  0.169812  0.147872\n",
       "..       ...       ...       ...       ...       ...\n",
       "95  0.091953  0.087264  0.085599  0.085204  0.274482\n",
       "96  0.089758  0.089254  0.093937  0.096835  0.126655\n",
       "97  0.090560  0.087984  0.090688  0.088698  0.143772\n",
       "98  0.083889  0.084046  0.085899  0.090700  0.219434\n",
       "99  0.090855  0.086502  0.089875  0.089166  0.174428\n",
       "\n",
       "[100 rows x 5 columns]"
      ]
     },
     "execution_count": 64,
     "metadata": {},
     "output_type": "execute_result"
    }
   ],
   "source": [
    "# test dataset\n",
    "test_example = train_dataFrame[:100]\n",
    "test_example"
   ]
  },
  {
   "cell_type": "code",
   "execution_count": 65,
   "id": "3c30e77b-4a57-4e2b-a4fe-ae833db2afc8",
   "metadata": {},
   "outputs": [
    {
     "data": {
      "text/plain": [
       "array([[0.17607447, 0.17186045, 0.17350778, 0.17185703, 0.22852181],\n",
       "       [0.17495567, 0.17054789, 0.17799726, 0.17833255, 0.12841898],\n",
       "       [0.16862282, 0.16843086, 0.17286643, 0.17564862, 0.26200805],\n",
       "       [0.1696994 , 0.16817681, 0.17350778, 0.17552081, 0.13756409],\n",
       "       [0.16727181, 0.16506478, 0.17038652, 0.16981212, 0.14787161],\n",
       "       [0.16794731, 0.16627149, 0.17286643, 0.1732203 , 0.13007786],\n",
       "       [0.16473866, 0.16474723, 0.16863349, 0.16861926, 0.17957644],\n",
       "       [0.16174111, 0.16097891, 0.16628185, 0.16827845, 0.16085966],\n",
       "       [0.1581525 , 0.15894657, 0.15974004, 0.16572232, 0.27387681],\n",
       "       [0.15654817, 0.15416208, 0.15456644, 0.15634985, 0.29642082]])"
      ]
     },
     "execution_count": 65,
     "metadata": {},
     "output_type": "execute_result"
    }
   ],
   "source": [
    "test_example[target_columns].values[:10]"
   ]
  },
  {
   "cell_type": "code",
   "execution_count": 66,
   "id": "add20f65-cb80-49cd-81cc-aea2e2fcbbf4",
   "metadata": {},
   "outputs": [
    {
     "data": {
      "text/plain": [
       "array([[0.17607447, 0.17186045, 0.17350778, 0.17185703, 0.22852181],\n",
       "       [0.17495567, 0.17054789, 0.17799726, 0.17833255, 0.12841898],\n",
       "       [0.16862282, 0.16843086, 0.17286643, 0.17564862, 0.26200805],\n",
       "       [0.1696994 , 0.16817681, 0.17350778, 0.17552081, 0.13756409],\n",
       "       [0.16727181, 0.16506478, 0.17038652, 0.16981212, 0.14787161],\n",
       "       [0.16794731, 0.16627149, 0.17286643, 0.1732203 , 0.13007786],\n",
       "       [0.16473866, 0.16474723, 0.16863349, 0.16861926, 0.17957644],\n",
       "       [0.16174111, 0.16097891, 0.16628185, 0.16827845, 0.16085966],\n",
       "       [0.1581525 , 0.15894657, 0.15974004, 0.16572232, 0.27387681],\n",
       "       [0.15654817, 0.15416208, 0.15456644, 0.15634985, 0.29642082]])"
      ]
     },
     "execution_count": 66,
     "metadata": {},
     "output_type": "execute_result"
    }
   ],
   "source": [
    "test_example.values[:10]"
   ]
  },
  {
   "cell_type": "code",
   "execution_count": 67,
   "id": "f283432a-84f1-4c01-b697-040676f03d19",
   "metadata": {},
   "outputs": [
    {
     "data": {
      "text/plain": [
       "tensor([[0.1761, 0.1719, 0.1735, 0.1719, 0.2285],\n",
       "        [0.1750, 0.1705, 0.1780, 0.1783, 0.1284],\n",
       "        [0.1686, 0.1684, 0.1729, 0.1756, 0.2620],\n",
       "        [0.1697, 0.1682, 0.1735, 0.1755, 0.1376],\n",
       "        [0.1673, 0.1651, 0.1704, 0.1698, 0.1479],\n",
       "        [0.1679, 0.1663, 0.1729, 0.1732, 0.1301],\n",
       "        [0.1647, 0.1647, 0.1686, 0.1686, 0.1796],\n",
       "        [0.1617, 0.1610, 0.1663, 0.1683, 0.1609],\n",
       "        [0.1582, 0.1589, 0.1597, 0.1657, 0.2739],\n",
       "        [0.1565, 0.1542, 0.1546, 0.1563, 0.2964]], dtype=torch.float64)"
      ]
     },
     "execution_count": 67,
     "metadata": {},
     "output_type": "execute_result"
    }
   ],
   "source": [
    "torch.from_numpy(test_example.values[:10])"
   ]
  },
  {
   "cell_type": "code",
   "execution_count": 68,
   "id": "5b62c2cc-eb44-4e88-b3b1-e8aba8d03143",
   "metadata": {},
   "outputs": [
    {
     "data": {
      "text/plain": [
       "tensor([[0.1761, 0.1719, 0.1735, 0.1719, 0.2285],\n",
       "        [0.1750, 0.1705, 0.1780, 0.1783, 0.1284],\n",
       "        [0.1686, 0.1684, 0.1729, 0.1756, 0.2620],\n",
       "        [0.1697, 0.1682, 0.1735, 0.1755, 0.1376],\n",
       "        [0.1673, 0.1651, 0.1704, 0.1698, 0.1479],\n",
       "        [0.1679, 0.1663, 0.1729, 0.1732, 0.1301],\n",
       "        [0.1647, 0.1647, 0.1686, 0.1686, 0.1796],\n",
       "        [0.1617, 0.1610, 0.1663, 0.1683, 0.1609],\n",
       "        [0.1582, 0.1589, 0.1597, 0.1657, 0.2739],\n",
       "        [0.1565, 0.1542, 0.1546, 0.1563, 0.2964]])"
      ]
     },
     "execution_count": 68,
     "metadata": {},
     "output_type": "execute_result"
    }
   ],
   "source": [
    "torch.from_numpy(test_example.values[:10]).float()"
   ]
  },
  {
   "cell_type": "code",
   "execution_count": 69,
   "id": "ab3726e8-5bd2-4d56-be1e-39f1f355f507",
   "metadata": {},
   "outputs": [
    {
     "data": {
      "text/plain": [
       "0.17495567001604323"
      ]
     },
     "execution_count": 69,
     "metadata": {},
     "output_type": "execute_result"
    }
   ],
   "source": [
    "test_example.iloc[1]['close']"
   ]
  },
  {
   "cell_type": "code",
   "execution_count": 70,
   "id": "4ba07bd6-7e8f-46aa-863b-ea1b0ca6faad",
   "metadata": {},
   "outputs": [
    {
     "data": {
      "text/plain": [
       "tensor(0.1750, dtype=torch.float64)"
      ]
     },
     "execution_count": 70,
     "metadata": {},
     "output_type": "execute_result"
    }
   ],
   "source": [
    "torch.from_numpy(np.array(test_example.iloc[1]['close']))"
   ]
  },
  {
   "cell_type": "code",
   "execution_count": 71,
   "id": "0a5f59f5-2a88-4196-8330-875b0463aa03",
   "metadata": {},
   "outputs": [],
   "source": [
    "# custom dataset\n",
    "class StockDataset(Dataset):\n",
    "    def __init__(self,data, target_column, seq_len = 100):\n",
    "        self.data = data\n",
    "        self.seq_len = seq_len\n",
    "        self.target_column = target_column\n",
    "        \n",
    "    def __len__(self):\n",
    "        return len(self.data)-self.seq_len-1\n",
    "\n",
    "    def __getitem__(self, index: int)-> Tuple[torch.Tensor, torch.Tensor] :\n",
    "        x = self.data[index : index+self.seq_len].values\n",
    "        y = self.data.iloc[index+self.seq_len][self.target_column]\n",
    "        x = torch.from_numpy(x).float()\n",
    "        y = torch.from_numpy(np.array(y)).float()\n",
    "        return  x, y"
   ]
  },
  {
   "cell_type": "code",
   "execution_count": 72,
   "id": "62930d13-4b9f-4e82-9aa9-9de367f180b2",
   "metadata": {},
   "outputs": [
    {
     "data": {
      "text/plain": [
       "(<torch.utils.data.dataloader.DataLoader at 0x23bc82c1d60>,\n",
       " <torch.utils.data.dataloader.DataLoader at 0x23bc82c1eb0>)"
      ]
     },
     "execution_count": 72,
     "metadata": {},
     "output_type": "execute_result"
    }
   ],
   "source": [
    "train_dataset = StockDataset(train_dataFrame, 'close') \n",
    "test_dataset = StockDataset(test_dataFrame, 'close')\n",
    "\n",
    "batch_size = 64\n",
    "train_dataloader = DataLoader(train_dataset,batch_size)\n",
    "test_dataloader = DataLoader(test_dataset,batch_size)\n",
    "train_dataloader, test_dataloader"
   ]
  },
  {
   "cell_type": "code",
   "execution_count": 73,
   "id": "251261b3-dd49-4e97-8873-897377ebd2cc",
   "metadata": {},
   "outputs": [],
   "source": [
    "set_seeds()\n",
    "model_test1 = stackedLstm(input_size=len(target_columns), hidden_size=50, num_layers =3).to(device)"
   ]
  },
  {
   "cell_type": "code",
   "execution_count": 74,
   "id": "8cc5782e-89b4-4d76-96a0-d54a32c6be2f",
   "metadata": {},
   "outputs": [
    {
     "data": {
      "text/plain": [
       "====================================================================================================\n",
       "Layer (type (var_name))                  Input Shape     Output Shape    Param #         Trainable\n",
       "====================================================================================================\n",
       "stackedLstm (stackedLstm)                [64, 100, 5]    [64, 1]         --              True\n",
       "├─LSTM (lstms)                           [64, 100, 5]    [64, 100, 50]   52,200          True\n",
       "├─Linear (linear)                        [64, 50]        [64, 1]         51              True\n",
       "====================================================================================================\n",
       "Total params: 52,251\n",
       "Trainable params: 52,251\n",
       "Non-trainable params: 0\n",
       "Total mult-adds (M): 334.08\n",
       "====================================================================================================\n",
       "Input size (MB): 0.13\n",
       "Forward/backward pass size (MB): 2.56\n",
       "Params size (MB): 0.21\n",
       "Estimated Total Size (MB): 2.90\n",
       "===================================================================================================="
      ]
     },
     "execution_count": 74,
     "metadata": {},
     "output_type": "execute_result"
    }
   ],
   "source": [
    "# Print a summary using torchinfo (uncomment for actual output)\n",
    "summary(model=model_test1, \n",
    "        input_size=(64, 100, len(target_columns)), # make sure this is \"input_size\", not \"input_shape\"\n",
    "        # col_names=[\"input_size\"], # uncomment for smaller output\n",
    "        col_names=[\"input_size\", \"output_size\", \"num_params\", \"trainable\"],\n",
    "        col_width=15,\n",
    "        row_settings=[\"var_names\"]\n",
    ")"
   ]
  },
  {
   "cell_type": "code",
   "execution_count": 75,
   "id": "d77047e4-8d28-4faf-8807-a4f0e8888044",
   "metadata": {},
   "outputs": [
    {
     "data": {
      "application/vnd.jupyter.widget-view+json": {
       "model_id": "c2ba4bd7783a478f96aeca526bb8119b",
       "version_major": 2,
       "version_minor": 0
      },
      "text/plain": [
       "  0%|          | 0/30 [00:00<?, ?it/s]"
      ]
     },
     "metadata": {},
     "output_type": "display_data"
    },
    {
     "name": "stdout",
     "output_type": "stream",
     "text": [
      "Epoch: 1 | train_loss: 0.0343 | test_loss: 0.2460 | time (sec): 0.32\n",
      "Epoch: 2 | train_loss: 0.0190 | test_loss: 0.1814 | time (sec): 0.19\n",
      "Epoch: 3 | train_loss: 0.0243 | test_loss: 0.1770 | time (sec): 0.19\n",
      "Epoch: 4 | train_loss: 0.0217 | test_loss: 0.1552 | time (sec): 0.19\n",
      "Epoch: 5 | train_loss: 0.0139 | test_loss: 0.0427 | time (sec): 0.19\n",
      "Epoch: 6 | train_loss: 0.0109 | test_loss: 0.0169 | time (sec): 0.19\n",
      "Epoch: 7 | train_loss: 0.0040 | test_loss: 0.0065 | time (sec): 0.19\n",
      "Epoch: 8 | train_loss: 0.0031 | test_loss: 0.0289 | time (sec): 0.19\n",
      "Epoch: 9 | train_loss: 0.0034 | test_loss: 0.0231 | time (sec): 0.19\n",
      "Epoch: 10 | train_loss: 0.0050 | test_loss: 0.0395 | time (sec): 0.19\n",
      "Epoch: 11 | train_loss: 0.0026 | test_loss: 0.0230 | time (sec): 0.20\n",
      "Epoch: 12 | train_loss: 0.0030 | test_loss: 0.0412 | time (sec): 0.19\n",
      "Epoch: 13 | train_loss: 0.0015 | test_loss: 0.0223 | time (sec): 0.20\n",
      "Epoch: 14 | train_loss: 0.0013 | test_loss: 0.0316 | time (sec): 0.19\n",
      "Epoch: 15 | train_loss: 0.0012 | test_loss: 0.0194 | time (sec): 0.20\n",
      "Epoch: 16 | train_loss: 0.0011 | test_loss: 0.0233 | time (sec): 0.19\n",
      "Epoch: 17 | train_loss: 0.0013 | test_loss: 0.0151 | time (sec): 0.19\n",
      "Epoch: 18 | train_loss: 0.0012 | test_loss: 0.0185 | time (sec): 0.20\n",
      "Epoch: 19 | train_loss: 0.0016 | test_loss: 0.0135 | time (sec): 0.20\n",
      "Epoch: 20 | train_loss: 0.0021 | test_loss: 0.0208 | time (sec): 0.19\n",
      "Epoch: 21 | train_loss: 0.0023 | test_loss: 0.0138 | time (sec): 0.20\n",
      "Epoch: 22 | train_loss: 0.0032 | test_loss: 0.0275 | time (sec): 0.20\n",
      "Epoch: 23 | train_loss: 0.0023 | test_loss: 0.0139 | time (sec): 0.20\n",
      "Epoch: 24 | train_loss: 0.0022 | test_loss: 0.0256 | time (sec): 0.20\n",
      "Epoch: 25 | train_loss: 0.0017 | test_loss: 0.0142 | time (sec): 0.20\n",
      "Epoch: 26 | train_loss: 0.0017 | test_loss: 0.0247 | time (sec): 0.20\n",
      "Epoch: 27 | train_loss: 0.0015 | test_loss: 0.0133 | time (sec): 0.20\n",
      "Epoch: 28 | train_loss: 0.0013 | test_loss: 0.0204 | time (sec): 0.20\n",
      "Epoch: 29 | train_loss: 0.0013 | test_loss: 0.0119 | time (sec): 0.20\n",
      "Epoch: 30 | train_loss: 0.0012 | test_loss: 0.0178 | time (sec): 0.20\n"
     ]
    }
   ],
   "source": [
    "# Define loss and optimizer\n",
    "loss_fn = nn.MSELoss()\n",
    "optimizer = torch.optim.Adam(model_test1.parameters(), lr=1e-3)\n",
    "set_seeds()\n",
    "results = train(model=model_test1,\n",
    "                       train_dataloader=train_dataloader,\n",
    "                       test_dataloader=test_dataloader,\n",
    "                       optimizer=optimizer,\n",
    "                       loss_fn=loss_fn,\n",
    "                       epochs=30,\n",
    "                       device=device)"
   ]
  },
  {
   "cell_type": "code",
   "execution_count": 76,
   "id": "62eca2e9-d617-4bc9-a05e-20f118c6a8af",
   "metadata": {},
   "outputs": [
    {
     "name": "stdout",
     "output_type": "stream",
     "text": [
      "average train loss: 0.00583659639297467\n",
      "average test loss: 0.04429117312392918\n"
     ]
    },
    {
     "data": {
      "image/png": "[encoded data removed]",
      "text/plain": [
       "<Figure size 1080x504 with 1 Axes>"
      ]
     },
     "metadata": {
      "needs_background": "light"
     },
     "output_type": "display_data"
    }
   ],
   "source": [
    "plot_loss_curves(results)"
   ]
  },
  {
   "attachments": {
    "03e2918e-346b-404e-a2d4-b540739f6b39.png": {
     "image/png": "[encoded data removed]"
    }
   },
   "cell_type": "markdown",
   "id": "4451f8d8-cb01-459f-9871-28c953175c99",
   "metadata": {},
   "source": [
    "![image.png](attachment:03e2918e-346b-404e-a2d4-b540739f6b39.png)"
   ]
  },
  {
   "cell_type": "code",
   "execution_count": 77,
   "id": "2d5e17ab-72d7-449b-83f2-f9fb782d331d",
   "metadata": {},
   "outputs": [
    {
     "data": {
      "text/plain": [
       "array([4.22190323e-03, 4.23405877e-03, 4.27569694e-03, 4.26021386e-03,\n",
       "       6.62935458e-09])"
      ]
     },
     "execution_count": 77,
     "metadata": {},
     "output_type": "execute_result"
    }
   ],
   "source": [
    "scaler.scale_"
   ]
  },
  {
   "cell_type": "code",
   "execution_count": 78,
   "id": "96b17129-787b-45f3-be56-c7b75b92aabf",
   "metadata": {},
   "outputs": [
    {
     "data": {
      "text/plain": [
       "array(['close', 'high', 'low', 'open', 'volume'], dtype=object)"
      ]
     },
     "execution_count": 78,
     "metadata": {},
     "output_type": "execute_result"
    }
   ],
   "source": [
    "scaler.feature_names_in_"
   ]
  },
  {
   "cell_type": "code",
   "execution_count": 79,
   "id": "da652e66-8386-4b9e-a07f-e8621fe8ddc4",
   "metadata": {},
   "outputs": [
    {
     "name": "stdout",
     "output_type": "stream",
     "text": [
      "test rmse loss: 27.896555960775093\n"
     ]
    }
   ],
   "source": [
    "y_preds = []\n",
    "y_trues = []\n",
    "#hn , cn = model.init()\n",
    "model_test1.eval()\n",
    "with torch.inference_mode():\n",
    "  for batch, (X, y) in enumerate(test_dataloader):\n",
    "    # Send data and targets to target device\n",
    "    X, y = X.to(device), y.to(device)\n",
    "    batch_size, seq_len, feature = X.shape\n",
    "    # Do the forward pass\n",
    "    out  = model_test1(X)\n",
    "    y_pred = out.reshape(batch_size)\n",
    "    y_preds.append(y_pred.cpu())\n",
    "    y_trues.append(y.cpu())\n",
    "y_pred_tensor_test = torch.cat(y_preds).cpu().numpy().reshape(-1, 1)\n",
    "#print(y_pred_tensor)\n",
    "y_true_tensor_test = torch.cat(y_trues).cpu().numpy().reshape(-1, 1)\n",
    "#print(y_true_tensor)\n",
    "y_pred_tensor_test = y_pred_tensor_test/scaler.scale_[0]\n",
    "y_true_tensor_test = y_true_tensor_test/scaler.scale_[0]\n",
    "### Calculate RMSE performance metrics\n",
    "import math\n",
    "from sklearn.metrics import mean_squared_error\n",
    "print('test rmse loss:', math.sqrt(mean_squared_error(y_pred_tensor_test,y_true_tensor_test)))"
   ]
  },
  {
   "cell_type": "code",
   "execution_count": 80,
   "id": "d8c93b15-d65c-4eb0-af2f-7104f13e33de",
   "metadata": {},
   "outputs": [
    {
     "name": "stdout",
     "output_type": "stream",
     "text": [
      "train rmse loss: 6.3291855665087535\n"
     ]
    }
   ],
   "source": [
    "y_preds = []\n",
    "y_trues = []\n",
    "#hn , cn = model.init()\n",
    "model_test1.eval()\n",
    "with torch.inference_mode():\n",
    "  for batch, (X, y) in enumerate(train_dataloader):\n",
    "    # Send data and targets to target device\n",
    "    X, y = X.to(device), y.to(device)\n",
    "    batch_size, seq_len, feature = X.shape\n",
    "    # Do the forward pass\n",
    "    out  = model_test1(X)\n",
    "    y_pred = out.reshape(batch_size)\n",
    "    y_preds.append(y_pred.cpu())\n",
    "    y_trues.append(y.cpu())\n",
    "y_pred_tensor_train = torch.cat(y_preds).cpu().numpy().reshape(-1, 1)\n",
    "#print(y_pred_tensor)\n",
    "y_true_tensor_train = torch.cat(y_trues).cpu().numpy().reshape(-1, 1)\n",
    "#print(y_true_tensor)\n",
    "y_pred_tensor_train = y_pred_tensor_train/scaler.scale_[0]\n",
    "y_true_tensor_train = y_true_tensor_train/scaler.scale_[0]\n",
    "### Calculate RMSE performance metrics\n",
    "import math\n",
    "from sklearn.metrics import mean_squared_error\n",
    "print('train rmse loss:', math.sqrt(mean_squared_error(y_pred_tensor_train,y_true_tensor_train)))"
   ]
  },
  {
   "cell_type": "code",
   "execution_count": 81,
   "id": "db0e8487-06e9-4881-8408-cefa14bf4d43",
   "metadata": {},
   "outputs": [
    {
     "data": {
      "image/png": "[encoded data removed]",
      "text/plain": [
       "<Figure size 432x288 with 1 Axes>"
      ]
     },
     "metadata": {
      "needs_background": "light"
     },
     "output_type": "display_data"
    }
   ],
   "source": [
    "### Plotting \n",
    "# shift train predictions for plotting\n",
    "look_back=100\n",
    "trainPredictPlot = np.empty_like(df_close)\n",
    "trainPredictPlot[:, :] = np.nan\n",
    "trainPredictPlot[look_back:len(y_pred_tensor_train)+look_back, :] = y_pred_tensor_train\n",
    "# shift test predictions for plotting\n",
    "testPredictPlot = np.empty_like(df_close)\n",
    "testPredictPlot[:, :] = np.nan\n",
    "testPredictPlot[len(y_pred_tensor_train)+(look_back*2)+1:len(df_close)-1, :] = y_pred_tensor_test\n",
    "# plot baseline and predictions\n",
    "plt.plot(df_close/scaler.scale_[0], '--', label='all data')\n",
    "plt.plot(trainPredictPlot, '-', label='train prediction')\n",
    "plt.plot(testPredictPlot, '-', label='test prediction')\n",
    "plt.legend()\n",
    "plt.show()"
   ]
  },
  {
   "cell_type": "code",
   "execution_count": null,
   "id": "25a70f75-9e8f-477d-ad9e-c422710f5dbf",
   "metadata": {},
   "outputs": [],
   "source": []
  }
 ],
 "metadata": {
  "kernelspec": {
   "display_name": "Python 3 (ipykernel)",
   "language": "python",
   "name": "python3"
  },
  "language_info": {
   "codemirror_mode": {
    "name": "ipython",
    "version": 3
   },
   "file_extension": ".py",
   "mimetype": "text/x-python",
   "name": "python",
   "nbconvert_exporter": "python",
   "pygments_lexer": "ipython3",
   "version": "3.9.12"
  }
 },
 "nbformat": 4,
 "nbformat_minor": 5
}
