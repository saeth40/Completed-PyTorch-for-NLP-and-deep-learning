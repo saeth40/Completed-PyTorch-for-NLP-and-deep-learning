{
 "cells": [
  {
   "cell_type": "markdown",
   "id": "10a34187-791f-4b82-a760-cde0bb678176",
   "metadata": {},
   "source": [
    "# dataset"
   ]
  },
  {
   "cell_type": "code",
   "execution_count": 1,
   "id": "a3fb5171-17b1-486e-8fbd-0e4be9107373",
   "metadata": {},
   "outputs": [
    {
     "name": "stdout",
     "output_type": "stream",
     "text": [
      "torch version: 1.12.0\n",
      "torchvision version: 0.13.0\n"
     ]
    }
   ],
   "source": [
    "# For this notebook to run with updated APIs, we need torch 1.12+ and torchvision 0.13+\n",
    "try:\n",
    "    import torch\n",
    "    import torchvision\n",
    "    assert int(torch.__version__.split(\".\")[1]) >= 12, \"torch version should be 1.12+\"\n",
    "    assert int(torchvision.__version__.split(\".\")[1]) >= 13, \"torchvision version should be 0.13+\"\n",
    "    print(f\"torch version: {torch.__version__}\")\n",
    "    print(f\"torchvision version: {torchvision.__version__}\")\n",
    "except:\n",
    "    print(f\"[INFO] torch/torchvision versions not as required, installing nightly versions.\")\n",
    "    !pip3 install -U torch torchvision torchaudio --extra-index-url https://download.pytorch.org/whl/cu113\n",
    "    import torch\n",
    "    import torchvision\n",
    "    print(f\"torch version: {torch.__version__}\")\n",
    "    print(f\"torchvision version: {torchvision.__version__}\")"
   ]
  },
  {
   "cell_type": "code",
   "execution_count": 2,
   "id": "1404bb5b-9f2f-4b20-a826-b2b5e442a114",
   "metadata": {},
   "outputs": [],
   "source": [
    "# Continue with regular imports\n",
    "import matplotlib.pyplot as plt\n",
    "\n",
    "from torch import nn\n",
    "from torchvision import transforms\n",
    "\n",
    "# Try to get torchinfo, install it if it doesn't work\n",
    "try:\n",
    "    from torchinfo import summary\n",
    "except:\n",
    "    print(\"[INFO] Couldn't find torchinfo... installing it.\")\n",
    "    !pip install -q torchinfo\n",
    "    from torchinfo import summary"
   ]
  },
  {
   "cell_type": "code",
   "execution_count": 3,
   "id": "b3160324-a309-4d31-bddd-b5410e751101",
   "metadata": {},
   "outputs": [
    {
     "data": {
      "text/plain": [
       "'cuda'"
      ]
     },
     "execution_count": 3,
     "metadata": {},
     "output_type": "execute_result"
    }
   ],
   "source": [
    "# Setup device agnostic code\n",
    "device = \"cuda\" if torch.cuda.is_available() else \"cpu\"\n",
    "device"
   ]
  },
  {
   "cell_type": "code",
   "execution_count": 4,
   "id": "d5afde80-3423-4e9c-9c31-9f050b1ad217",
   "metadata": {},
   "outputs": [],
   "source": [
    "# Setup path to data folder\n",
    "# C:\\Users\\Saeth\\Downloads\\archive (1)\\Data\n",
    "data_path = \"C:\\\\Users\\\\Saeth\\\\Downloads\\\\archive (1)\\\\\"\n",
    "image_path = data_path + \"Data\\\\\"\n",
    "# Setup Dirs\n",
    "train_dir = image_path + \"train\"\n",
    "test_dir = image_path + \"test\""
   ]
  },
  {
   "cell_type": "code",
   "execution_count": 5,
   "id": "db706dbe-16f9-4bbb-9287-5431bd12084d",
   "metadata": {},
   "outputs": [],
   "source": [
    "# Set seeds\n",
    "def set_seeds(seed: int=42):\n",
    "    \"\"\"Sets random sets for torch operations.\n",
    "\n",
    "    Args:\n",
    "        seed (int, optional): Random seed to set. Defaults to 42.\n",
    "    \"\"\"\n",
    "    # Set the seed for general torch operations\n",
    "    torch.manual_seed(seed)\n",
    "    # Set the seed for CUDA torch operations (ones that happen on the GPU)\n",
    "    torch.cuda.manual_seed(seed)"
   ]
  },
  {
   "cell_type": "code",
   "execution_count": 6,
   "id": "c4513e2a-5a10-4bce-aed3-6a8e00fe9bcf",
   "metadata": {},
   "outputs": [],
   "source": [
    "import os\n",
    "\n",
    "from torchvision import datasets, transforms\n",
    "from torch.utils.data import DataLoader\n",
    "\n",
    "NUM_WORKERS = os.cpu_count()\n",
    "#NUM_WORKERS = 0\n",
    "# NUM_WORKERS = 8\n",
    "\n",
    "def create_dataloaders(\n",
    "    train_dir: str, \n",
    "    test_dir: str, \n",
    "    transform: transforms.Compose, \n",
    "    batch_size: int, \n",
    "    num_workers: int=NUM_WORKERS\n",
    "):\n",
    "  \"\"\"Creates training and testing DataLoaders.\n",
    "\n",
    "  Takes in a training directory and testing directory path and turns\n",
    "  them into PyTorch Datasets and then into PyTorch DataLoaders.\n",
    "\n",
    "  Args:\n",
    "    train_dir: Path to training directory.\n",
    "    test_dir: Path to testing directory.\n",
    "    transform: torchvision transforms to perform on training and testing data.\n",
    "    batch_size: Number of samples per batch in each of the DataLoaders.\n",
    "    num_workers: An integer for number of workers per DataLoader.\n",
    "\n",
    "  Returns:\n",
    "    A tuple of (train_dataloader, test_dataloader, class_names).\n",
    "    Where class_names is a list of the target classes.\n",
    "    Example usage:\n",
    "      train_dataloader, test_dataloader, class_names = \\\n",
    "        = create_dataloaders(train_dir=path/to/train_dir,\n",
    "                             test_dir=path/to/test_dir,\n",
    "                             transform=some_transform,\n",
    "                             batch_size=32,\n",
    "                             num_workers=4)\n",
    "  \"\"\"\n",
    "  # Use ImageFolder to create dataset(s)\n",
    "  train_data = datasets.ImageFolder(train_dir, transform=transform)\n",
    "  test_data = datasets.ImageFolder(test_dir, transform=transform)\n",
    "\n",
    "  # Get class names\n",
    "  class_names = train_data.classes\n",
    "\n",
    "  # Turn images into data loaders\n",
    "  train_dataloader = DataLoader(\n",
    "      train_data,\n",
    "      batch_size=batch_size,\n",
    "      shuffle=True,\n",
    "      num_workers=num_workers,\n",
    "      pin_memory=True,\n",
    "  )\n",
    "  test_dataloader = DataLoader(\n",
    "      test_data,\n",
    "      batch_size=batch_size,\n",
    "      shuffle=False,\n",
    "      num_workers=num_workers,\n",
    "      pin_memory=True,\n",
    "  )\n",
    "\n",
    "  return train_dataloader, test_dataloader, class_names"
   ]
  },
  {
   "cell_type": "markdown",
   "id": "c9f2d3e4-2682-4992-a3da-4b8b008eaf78",
   "metadata": {},
   "source": [
    "# train with early stopping and learning rate scheduling"
   ]
  },
  {
   "attachments": {
    "d289d736-2bb8-43ee-bf4d-79c929add594.png": {
     "image/png": "[encoded data removed]"
    }
   },
   "cell_type": "markdown",
   "id": "bf56a647-4778-4f1e-a0e8-b70f0dbc9c35",
   "metadata": {},
   "source": [
    "![image.png](attachment:d289d736-2bb8-43ee-bf4d-79c929add594.png)"
   ]
  },
  {
   "cell_type": "code",
   "execution_count": 7,
   "id": "864c2682-30b7-4da6-83fd-a7f659959e0e",
   "metadata": {},
   "outputs": [],
   "source": [
    "import torch\n",
    "\n",
    "from tqdm.auto import tqdm\n",
    "from typing import Dict, List, Tuple\n",
    "import timeit\n",
    "\n",
    "def train_step(model: torch.nn.Module, \n",
    "               dataloader: torch.utils.data.DataLoader, \n",
    "               loss_fn: torch.nn.Module, \n",
    "               optimizer: torch.optim.Optimizer,\n",
    "               device: torch.device) -> Tuple[float, float]:\n",
    "    \"\"\"Trains a PyTorch model for a single epoch.\n",
    "\n",
    "    Turns a target PyTorch model to training mode and then\n",
    "    runs through all of the required training steps (forward\n",
    "    pass, loss calculation, optimizer step).\n",
    "\n",
    "    Args:\n",
    "    model: A PyTorch model to be trained.\n",
    "    dataloader: A DataLoader instance for the model to be trained on.\n",
    "    loss_fn: A PyTorch loss function to minimize.\n",
    "    optimizer: A PyTorch optimizer to help minimize the loss function.\n",
    "    device: A target device to compute on (e.g. \"cuda\" or \"cpu\").\n",
    "\n",
    "    Returns:\n",
    "    A tuple of training loss and training accuracy metrics.\n",
    "    In the form (train_loss, train_accuracy). For example:\n",
    "\n",
    "    (0.1112, 0.8743)\n",
    "    \"\"\"\n",
    "    # Put model in train mode\n",
    "    model.train()\n",
    "\n",
    "    # Setup train loss and train accuracy values\n",
    "    train_loss, train_acc = 0, 0\n",
    "\n",
    "    # Loop through data loader data batches\n",
    "    for batch, (X, y) in enumerate(dataloader):\n",
    "        # Send data to target device\n",
    "        X, y = X.to(device), y.to(device) # y shape = [batch]\n",
    "\n",
    "        # 1. Forward pass\n",
    "        y_pred = model(X) # shape = [batch, class]\n",
    "\n",
    "        # 2. Calculate  and accumulate loss\n",
    "        loss = loss_fn(y_pred, y)\n",
    "        train_loss += loss.item() \n",
    "\n",
    "        # 3. Optimizer zero grad\n",
    "        optimizer.zero_grad()\n",
    "\n",
    "        # 4. Loss backward\n",
    "        loss.backward()\n",
    "\n",
    "        # 5. Optimizer step\n",
    "        optimizer.step()\n",
    "\n",
    "        # Calculate and accumulate accuracy metric across all batches\n",
    "        y_pred_class = torch.argmax(torch.softmax(y_pred, dim=1), dim=1)\n",
    "        train_acc += (y_pred_class == y).sum().item()/len(y_pred)\n",
    "\n",
    "    # Adjust metrics to get average loss and accuracy per batch \n",
    "    train_loss = train_loss / len(dataloader)\n",
    "    train_acc = train_acc / len(dataloader)\n",
    "    return train_loss, train_acc\n",
    "\n",
    "def test_step(model: torch.nn.Module, \n",
    "              dataloader: torch.utils.data.DataLoader, \n",
    "              loss_fn: torch.nn.Module,\n",
    "              device: torch.device) -> Tuple[float, float]:\n",
    "    \"\"\"Tests a PyTorch model for a single epoch.\n",
    "\n",
    "    Turns a target PyTorch model to \"eval\" mode and then performs\n",
    "    a forward pass on a testing dataset.\n",
    "\n",
    "    Args:\n",
    "    model: A PyTorch model to be tested.\n",
    "    dataloader: A DataLoader instance for the model to be tested on.\n",
    "    loss_fn: A PyTorch loss function to calculate loss on the test data.\n",
    "    device: A target device to compute on (e.g. \"cuda\" or \"cpu\").\n",
    "\n",
    "    Returns:\n",
    "    A tuple of testing loss and testing accuracy metrics.\n",
    "    In the form (test_loss, test_accuracy). For example:\n",
    "\n",
    "    (0.0223, 0.8985)\n",
    "    \"\"\"\n",
    "    # Put model in eval mode\n",
    "    model.eval() \n",
    "\n",
    "    # Setup test loss and test accuracy values\n",
    "    test_loss, test_acc = 0, 0\n",
    "\n",
    "    # Turn on inference context manager\n",
    "    with torch.inference_mode():\n",
    "        # Loop through DataLoader batches\n",
    "        for batch, (X, y) in enumerate(dataloader):\n",
    "            # Send data to target device\n",
    "            X, y = X.to(device), y.to(device)\n",
    "\n",
    "            # 1. Forward pass\n",
    "            test_pred_logits = model(X)\n",
    "\n",
    "            # 2. Calculate and accumulate loss\n",
    "            loss = loss_fn(test_pred_logits, y)\n",
    "            test_loss += loss.item()\n",
    "\n",
    "            # Calculate and accumulate accuracy\n",
    "            test_pred_labels = torch.softmax(test_pred_logits, dim=1).argmax(dim=1)\n",
    "            test_acc += ((test_pred_labels == y).sum().item()/len(test_pred_labels))\n",
    "\n",
    "    # Adjust metrics to get average loss and accuracy per batch \n",
    "    test_loss = test_loss / len(dataloader)\n",
    "    test_acc = test_acc / len(dataloader)\n",
    "    return test_loss, test_acc\n",
    "\n",
    "def train(model: torch.nn.Module, \n",
    "          train_dataloader: torch.utils.data.DataLoader, \n",
    "          test_dataloader: torch.utils.data.DataLoader, \n",
    "          optimizer: torch.optim.Optimizer,\n",
    "          loss_fn: torch.nn.Module,\n",
    "          epochs: int,\n",
    "          device: torch.device) -> Dict[str, List]:\n",
    "    \"\"\"Trains and tests a PyTorch model.\n",
    "\n",
    "    Passes a target PyTorch models through train_step() and test_step()\n",
    "    functions for a number of epochs, training and testing the model\n",
    "    in the same epoch loop.\n",
    "\n",
    "    Calculates, prints and stores evaluation metrics throughout.\n",
    "\n",
    "    Args:\n",
    "    model: A PyTorch model to be trained and tested.\n",
    "    train_dataloader: A DataLoader instance for the model to be trained on.\n",
    "    test_dataloader: A DataLoader instance for the model to be tested on.\n",
    "    optimizer: A PyTorch optimizer to help minimize the loss function.\n",
    "    loss_fn: A PyTorch loss function to calculate loss on both datasets.\n",
    "    epochs: An integer indicating how many epochs to train for.\n",
    "    device: A target device to compute on (e.g. \"cuda\" or \"cpu\").\n",
    "\n",
    "    Returns:\n",
    "    A dictionary of training and testing loss as well as training and\n",
    "    testing accuracy metrics. Each metric has a value in a list for \n",
    "    each epoch.\n",
    "    In the form: {train_loss: [...],\n",
    "              train_acc: [...],\n",
    "              test_loss: [...],\n",
    "              test_acc: [...]} \n",
    "    For example if training for epochs=2: \n",
    "             {train_loss: [2.0616, 1.0537],\n",
    "              train_acc: [0.3945, 0.3945],\n",
    "              test_loss: [1.2641, 1.5706],\n",
    "              test_acc: [0.3400, 0.2973]} \n",
    "    \"\"\"\n",
    "    \n",
    "    # track accuracy (if it doesn't increase, reducr the learning rate)\n",
    "    scheduler = torch.optim.lr_scheduler.ReduceLROnPlateau(optimizer, mode='max', patience=1, verbose=True)\n",
    "    \n",
    "    early_stop_count=0\n",
    "    \n",
    "    # Create empty results dictionary\n",
    "    results = {\"train_loss\": [],\n",
    "               \"train_acc\": [],\n",
    "               \"test_loss\": [],\n",
    "               \"test_acc\": []\n",
    "    }\n",
    "    \n",
    "    # Make sure model on target device\n",
    "    model.to(device)\n",
    "\n",
    "    # Loop through training and testing steps for a number of epochs\n",
    "    for epoch in tqdm(range(epochs)):\n",
    "        start = timeit.default_timer()\n",
    "        train_loss, train_acc = train_step(model=model,\n",
    "                                          dataloader=train_dataloader,\n",
    "                                          loss_fn=loss_fn,\n",
    "                                          optimizer=optimizer,\n",
    "                                          device=device)\n",
    "        test_loss, test_acc = test_step(model=model,\n",
    "          dataloader=test_dataloader,\n",
    "          loss_fn=loss_fn,\n",
    "          device=device)\n",
    "        \n",
    "        stop = timeit.default_timer()\n",
    "\n",
    "        # Print out what's happening\n",
    "        print(\n",
    "          f\"Epoch: {epoch+1} | \"\n",
    "          f\"train_loss: {train_loss:.4f} | \"\n",
    "          f\"train_acc: {train_acc:.4f} | \"\n",
    "          f\"test_loss: {test_loss:.4f} | \"\n",
    "          f\"test_acc: {test_acc:.4f} | \"\n",
    "          f\"learning rate: {scheduler.optimizer.param_groups[0]['lr']:.6f} | \"\n",
    "          f\"time (sec): {stop-start:.2f}\"\n",
    "        )\n",
    "        \n",
    "        scheduler.step(test_acc) # monitor test accuracy\n",
    "        \n",
    "        # early stopping\n",
    "        if epoch==0:\n",
    "            pass\n",
    "        else:\n",
    "            if test_acc - results[\"test_acc\"][-1] <= 0.005:\n",
    "                early_stop_count+=1\n",
    "                if early_stop_count==2:\n",
    "                    print('early stopping!')\n",
    "                    break\n",
    "            else:\n",
    "                early_stop_count=0\n",
    "        \n",
    "        # Update results dictionary\n",
    "        results[\"train_loss\"].append(train_loss)\n",
    "        results[\"train_acc\"].append(train_acc)\n",
    "        results[\"test_loss\"].append(test_loss)\n",
    "        results[\"test_acc\"].append(test_acc)\n",
    "        \n",
    "                \n",
    "    # Return the filled results at the end of the epochs\n",
    "    return results"
   ]
  },
  {
   "cell_type": "code",
   "execution_count": 8,
   "id": "9fefa6cd",
   "metadata": {},
   "outputs": [],
   "source": [
    "# Plot loss curves of a model\n",
    "def plot_loss_curves(results):\n",
    "    \"\"\"Plots training curves of a results dictionary.\n",
    "\n",
    "    Args:\n",
    "        results (dict): dictionary containing list of values, e.g.\n",
    "            {\"train_loss\": [...],\n",
    "             \"train_acc\": [...],\n",
    "             \"test_loss\": [...],\n",
    "             \"test_acc\": [...]}\n",
    "    \"\"\"\n",
    "    loss = results[\"train_loss\"]\n",
    "    test_loss = results[\"test_loss\"]\n",
    "\n",
    "    accuracy = results[\"train_acc\"]\n",
    "    test_accuracy = results[\"test_acc\"]\n",
    "\n",
    "    epochs = range(len(results[\"train_loss\"]))\n",
    "\n",
    "    plt.figure(figsize=(15, 7))\n",
    "\n",
    "    # Plot loss\n",
    "    plt.subplot(1, 2, 1)\n",
    "    plt.plot(epochs, loss, label=\"train_loss\")\n",
    "    plt.plot(epochs, test_loss, label=\"test_loss\")\n",
    "    plt.title(\"Loss\")\n",
    "    plt.xlabel(\"Epochs\")\n",
    "    plt.legend()\n",
    "\n",
    "    # Plot accuracy\n",
    "    plt.subplot(1, 2, 2)\n",
    "    plt.plot(epochs, accuracy, label=\"train_accuracy\")\n",
    "    plt.plot(epochs, test_accuracy, label=\"test_accuracy\")\n",
    "    plt.title(\"Accuracy\")\n",
    "    plt.xlabel(\"Epochs\")\n",
    "    plt.legend()\n",
    "    print('average train accuracy:', sum(accuracy)/len(accuracy))\n",
    "    print('average test accuracy:', sum(test_accuracy)/len(test_accuracy))"
   ]
  },
  {
   "cell_type": "code",
   "execution_count": 9,
   "id": "8797b589",
   "metadata": {},
   "outputs": [],
   "source": [
    "from torchmetrics import ConfusionMatrix\n",
    "from mlxtend.plotting import plot_confusion_matrix\n",
    "def plot_confision_matrix(model):\n",
    "    # 1. Make predictions with trained model\n",
    "    y_preds = []\n",
    "    y_trues = []\n",
    "    model.eval()\n",
    "    with torch.inference_mode():\n",
    "      for batch, (X, y) in tqdm(enumerate(test_dataloader), desc=\"Making predictions\"):\n",
    "        # Send data and targets to target device\n",
    "        X, y = X.to(device), y.to(device)\n",
    "        # Do the forward pass\n",
    "        y_logit = model(X)\n",
    "        # Turn predictions from logits -> prediction probabilities -> predictions labels\n",
    "        y_pred = torch.softmax(y_logit.squeeze(), dim=1).argmax(dim=1)\n",
    "        # Put predictions on CPU for evaluation\n",
    "        y_preds.append(y_pred.cpu())\n",
    "        y_trues.append(y.cpu())\n",
    "    # Concatenate list of predictions into a tensor\n",
    "    y_pred_tensor = torch.cat(y_preds)\n",
    "    y_true_tensor = torch.cat(y_trues)\n",
    "    \n",
    "    # 2. Setup confusion matrix instance and compare predictions to targets\n",
    "    confmat = ConfusionMatrix(num_classes=len(class_names))\n",
    "    confmat_tensor = confmat(preds=y_pred_tensor,\n",
    "                             target=y_true_tensor)\n",
    "\n",
    "    # 3. Plot the confusion matrix\n",
    "    fig, ax = plot_confusion_matrix(\n",
    "        conf_mat=confmat_tensor.numpy(), # matplotlib likes working with NumPy \n",
    "        class_names=class_names, # turn the row and column labels into class names\n",
    "        figsize=(10, 7)\n",
    "    );"
   ]
  },
  {
   "cell_type": "markdown",
   "id": "6ef418be-489f-4729-83c1-5c4648166e7a",
   "metadata": {},
   "source": [
    "# resnet50"
   ]
  },
  {
   "cell_type": "code",
   "execution_count": 10,
   "id": "72620661-c451-4ff2-baa9-0293c55923b0",
   "metadata": {},
   "outputs": [
    {
     "data": {
      "text/plain": [
       "ResNet50_Weights.IMAGENET1K_V2"
      ]
     },
     "execution_count": 10,
     "metadata": {},
     "output_type": "execute_result"
    }
   ],
   "source": [
    "# Get a set of pretrained model weights\n",
    "weights = torchvision.models.ResNet50_Weights.DEFAULT # .DEFAULT = best available weights from pretraining on ImageNet\n",
    "weights"
   ]
  },
  {
   "cell_type": "code",
   "execution_count": 11,
   "id": "b82c2f33-b5cc-4d5d-a399-0eb3ab16dae1",
   "metadata": {},
   "outputs": [
    {
     "data": {
      "text/plain": [
       "ImageClassification(\n",
       "    crop_size=[224]\n",
       "    resize_size=[232]\n",
       "    mean=[0.485, 0.456, 0.406]\n",
       "    std=[0.229, 0.224, 0.225]\n",
       "    interpolation=InterpolationMode.BILINEAR\n",
       ")"
      ]
     },
     "execution_count": 11,
     "metadata": {},
     "output_type": "execute_result"
    }
   ],
   "source": [
    "# Get the transforms used to create our pretrained weights\n",
    "auto_transforms = weights.transforms()\n",
    "auto_transforms"
   ]
  },
  {
   "cell_type": "code",
   "execution_count": 12,
   "id": "114f4ec6-44f0-48f1-9ceb-afa420bd6c82",
   "metadata": {},
   "outputs": [
    {
     "data": {
      "text/plain": [
       "(<torch.utils.data.dataloader.DataLoader at 0x1f1d827eb50>,\n",
       " <torch.utils.data.dataloader.DataLoader at 0x1f1c8e29d60>,\n",
       " ['COVID19', 'NORMAL', 'PNEUMONIA'])"
      ]
     },
     "execution_count": 12,
     "metadata": {},
     "output_type": "execute_result"
    }
   ],
   "source": [
    "# Create training and testing DataLoaders as well as get a list of class names\n",
    "train_dataloader, test_dataloader, class_names = create_dataloaders(train_dir=train_dir,\n",
    "                                                                               test_dir=test_dir,\n",
    "                                                                               transform=auto_transforms, # perform same data transforms on our own data as the pretrained model\n",
    "                                                                               batch_size=32) # set mini-batch size to 32\n",
    "\n",
    "train_dataloader, test_dataloader, class_names"
   ]
  },
  {
   "cell_type": "code",
   "execution_count": 14,
   "id": "ecf867e1-b119-483b-8321-2ad957ec27eb",
   "metadata": {},
   "outputs": [
    {
     "name": "stdout",
     "output_type": "stream",
     "text": [
      "tensor([0, 0, 0, 0, 0, 0, 0, 0, 0, 0, 0, 0, 0, 0, 0, 0, 0, 0, 0, 0, 0, 0, 0, 0,\n",
      "        0, 0, 0, 0, 0, 0, 0, 0], device='cuda:0')\n",
      "torch.Size([32])\n"
     ]
    }
   ],
   "source": [
    "for batch, (X, y) in enumerate(test_dataloader):\n",
    "    # Send data to target device\n",
    "    X, y = X.to(device), y.to(device)\n",
    "    print(y)\n",
    "    print(y.shape)\n",
    "    break"
   ]
  },
  {
   "cell_type": "code",
   "execution_count": 13,
   "id": "55771298-424d-48c8-b07f-8c206996f7b0",
   "metadata": {},
   "outputs": [],
   "source": [
    "model = torchvision.models.resnet50(weights=weights).to(device)"
   ]
  },
  {
   "cell_type": "code",
   "execution_count": 14,
   "id": "416d0d1c-7467-446f-a45c-7067b2aa963d",
   "metadata": {},
   "outputs": [
    {
     "data": {
      "text/plain": [
       "====================================================================================================\n",
       "Layer (type (var_name))                  Input Shape     Output Shape    Param #         Trainable\n",
       "====================================================================================================\n",
       "ResNet (ResNet)                          [32, 3, 224, 224] [32, 1000]      --              True\n",
       "├─Conv2d (conv1)                         [32, 3, 224, 224] [32, 64, 112, 112] 9,408           True\n",
       "├─BatchNorm2d (bn1)                      [32, 64, 112, 112] [32, 64, 112, 112] 128             True\n",
       "├─ReLU (relu)                            [32, 64, 112, 112] [32, 64, 112, 112] --              --\n",
       "├─MaxPool2d (maxpool)                    [32, 64, 112, 112] [32, 64, 56, 56] --              --\n",
       "├─Sequential (layer1)                    [32, 64, 56, 56] [32, 256, 56, 56] --              True\n",
       "│    └─Bottleneck (0)                    [32, 64, 56, 56] [32, 256, 56, 56] --              True\n",
       "│    │    └─Conv2d (conv1)               [32, 64, 56, 56] [32, 64, 56, 56] 4,096           True\n",
       "│    │    └─BatchNorm2d (bn1)            [32, 64, 56, 56] [32, 64, 56, 56] 128             True\n",
       "│    │    └─ReLU (relu)                  [32, 64, 56, 56] [32, 64, 56, 56] --              --\n",
       "│    │    └─Conv2d (conv2)               [32, 64, 56, 56] [32, 64, 56, 56] 36,864          True\n",
       "│    │    └─BatchNorm2d (bn2)            [32, 64, 56, 56] [32, 64, 56, 56] 128             True\n",
       "│    │    └─ReLU (relu)                  [32, 64, 56, 56] [32, 64, 56, 56] --              --\n",
       "│    │    └─Conv2d (conv3)               [32, 64, 56, 56] [32, 256, 56, 56] 16,384          True\n",
       "│    │    └─BatchNorm2d (bn3)            [32, 256, 56, 56] [32, 256, 56, 56] 512             True\n",
       "│    │    └─Sequential (downsample)      [32, 64, 56, 56] [32, 256, 56, 56] 16,896          True\n",
       "│    │    └─ReLU (relu)                  [32, 256, 56, 56] [32, 256, 56, 56] --              --\n",
       "│    └─Bottleneck (1)                    [32, 256, 56, 56] [32, 256, 56, 56] --              True\n",
       "│    │    └─Conv2d (conv1)               [32, 256, 56, 56] [32, 64, 56, 56] 16,384          True\n",
       "│    │    └─BatchNorm2d (bn1)            [32, 64, 56, 56] [32, 64, 56, 56] 128             True\n",
       "│    │    └─ReLU (relu)                  [32, 64, 56, 56] [32, 64, 56, 56] --              --\n",
       "│    │    └─Conv2d (conv2)               [32, 64, 56, 56] [32, 64, 56, 56] 36,864          True\n",
       "│    │    └─BatchNorm2d (bn2)            [32, 64, 56, 56] [32, 64, 56, 56] 128             True\n",
       "│    │    └─ReLU (relu)                  [32, 64, 56, 56] [32, 64, 56, 56] --              --\n",
       "│    │    └─Conv2d (conv3)               [32, 64, 56, 56] [32, 256, 56, 56] 16,384          True\n",
       "│    │    └─BatchNorm2d (bn3)            [32, 256, 56, 56] [32, 256, 56, 56] 512             True\n",
       "│    │    └─ReLU (relu)                  [32, 256, 56, 56] [32, 256, 56, 56] --              --\n",
       "│    └─Bottleneck (2)                    [32, 256, 56, 56] [32, 256, 56, 56] --              True\n",
       "│    │    └─Conv2d (conv1)               [32, 256, 56, 56] [32, 64, 56, 56] 16,384          True\n",
       "│    │    └─BatchNorm2d (bn1)            [32, 64, 56, 56] [32, 64, 56, 56] 128             True\n",
       "│    │    └─ReLU (relu)                  [32, 64, 56, 56] [32, 64, 56, 56] --              --\n",
       "│    │    └─Conv2d (conv2)               [32, 64, 56, 56] [32, 64, 56, 56] 36,864          True\n",
       "│    │    └─BatchNorm2d (bn2)            [32, 64, 56, 56] [32, 64, 56, 56] 128             True\n",
       "│    │    └─ReLU (relu)                  [32, 64, 56, 56] [32, 64, 56, 56] --              --\n",
       "│    │    └─Conv2d (conv3)               [32, 64, 56, 56] [32, 256, 56, 56] 16,384          True\n",
       "│    │    └─BatchNorm2d (bn3)            [32, 256, 56, 56] [32, 256, 56, 56] 512             True\n",
       "│    │    └─ReLU (relu)                  [32, 256, 56, 56] [32, 256, 56, 56] --              --\n",
       "├─Sequential (layer2)                    [32, 256, 56, 56] [32, 512, 28, 28] --              True\n",
       "│    └─Bottleneck (0)                    [32, 256, 56, 56] [32, 512, 28, 28] --              True\n",
       "│    │    └─Conv2d (conv1)               [32, 256, 56, 56] [32, 128, 56, 56] 32,768          True\n",
       "│    │    └─BatchNorm2d (bn1)            [32, 128, 56, 56] [32, 128, 56, 56] 256             True\n",
       "│    │    └─ReLU (relu)                  [32, 128, 56, 56] [32, 128, 56, 56] --              --\n",
       "│    │    └─Conv2d (conv2)               [32, 128, 56, 56] [32, 128, 28, 28] 147,456         True\n",
       "│    │    └─BatchNorm2d (bn2)            [32, 128, 28, 28] [32, 128, 28, 28] 256             True\n",
       "│    │    └─ReLU (relu)                  [32, 128, 28, 28] [32, 128, 28, 28] --              --\n",
       "│    │    └─Conv2d (conv3)               [32, 128, 28, 28] [32, 512, 28, 28] 65,536          True\n",
       "│    │    └─BatchNorm2d (bn3)            [32, 512, 28, 28] [32, 512, 28, 28] 1,024           True\n",
       "│    │    └─Sequential (downsample)      [32, 256, 56, 56] [32, 512, 28, 28] 132,096         True\n",
       "│    │    └─ReLU (relu)                  [32, 512, 28, 28] [32, 512, 28, 28] --              --\n",
       "│    └─Bottleneck (1)                    [32, 512, 28, 28] [32, 512, 28, 28] --              True\n",
       "│    │    └─Conv2d (conv1)               [32, 512, 28, 28] [32, 128, 28, 28] 65,536          True\n",
       "│    │    └─BatchNorm2d (bn1)            [32, 128, 28, 28] [32, 128, 28, 28] 256             True\n",
       "│    │    └─ReLU (relu)                  [32, 128, 28, 28] [32, 128, 28, 28] --              --\n",
       "│    │    └─Conv2d (conv2)               [32, 128, 28, 28] [32, 128, 28, 28] 147,456         True\n",
       "│    │    └─BatchNorm2d (bn2)            [32, 128, 28, 28] [32, 128, 28, 28] 256             True\n",
       "│    │    └─ReLU (relu)                  [32, 128, 28, 28] [32, 128, 28, 28] --              --\n",
       "│    │    └─Conv2d (conv3)               [32, 128, 28, 28] [32, 512, 28, 28] 65,536          True\n",
       "│    │    └─BatchNorm2d (bn3)            [32, 512, 28, 28] [32, 512, 28, 28] 1,024           True\n",
       "│    │    └─ReLU (relu)                  [32, 512, 28, 28] [32, 512, 28, 28] --              --\n",
       "│    └─Bottleneck (2)                    [32, 512, 28, 28] [32, 512, 28, 28] --              True\n",
       "│    │    └─Conv2d (conv1)               [32, 512, 28, 28] [32, 128, 28, 28] 65,536          True\n",
       "│    │    └─BatchNorm2d (bn1)            [32, 128, 28, 28] [32, 128, 28, 28] 256             True\n",
       "│    │    └─ReLU (relu)                  [32, 128, 28, 28] [32, 128, 28, 28] --              --\n",
       "│    │    └─Conv2d (conv2)               [32, 128, 28, 28] [32, 128, 28, 28] 147,456         True\n",
       "│    │    └─BatchNorm2d (bn2)            [32, 128, 28, 28] [32, 128, 28, 28] 256             True\n",
       "│    │    └─ReLU (relu)                  [32, 128, 28, 28] [32, 128, 28, 28] --              --\n",
       "│    │    └─Conv2d (conv3)               [32, 128, 28, 28] [32, 512, 28, 28] 65,536          True\n",
       "│    │    └─BatchNorm2d (bn3)            [32, 512, 28, 28] [32, 512, 28, 28] 1,024           True\n",
       "│    │    └─ReLU (relu)                  [32, 512, 28, 28] [32, 512, 28, 28] --              --\n",
       "│    └─Bottleneck (3)                    [32, 512, 28, 28] [32, 512, 28, 28] --              True\n",
       "│    │    └─Conv2d (conv1)               [32, 512, 28, 28] [32, 128, 28, 28] 65,536          True\n",
       "│    │    └─BatchNorm2d (bn1)            [32, 128, 28, 28] [32, 128, 28, 28] 256             True\n",
       "│    │    └─ReLU (relu)                  [32, 128, 28, 28] [32, 128, 28, 28] --              --\n",
       "│    │    └─Conv2d (conv2)               [32, 128, 28, 28] [32, 128, 28, 28] 147,456         True\n",
       "│    │    └─BatchNorm2d (bn2)            [32, 128, 28, 28] [32, 128, 28, 28] 256             True\n",
       "│    │    └─ReLU (relu)                  [32, 128, 28, 28] [32, 128, 28, 28] --              --\n",
       "│    │    └─Conv2d (conv3)               [32, 128, 28, 28] [32, 512, 28, 28] 65,536          True\n",
       "│    │    └─BatchNorm2d (bn3)            [32, 512, 28, 28] [32, 512, 28, 28] 1,024           True\n",
       "│    │    └─ReLU (relu)                  [32, 512, 28, 28] [32, 512, 28, 28] --              --\n",
       "├─Sequential (layer3)                    [32, 512, 28, 28] [32, 1024, 14, 14] --              True\n",
       "│    └─Bottleneck (0)                    [32, 512, 28, 28] [32, 1024, 14, 14] --              True\n",
       "│    │    └─Conv2d (conv1)               [32, 512, 28, 28] [32, 256, 28, 28] 131,072         True\n",
       "│    │    └─BatchNorm2d (bn1)            [32, 256, 28, 28] [32, 256, 28, 28] 512             True\n",
       "│    │    └─ReLU (relu)                  [32, 256, 28, 28] [32, 256, 28, 28] --              --\n",
       "│    │    └─Conv2d (conv2)               [32, 256, 28, 28] [32, 256, 14, 14] 589,824         True\n",
       "│    │    └─BatchNorm2d (bn2)            [32, 256, 14, 14] [32, 256, 14, 14] 512             True\n",
       "│    │    └─ReLU (relu)                  [32, 256, 14, 14] [32, 256, 14, 14] --              --\n",
       "│    │    └─Conv2d (conv3)               [32, 256, 14, 14] [32, 1024, 14, 14] 262,144         True\n",
       "│    │    └─BatchNorm2d (bn3)            [32, 1024, 14, 14] [32, 1024, 14, 14] 2,048           True\n",
       "│    │    └─Sequential (downsample)      [32, 512, 28, 28] [32, 1024, 14, 14] 526,336         True\n",
       "│    │    └─ReLU (relu)                  [32, 1024, 14, 14] [32, 1024, 14, 14] --              --\n",
       "│    └─Bottleneck (1)                    [32, 1024, 14, 14] [32, 1024, 14, 14] --              True\n",
       "│    │    └─Conv2d (conv1)               [32, 1024, 14, 14] [32, 256, 14, 14] 262,144         True\n",
       "│    │    └─BatchNorm2d (bn1)            [32, 256, 14, 14] [32, 256, 14, 14] 512             True\n",
       "│    │    └─ReLU (relu)                  [32, 256, 14, 14] [32, 256, 14, 14] --              --\n",
       "│    │    └─Conv2d (conv2)               [32, 256, 14, 14] [32, 256, 14, 14] 589,824         True\n",
       "│    │    └─BatchNorm2d (bn2)            [32, 256, 14, 14] [32, 256, 14, 14] 512             True\n",
       "│    │    └─ReLU (relu)                  [32, 256, 14, 14] [32, 256, 14, 14] --              --\n",
       "│    │    └─Conv2d (conv3)               [32, 256, 14, 14] [32, 1024, 14, 14] 262,144         True\n",
       "│    │    └─BatchNorm2d (bn3)            [32, 1024, 14, 14] [32, 1024, 14, 14] 2,048           True\n",
       "│    │    └─ReLU (relu)                  [32, 1024, 14, 14] [32, 1024, 14, 14] --              --\n",
       "│    └─Bottleneck (2)                    [32, 1024, 14, 14] [32, 1024, 14, 14] --              True\n",
       "│    │    └─Conv2d (conv1)               [32, 1024, 14, 14] [32, 256, 14, 14] 262,144         True\n",
       "│    │    └─BatchNorm2d (bn1)            [32, 256, 14, 14] [32, 256, 14, 14] 512             True\n",
       "│    │    └─ReLU (relu)                  [32, 256, 14, 14] [32, 256, 14, 14] --              --\n",
       "│    │    └─Conv2d (conv2)               [32, 256, 14, 14] [32, 256, 14, 14] 589,824         True\n",
       "│    │    └─BatchNorm2d (bn2)            [32, 256, 14, 14] [32, 256, 14, 14] 512             True\n",
       "│    │    └─ReLU (relu)                  [32, 256, 14, 14] [32, 256, 14, 14] --              --\n",
       "│    │    └─Conv2d (conv3)               [32, 256, 14, 14] [32, 1024, 14, 14] 262,144         True\n",
       "│    │    └─BatchNorm2d (bn3)            [32, 1024, 14, 14] [32, 1024, 14, 14] 2,048           True\n",
       "│    │    └─ReLU (relu)                  [32, 1024, 14, 14] [32, 1024, 14, 14] --              --\n",
       "│    └─Bottleneck (3)                    [32, 1024, 14, 14] [32, 1024, 14, 14] --              True\n",
       "│    │    └─Conv2d (conv1)               [32, 1024, 14, 14] [32, 256, 14, 14] 262,144         True\n",
       "│    │    └─BatchNorm2d (bn1)            [32, 256, 14, 14] [32, 256, 14, 14] 512             True\n",
       "│    │    └─ReLU (relu)                  [32, 256, 14, 14] [32, 256, 14, 14] --              --\n",
       "│    │    └─Conv2d (conv2)               [32, 256, 14, 14] [32, 256, 14, 14] 589,824         True\n",
       "│    │    └─BatchNorm2d (bn2)            [32, 256, 14, 14] [32, 256, 14, 14] 512             True\n",
       "│    │    └─ReLU (relu)                  [32, 256, 14, 14] [32, 256, 14, 14] --              --\n",
       "│    │    └─Conv2d (conv3)               [32, 256, 14, 14] [32, 1024, 14, 14] 262,144         True\n",
       "│    │    └─BatchNorm2d (bn3)            [32, 1024, 14, 14] [32, 1024, 14, 14] 2,048           True\n",
       "│    │    └─ReLU (relu)                  [32, 1024, 14, 14] [32, 1024, 14, 14] --              --\n",
       "│    └─Bottleneck (4)                    [32, 1024, 14, 14] [32, 1024, 14, 14] --              True\n",
       "│    │    └─Conv2d (conv1)               [32, 1024, 14, 14] [32, 256, 14, 14] 262,144         True\n",
       "│    │    └─BatchNorm2d (bn1)            [32, 256, 14, 14] [32, 256, 14, 14] 512             True\n",
       "│    │    └─ReLU (relu)                  [32, 256, 14, 14] [32, 256, 14, 14] --              --\n",
       "│    │    └─Conv2d (conv2)               [32, 256, 14, 14] [32, 256, 14, 14] 589,824         True\n",
       "│    │    └─BatchNorm2d (bn2)            [32, 256, 14, 14] [32, 256, 14, 14] 512             True\n",
       "│    │    └─ReLU (relu)                  [32, 256, 14, 14] [32, 256, 14, 14] --              --\n",
       "│    │    └─Conv2d (conv3)               [32, 256, 14, 14] [32, 1024, 14, 14] 262,144         True\n",
       "│    │    └─BatchNorm2d (bn3)            [32, 1024, 14, 14] [32, 1024, 14, 14] 2,048           True\n",
       "│    │    └─ReLU (relu)                  [32, 1024, 14, 14] [32, 1024, 14, 14] --              --\n",
       "│    └─Bottleneck (5)                    [32, 1024, 14, 14] [32, 1024, 14, 14] --              True\n",
       "│    │    └─Conv2d (conv1)               [32, 1024, 14, 14] [32, 256, 14, 14] 262,144         True\n",
       "│    │    └─BatchNorm2d (bn1)            [32, 256, 14, 14] [32, 256, 14, 14] 512             True\n",
       "│    │    └─ReLU (relu)                  [32, 256, 14, 14] [32, 256, 14, 14] --              --\n",
       "│    │    └─Conv2d (conv2)               [32, 256, 14, 14] [32, 256, 14, 14] 589,824         True\n",
       "│    │    └─BatchNorm2d (bn2)            [32, 256, 14, 14] [32, 256, 14, 14] 512             True\n",
       "│    │    └─ReLU (relu)                  [32, 256, 14, 14] [32, 256, 14, 14] --              --\n",
       "│    │    └─Conv2d (conv3)               [32, 256, 14, 14] [32, 1024, 14, 14] 262,144         True\n",
       "│    │    └─BatchNorm2d (bn3)            [32, 1024, 14, 14] [32, 1024, 14, 14] 2,048           True\n",
       "│    │    └─ReLU (relu)                  [32, 1024, 14, 14] [32, 1024, 14, 14] --              --\n",
       "├─Sequential (layer4)                    [32, 1024, 14, 14] [32, 2048, 7, 7] --              True\n",
       "│    └─Bottleneck (0)                    [32, 1024, 14, 14] [32, 2048, 7, 7] --              True\n",
       "│    │    └─Conv2d (conv1)               [32, 1024, 14, 14] [32, 512, 14, 14] 524,288         True\n",
       "│    │    └─BatchNorm2d (bn1)            [32, 512, 14, 14] [32, 512, 14, 14] 1,024           True\n",
       "│    │    └─ReLU (relu)                  [32, 512, 14, 14] [32, 512, 14, 14] --              --\n",
       "│    │    └─Conv2d (conv2)               [32, 512, 14, 14] [32, 512, 7, 7] 2,359,296       True\n",
       "│    │    └─BatchNorm2d (bn2)            [32, 512, 7, 7] [32, 512, 7, 7] 1,024           True\n",
       "│    │    └─ReLU (relu)                  [32, 512, 7, 7] [32, 512, 7, 7] --              --\n",
       "│    │    └─Conv2d (conv3)               [32, 512, 7, 7] [32, 2048, 7, 7] 1,048,576       True\n",
       "│    │    └─BatchNorm2d (bn3)            [32, 2048, 7, 7] [32, 2048, 7, 7] 4,096           True\n",
       "│    │    └─Sequential (downsample)      [32, 1024, 14, 14] [32, 2048, 7, 7] 2,101,248       True\n",
       "│    │    └─ReLU (relu)                  [32, 2048, 7, 7] [32, 2048, 7, 7] --              --\n",
       "│    └─Bottleneck (1)                    [32, 2048, 7, 7] [32, 2048, 7, 7] --              True\n",
       "│    │    └─Conv2d (conv1)               [32, 2048, 7, 7] [32, 512, 7, 7] 1,048,576       True\n",
       "│    │    └─BatchNorm2d (bn1)            [32, 512, 7, 7] [32, 512, 7, 7] 1,024           True\n",
       "│    │    └─ReLU (relu)                  [32, 512, 7, 7] [32, 512, 7, 7] --              --\n",
       "│    │    └─Conv2d (conv2)               [32, 512, 7, 7] [32, 512, 7, 7] 2,359,296       True\n",
       "│    │    └─BatchNorm2d (bn2)            [32, 512, 7, 7] [32, 512, 7, 7] 1,024           True\n",
       "│    │    └─ReLU (relu)                  [32, 512, 7, 7] [32, 512, 7, 7] --              --\n",
       "│    │    └─Conv2d (conv3)               [32, 512, 7, 7] [32, 2048, 7, 7] 1,048,576       True\n",
       "│    │    └─BatchNorm2d (bn3)            [32, 2048, 7, 7] [32, 2048, 7, 7] 4,096           True\n",
       "│    │    └─ReLU (relu)                  [32, 2048, 7, 7] [32, 2048, 7, 7] --              --\n",
       "│    └─Bottleneck (2)                    [32, 2048, 7, 7] [32, 2048, 7, 7] --              True\n",
       "│    │    └─Conv2d (conv1)               [32, 2048, 7, 7] [32, 512, 7, 7] 1,048,576       True\n",
       "│    │    └─BatchNorm2d (bn1)            [32, 512, 7, 7] [32, 512, 7, 7] 1,024           True\n",
       "│    │    └─ReLU (relu)                  [32, 512, 7, 7] [32, 512, 7, 7] --              --\n",
       "│    │    └─Conv2d (conv2)               [32, 512, 7, 7] [32, 512, 7, 7] 2,359,296       True\n",
       "│    │    └─BatchNorm2d (bn2)            [32, 512, 7, 7] [32, 512, 7, 7] 1,024           True\n",
       "│    │    └─ReLU (relu)                  [32, 512, 7, 7] [32, 512, 7, 7] --              --\n",
       "│    │    └─Conv2d (conv3)               [32, 512, 7, 7] [32, 2048, 7, 7] 1,048,576       True\n",
       "│    │    └─BatchNorm2d (bn3)            [32, 2048, 7, 7] [32, 2048, 7, 7] 4,096           True\n",
       "│    │    └─ReLU (relu)                  [32, 2048, 7, 7] [32, 2048, 7, 7] --              --\n",
       "├─AdaptiveAvgPool2d (avgpool)            [32, 2048, 7, 7] [32, 2048, 1, 1] --              --\n",
       "├─Linear (fc)                            [32, 2048]      [32, 1000]      2,049,000       True\n",
       "====================================================================================================\n",
       "Total params: 25,557,032\n",
       "Trainable params: 25,557,032\n",
       "Non-trainable params: 0\n",
       "Total mult-adds (G): 130.86\n",
       "====================================================================================================\n",
       "Input size (MB): 19.27\n",
       "Forward/backward pass size (MB): 5690.62\n",
       "Params size (MB): 102.23\n",
       "Estimated Total Size (MB): 5812.11\n",
       "===================================================================================================="
      ]
     },
     "execution_count": 14,
     "metadata": {},
     "output_type": "execute_result"
    }
   ],
   "source": [
    "# Print a summary using torchinfo (uncomment for actual output)\n",
    "summary(model=model, \n",
    "        input_size=(32, 3, 224, 224), # make sure this is \"input_size\", not \"input_shape\"\n",
    "        # col_names=[\"input_size\"], # uncomment for smaller output\n",
    "        col_names=[\"input_size\", \"output_size\", \"num_params\", \"trainable\"],\n",
    "        col_width=15,\n",
    "        row_settings=[\"var_names\"]\n",
    ")"
   ]
  },
  {
   "cell_type": "code",
   "execution_count": 15,
   "id": "6a623adc-c6c4-4625-aa6c-50524be34403",
   "metadata": {},
   "outputs": [],
   "source": [
    "# Freeze all base layers in the \"features\" section of the model (the feature extractor) by setting requires_grad=False\n",
    "for param in model.parameters():\n",
    "    param.requires_grad = False"
   ]
  },
  {
   "cell_type": "code",
   "execution_count": 16,
   "id": "b6588d73-f288-49cc-9f5e-ca98194ee25f",
   "metadata": {},
   "outputs": [],
   "source": [
    "# Get the length of class_names (one output unit for each class)\n",
    "output_shape = len(class_names)\n",
    "\n",
    "# Recreate the classifier layer and seed it to the target device\n",
    "model.fc = torch.nn.Sequential(\n",
    "    torch.nn.Dropout(p=0.2, inplace=True), \n",
    "    torch.nn.Linear(in_features=2048, \n",
    "                    out_features=output_shape, # same number of output units as our number of classes\n",
    "                    bias=True)).to(device)"
   ]
  },
  {
   "cell_type": "code",
   "execution_count": 17,
   "id": "8f97b23e-41be-45ac-b8b1-afaf058cc8f1",
   "metadata": {},
   "outputs": [
    {
     "data": {
      "text/plain": [
       "====================================================================================================\n",
       "Layer (type (var_name))                  Input Shape     Output Shape    Param #         Trainable\n",
       "====================================================================================================\n",
       "ResNet (ResNet)                          [32, 3, 224, 224] [32, 3]         --              Partial\n",
       "├─Conv2d (conv1)                         [32, 3, 224, 224] [32, 64, 112, 112] (9,408)         False\n",
       "├─BatchNorm2d (bn1)                      [32, 64, 112, 112] [32, 64, 112, 112] (128)           False\n",
       "├─ReLU (relu)                            [32, 64, 112, 112] [32, 64, 112, 112] --              --\n",
       "├─MaxPool2d (maxpool)                    [32, 64, 112, 112] [32, 64, 56, 56] --              --\n",
       "├─Sequential (layer1)                    [32, 64, 56, 56] [32, 256, 56, 56] --              False\n",
       "│    └─Bottleneck (0)                    [32, 64, 56, 56] [32, 256, 56, 56] --              False\n",
       "│    │    └─Conv2d (conv1)               [32, 64, 56, 56] [32, 64, 56, 56] (4,096)         False\n",
       "│    │    └─BatchNorm2d (bn1)            [32, 64, 56, 56] [32, 64, 56, 56] (128)           False\n",
       "│    │    └─ReLU (relu)                  [32, 64, 56, 56] [32, 64, 56, 56] --              --\n",
       "│    │    └─Conv2d (conv2)               [32, 64, 56, 56] [32, 64, 56, 56] (36,864)        False\n",
       "│    │    └─BatchNorm2d (bn2)            [32, 64, 56, 56] [32, 64, 56, 56] (128)           False\n",
       "│    │    └─ReLU (relu)                  [32, 64, 56, 56] [32, 64, 56, 56] --              --\n",
       "│    │    └─Conv2d (conv3)               [32, 64, 56, 56] [32, 256, 56, 56] (16,384)        False\n",
       "│    │    └─BatchNorm2d (bn3)            [32, 256, 56, 56] [32, 256, 56, 56] (512)           False\n",
       "│    │    └─Sequential (downsample)      [32, 64, 56, 56] [32, 256, 56, 56] (16,896)        False\n",
       "│    │    └─ReLU (relu)                  [32, 256, 56, 56] [32, 256, 56, 56] --              --\n",
       "│    └─Bottleneck (1)                    [32, 256, 56, 56] [32, 256, 56, 56] --              False\n",
       "│    │    └─Conv2d (conv1)               [32, 256, 56, 56] [32, 64, 56, 56] (16,384)        False\n",
       "│    │    └─BatchNorm2d (bn1)            [32, 64, 56, 56] [32, 64, 56, 56] (128)           False\n",
       "│    │    └─ReLU (relu)                  [32, 64, 56, 56] [32, 64, 56, 56] --              --\n",
       "│    │    └─Conv2d (conv2)               [32, 64, 56, 56] [32, 64, 56, 56] (36,864)        False\n",
       "│    │    └─BatchNorm2d (bn2)            [32, 64, 56, 56] [32, 64, 56, 56] (128)           False\n",
       "│    │    └─ReLU (relu)                  [32, 64, 56, 56] [32, 64, 56, 56] --              --\n",
       "│    │    └─Conv2d (conv3)               [32, 64, 56, 56] [32, 256, 56, 56] (16,384)        False\n",
       "│    │    └─BatchNorm2d (bn3)            [32, 256, 56, 56] [32, 256, 56, 56] (512)           False\n",
       "│    │    └─ReLU (relu)                  [32, 256, 56, 56] [32, 256, 56, 56] --              --\n",
       "│    └─Bottleneck (2)                    [32, 256, 56, 56] [32, 256, 56, 56] --              False\n",
       "│    │    └─Conv2d (conv1)               [32, 256, 56, 56] [32, 64, 56, 56] (16,384)        False\n",
       "│    │    └─BatchNorm2d (bn1)            [32, 64, 56, 56] [32, 64, 56, 56] (128)           False\n",
       "│    │    └─ReLU (relu)                  [32, 64, 56, 56] [32, 64, 56, 56] --              --\n",
       "│    │    └─Conv2d (conv2)               [32, 64, 56, 56] [32, 64, 56, 56] (36,864)        False\n",
       "│    │    └─BatchNorm2d (bn2)            [32, 64, 56, 56] [32, 64, 56, 56] (128)           False\n",
       "│    │    └─ReLU (relu)                  [32, 64, 56, 56] [32, 64, 56, 56] --              --\n",
       "│    │    └─Conv2d (conv3)               [32, 64, 56, 56] [32, 256, 56, 56] (16,384)        False\n",
       "│    │    └─BatchNorm2d (bn3)            [32, 256, 56, 56] [32, 256, 56, 56] (512)           False\n",
       "│    │    └─ReLU (relu)                  [32, 256, 56, 56] [32, 256, 56, 56] --              --\n",
       "├─Sequential (layer2)                    [32, 256, 56, 56] [32, 512, 28, 28] --              False\n",
       "│    └─Bottleneck (0)                    [32, 256, 56, 56] [32, 512, 28, 28] --              False\n",
       "│    │    └─Conv2d (conv1)               [32, 256, 56, 56] [32, 128, 56, 56] (32,768)        False\n",
       "│    │    └─BatchNorm2d (bn1)            [32, 128, 56, 56] [32, 128, 56, 56] (256)           False\n",
       "│    │    └─ReLU (relu)                  [32, 128, 56, 56] [32, 128, 56, 56] --              --\n",
       "│    │    └─Conv2d (conv2)               [32, 128, 56, 56] [32, 128, 28, 28] (147,456)       False\n",
       "│    │    └─BatchNorm2d (bn2)            [32, 128, 28, 28] [32, 128, 28, 28] (256)           False\n",
       "│    │    └─ReLU (relu)                  [32, 128, 28, 28] [32, 128, 28, 28] --              --\n",
       "│    │    └─Conv2d (conv3)               [32, 128, 28, 28] [32, 512, 28, 28] (65,536)        False\n",
       "│    │    └─BatchNorm2d (bn3)            [32, 512, 28, 28] [32, 512, 28, 28] (1,024)         False\n",
       "│    │    └─Sequential (downsample)      [32, 256, 56, 56] [32, 512, 28, 28] (132,096)       False\n",
       "│    │    └─ReLU (relu)                  [32, 512, 28, 28] [32, 512, 28, 28] --              --\n",
       "│    └─Bottleneck (1)                    [32, 512, 28, 28] [32, 512, 28, 28] --              False\n",
       "│    │    └─Conv2d (conv1)               [32, 512, 28, 28] [32, 128, 28, 28] (65,536)        False\n",
       "│    │    └─BatchNorm2d (bn1)            [32, 128, 28, 28] [32, 128, 28, 28] (256)           False\n",
       "│    │    └─ReLU (relu)                  [32, 128, 28, 28] [32, 128, 28, 28] --              --\n",
       "│    │    └─Conv2d (conv2)               [32, 128, 28, 28] [32, 128, 28, 28] (147,456)       False\n",
       "│    │    └─BatchNorm2d (bn2)            [32, 128, 28, 28] [32, 128, 28, 28] (256)           False\n",
       "│    │    └─ReLU (relu)                  [32, 128, 28, 28] [32, 128, 28, 28] --              --\n",
       "│    │    └─Conv2d (conv3)               [32, 128, 28, 28] [32, 512, 28, 28] (65,536)        False\n",
       "│    │    └─BatchNorm2d (bn3)            [32, 512, 28, 28] [32, 512, 28, 28] (1,024)         False\n",
       "│    │    └─ReLU (relu)                  [32, 512, 28, 28] [32, 512, 28, 28] --              --\n",
       "│    └─Bottleneck (2)                    [32, 512, 28, 28] [32, 512, 28, 28] --              False\n",
       "│    │    └─Conv2d (conv1)               [32, 512, 28, 28] [32, 128, 28, 28] (65,536)        False\n",
       "│    │    └─BatchNorm2d (bn1)            [32, 128, 28, 28] [32, 128, 28, 28] (256)           False\n",
       "│    │    └─ReLU (relu)                  [32, 128, 28, 28] [32, 128, 28, 28] --              --\n",
       "│    │    └─Conv2d (conv2)               [32, 128, 28, 28] [32, 128, 28, 28] (147,456)       False\n",
       "│    │    └─BatchNorm2d (bn2)            [32, 128, 28, 28] [32, 128, 28, 28] (256)           False\n",
       "│    │    └─ReLU (relu)                  [32, 128, 28, 28] [32, 128, 28, 28] --              --\n",
       "│    │    └─Conv2d (conv3)               [32, 128, 28, 28] [32, 512, 28, 28] (65,536)        False\n",
       "│    │    └─BatchNorm2d (bn3)            [32, 512, 28, 28] [32, 512, 28, 28] (1,024)         False\n",
       "│    │    └─ReLU (relu)                  [32, 512, 28, 28] [32, 512, 28, 28] --              --\n",
       "│    └─Bottleneck (3)                    [32, 512, 28, 28] [32, 512, 28, 28] --              False\n",
       "│    │    └─Conv2d (conv1)               [32, 512, 28, 28] [32, 128, 28, 28] (65,536)        False\n",
       "│    │    └─BatchNorm2d (bn1)            [32, 128, 28, 28] [32, 128, 28, 28] (256)           False\n",
       "│    │    └─ReLU (relu)                  [32, 128, 28, 28] [32, 128, 28, 28] --              --\n",
       "│    │    └─Conv2d (conv2)               [32, 128, 28, 28] [32, 128, 28, 28] (147,456)       False\n",
       "│    │    └─BatchNorm2d (bn2)            [32, 128, 28, 28] [32, 128, 28, 28] (256)           False\n",
       "│    │    └─ReLU (relu)                  [32, 128, 28, 28] [32, 128, 28, 28] --              --\n",
       "│    │    └─Conv2d (conv3)               [32, 128, 28, 28] [32, 512, 28, 28] (65,536)        False\n",
       "│    │    └─BatchNorm2d (bn3)            [32, 512, 28, 28] [32, 512, 28, 28] (1,024)         False\n",
       "│    │    └─ReLU (relu)                  [32, 512, 28, 28] [32, 512, 28, 28] --              --\n",
       "├─Sequential (layer3)                    [32, 512, 28, 28] [32, 1024, 14, 14] --              False\n",
       "│    └─Bottleneck (0)                    [32, 512, 28, 28] [32, 1024, 14, 14] --              False\n",
       "│    │    └─Conv2d (conv1)               [32, 512, 28, 28] [32, 256, 28, 28] (131,072)       False\n",
       "│    │    └─BatchNorm2d (bn1)            [32, 256, 28, 28] [32, 256, 28, 28] (512)           False\n",
       "│    │    └─ReLU (relu)                  [32, 256, 28, 28] [32, 256, 28, 28] --              --\n",
       "│    │    └─Conv2d (conv2)               [32, 256, 28, 28] [32, 256, 14, 14] (589,824)       False\n",
       "│    │    └─BatchNorm2d (bn2)            [32, 256, 14, 14] [32, 256, 14, 14] (512)           False\n",
       "│    │    └─ReLU (relu)                  [32, 256, 14, 14] [32, 256, 14, 14] --              --\n",
       "│    │    └─Conv2d (conv3)               [32, 256, 14, 14] [32, 1024, 14, 14] (262,144)       False\n",
       "│    │    └─BatchNorm2d (bn3)            [32, 1024, 14, 14] [32, 1024, 14, 14] (2,048)         False\n",
       "│    │    └─Sequential (downsample)      [32, 512, 28, 28] [32, 1024, 14, 14] (526,336)       False\n",
       "│    │    └─ReLU (relu)                  [32, 1024, 14, 14] [32, 1024, 14, 14] --              --\n",
       "│    └─Bottleneck (1)                    [32, 1024, 14, 14] [32, 1024, 14, 14] --              False\n",
       "│    │    └─Conv2d (conv1)               [32, 1024, 14, 14] [32, 256, 14, 14] (262,144)       False\n",
       "│    │    └─BatchNorm2d (bn1)            [32, 256, 14, 14] [32, 256, 14, 14] (512)           False\n",
       "│    │    └─ReLU (relu)                  [32, 256, 14, 14] [32, 256, 14, 14] --              --\n",
       "│    │    └─Conv2d (conv2)               [32, 256, 14, 14] [32, 256, 14, 14] (589,824)       False\n",
       "│    │    └─BatchNorm2d (bn2)            [32, 256, 14, 14] [32, 256, 14, 14] (512)           False\n",
       "│    │    └─ReLU (relu)                  [32, 256, 14, 14] [32, 256, 14, 14] --              --\n",
       "│    │    └─Conv2d (conv3)               [32, 256, 14, 14] [32, 1024, 14, 14] (262,144)       False\n",
       "│    │    └─BatchNorm2d (bn3)            [32, 1024, 14, 14] [32, 1024, 14, 14] (2,048)         False\n",
       "│    │    └─ReLU (relu)                  [32, 1024, 14, 14] [32, 1024, 14, 14] --              --\n",
       "│    └─Bottleneck (2)                    [32, 1024, 14, 14] [32, 1024, 14, 14] --              False\n",
       "│    │    └─Conv2d (conv1)               [32, 1024, 14, 14] [32, 256, 14, 14] (262,144)       False\n",
       "│    │    └─BatchNorm2d (bn1)            [32, 256, 14, 14] [32, 256, 14, 14] (512)           False\n",
       "│    │    └─ReLU (relu)                  [32, 256, 14, 14] [32, 256, 14, 14] --              --\n",
       "│    │    └─Conv2d (conv2)               [32, 256, 14, 14] [32, 256, 14, 14] (589,824)       False\n",
       "│    │    └─BatchNorm2d (bn2)            [32, 256, 14, 14] [32, 256, 14, 14] (512)           False\n",
       "│    │    └─ReLU (relu)                  [32, 256, 14, 14] [32, 256, 14, 14] --              --\n",
       "│    │    └─Conv2d (conv3)               [32, 256, 14, 14] [32, 1024, 14, 14] (262,144)       False\n",
       "│    │    └─BatchNorm2d (bn3)            [32, 1024, 14, 14] [32, 1024, 14, 14] (2,048)         False\n",
       "│    │    └─ReLU (relu)                  [32, 1024, 14, 14] [32, 1024, 14, 14] --              --\n",
       "│    └─Bottleneck (3)                    [32, 1024, 14, 14] [32, 1024, 14, 14] --              False\n",
       "│    │    └─Conv2d (conv1)               [32, 1024, 14, 14] [32, 256, 14, 14] (262,144)       False\n",
       "│    │    └─BatchNorm2d (bn1)            [32, 256, 14, 14] [32, 256, 14, 14] (512)           False\n",
       "│    │    └─ReLU (relu)                  [32, 256, 14, 14] [32, 256, 14, 14] --              --\n",
       "│    │    └─Conv2d (conv2)               [32, 256, 14, 14] [32, 256, 14, 14] (589,824)       False\n",
       "│    │    └─BatchNorm2d (bn2)            [32, 256, 14, 14] [32, 256, 14, 14] (512)           False\n",
       "│    │    └─ReLU (relu)                  [32, 256, 14, 14] [32, 256, 14, 14] --              --\n",
       "│    │    └─Conv2d (conv3)               [32, 256, 14, 14] [32, 1024, 14, 14] (262,144)       False\n",
       "│    │    └─BatchNorm2d (bn3)            [32, 1024, 14, 14] [32, 1024, 14, 14] (2,048)         False\n",
       "│    │    └─ReLU (relu)                  [32, 1024, 14, 14] [32, 1024, 14, 14] --              --\n",
       "│    └─Bottleneck (4)                    [32, 1024, 14, 14] [32, 1024, 14, 14] --              False\n",
       "│    │    └─Conv2d (conv1)               [32, 1024, 14, 14] [32, 256, 14, 14] (262,144)       False\n",
       "│    │    └─BatchNorm2d (bn1)            [32, 256, 14, 14] [32, 256, 14, 14] (512)           False\n",
       "│    │    └─ReLU (relu)                  [32, 256, 14, 14] [32, 256, 14, 14] --              --\n",
       "│    │    └─Conv2d (conv2)               [32, 256, 14, 14] [32, 256, 14, 14] (589,824)       False\n",
       "│    │    └─BatchNorm2d (bn2)            [32, 256, 14, 14] [32, 256, 14, 14] (512)           False\n",
       "│    │    └─ReLU (relu)                  [32, 256, 14, 14] [32, 256, 14, 14] --              --\n",
       "│    │    └─Conv2d (conv3)               [32, 256, 14, 14] [32, 1024, 14, 14] (262,144)       False\n",
       "│    │    └─BatchNorm2d (bn3)            [32, 1024, 14, 14] [32, 1024, 14, 14] (2,048)         False\n",
       "│    │    └─ReLU (relu)                  [32, 1024, 14, 14] [32, 1024, 14, 14] --              --\n",
       "│    └─Bottleneck (5)                    [32, 1024, 14, 14] [32, 1024, 14, 14] --              False\n",
       "│    │    └─Conv2d (conv1)               [32, 1024, 14, 14] [32, 256, 14, 14] (262,144)       False\n",
       "│    │    └─BatchNorm2d (bn1)            [32, 256, 14, 14] [32, 256, 14, 14] (512)           False\n",
       "│    │    └─ReLU (relu)                  [32, 256, 14, 14] [32, 256, 14, 14] --              --\n",
       "│    │    └─Conv2d (conv2)               [32, 256, 14, 14] [32, 256, 14, 14] (589,824)       False\n",
       "│    │    └─BatchNorm2d (bn2)            [32, 256, 14, 14] [32, 256, 14, 14] (512)           False\n",
       "│    │    └─ReLU (relu)                  [32, 256, 14, 14] [32, 256, 14, 14] --              --\n",
       "│    │    └─Conv2d (conv3)               [32, 256, 14, 14] [32, 1024, 14, 14] (262,144)       False\n",
       "│    │    └─BatchNorm2d (bn3)            [32, 1024, 14, 14] [32, 1024, 14, 14] (2,048)         False\n",
       "│    │    └─ReLU (relu)                  [32, 1024, 14, 14] [32, 1024, 14, 14] --              --\n",
       "├─Sequential (layer4)                    [32, 1024, 14, 14] [32, 2048, 7, 7] --              False\n",
       "│    └─Bottleneck (0)                    [32, 1024, 14, 14] [32, 2048, 7, 7] --              False\n",
       "│    │    └─Conv2d (conv1)               [32, 1024, 14, 14] [32, 512, 14, 14] (524,288)       False\n",
       "│    │    └─BatchNorm2d (bn1)            [32, 512, 14, 14] [32, 512, 14, 14] (1,024)         False\n",
       "│    │    └─ReLU (relu)                  [32, 512, 14, 14] [32, 512, 14, 14] --              --\n",
       "│    │    └─Conv2d (conv2)               [32, 512, 14, 14] [32, 512, 7, 7] (2,359,296)     False\n",
       "│    │    └─BatchNorm2d (bn2)            [32, 512, 7, 7] [32, 512, 7, 7] (1,024)         False\n",
       "│    │    └─ReLU (relu)                  [32, 512, 7, 7] [32, 512, 7, 7] --              --\n",
       "│    │    └─Conv2d (conv3)               [32, 512, 7, 7] [32, 2048, 7, 7] (1,048,576)     False\n",
       "│    │    └─BatchNorm2d (bn3)            [32, 2048, 7, 7] [32, 2048, 7, 7] (4,096)         False\n",
       "│    │    └─Sequential (downsample)      [32, 1024, 14, 14] [32, 2048, 7, 7] (2,101,248)     False\n",
       "│    │    └─ReLU (relu)                  [32, 2048, 7, 7] [32, 2048, 7, 7] --              --\n",
       "│    └─Bottleneck (1)                    [32, 2048, 7, 7] [32, 2048, 7, 7] --              False\n",
       "│    │    └─Conv2d (conv1)               [32, 2048, 7, 7] [32, 512, 7, 7] (1,048,576)     False\n",
       "│    │    └─BatchNorm2d (bn1)            [32, 512, 7, 7] [32, 512, 7, 7] (1,024)         False\n",
       "│    │    └─ReLU (relu)                  [32, 512, 7, 7] [32, 512, 7, 7] --              --\n",
       "│    │    └─Conv2d (conv2)               [32, 512, 7, 7] [32, 512, 7, 7] (2,359,296)     False\n",
       "│    │    └─BatchNorm2d (bn2)            [32, 512, 7, 7] [32, 512, 7, 7] (1,024)         False\n",
       "│    │    └─ReLU (relu)                  [32, 512, 7, 7] [32, 512, 7, 7] --              --\n",
       "│    │    └─Conv2d (conv3)               [32, 512, 7, 7] [32, 2048, 7, 7] (1,048,576)     False\n",
       "│    │    └─BatchNorm2d (bn3)            [32, 2048, 7, 7] [32, 2048, 7, 7] (4,096)         False\n",
       "│    │    └─ReLU (relu)                  [32, 2048, 7, 7] [32, 2048, 7, 7] --              --\n",
       "│    └─Bottleneck (2)                    [32, 2048, 7, 7] [32, 2048, 7, 7] --              False\n",
       "│    │    └─Conv2d (conv1)               [32, 2048, 7, 7] [32, 512, 7, 7] (1,048,576)     False\n",
       "│    │    └─BatchNorm2d (bn1)            [32, 512, 7, 7] [32, 512, 7, 7] (1,024)         False\n",
       "│    │    └─ReLU (relu)                  [32, 512, 7, 7] [32, 512, 7, 7] --              --\n",
       "│    │    └─Conv2d (conv2)               [32, 512, 7, 7] [32, 512, 7, 7] (2,359,296)     False\n",
       "│    │    └─BatchNorm2d (bn2)            [32, 512, 7, 7] [32, 512, 7, 7] (1,024)         False\n",
       "│    │    └─ReLU (relu)                  [32, 512, 7, 7] [32, 512, 7, 7] --              --\n",
       "│    │    └─Conv2d (conv3)               [32, 512, 7, 7] [32, 2048, 7, 7] (1,048,576)     False\n",
       "│    │    └─BatchNorm2d (bn3)            [32, 2048, 7, 7] [32, 2048, 7, 7] (4,096)         False\n",
       "│    │    └─ReLU (relu)                  [32, 2048, 7, 7] [32, 2048, 7, 7] --              --\n",
       "├─AdaptiveAvgPool2d (avgpool)            [32, 2048, 7, 7] [32, 2048, 1, 1] --              --\n",
       "├─Sequential (fc)                        [32, 2048]      [32, 3]         --              True\n",
       "│    └─Dropout (0)                       [32, 2048]      [32, 2048]      --              --\n",
       "│    └─Linear (1)                        [32, 2048]      [32, 3]         6,147           True\n",
       "====================================================================================================\n",
       "Total params: 23,514,179\n",
       "Trainable params: 6,147\n",
       "Non-trainable params: 23,508,032\n",
       "Total mult-adds (G): 130.79\n",
       "====================================================================================================\n",
       "Input size (MB): 19.27\n",
       "Forward/backward pass size (MB): 5690.36\n",
       "Params size (MB): 94.06\n",
       "Estimated Total Size (MB): 5803.68\n",
       "===================================================================================================="
      ]
     },
     "execution_count": 17,
     "metadata": {},
     "output_type": "execute_result"
    }
   ],
   "source": [
    "# Print a summary using torchinfo (uncomment for actual output)\n",
    "summary(model=model, \n",
    "        input_size=(32, 3, 224, 224), # make sure this is \"input_size\", not \"input_shape\"\n",
    "        # col_names=[\"input_size\"], # uncomment for smaller output\n",
    "        col_names=[\"input_size\", \"output_size\", \"num_params\", \"trainable\"],\n",
    "        col_width=15,\n",
    "        row_settings=[\"var_names\"]\n",
    ")"
   ]
  },
  {
   "cell_type": "code",
   "execution_count": 18,
   "id": "41accc48-f83e-4520-97d7-e52cfbf143e5",
   "metadata": {},
   "outputs": [
    {
     "data": {
      "application/vnd.jupyter.widget-view+json": {
       "model_id": "5c235ca5c03e49af9412bc9b5f0584cb",
       "version_major": 2,
       "version_minor": 0
      },
      "text/plain": [
       "  0%|          | 0/15 [00:00<?, ?it/s]"
      ]
     },
     "metadata": {},
     "output_type": "display_data"
    },
    {
     "name": "stdout",
     "output_type": "stream",
     "text": [
      "Epoch: 1 | train_loss: 1.3712 | train_acc: 0.8736 | test_loss: 1.6564 | test_acc: 0.8483 | learning rate: 0.100000 | time (sec): 70.73\n",
      "Epoch: 2 | train_loss: 0.9814 | train_acc: 0.9112 | test_loss: 1.5963 | test_acc: 0.8765 | learning rate: 0.100000 | time (sec): 66.07\n",
      "Epoch: 3 | train_loss: 0.9495 | train_acc: 0.9244 | test_loss: 1.1152 | test_acc: 0.9192 | learning rate: 0.100000 | time (sec): 66.20\n",
      "Epoch: 4 | train_loss: 1.3111 | train_acc: 0.9227 | test_loss: 2.1253 | test_acc: 0.8948 | learning rate: 0.100000 | time (sec): 67.02\n",
      "Epoch: 5 | train_loss: 1.2876 | train_acc: 0.9293 | test_loss: 1.7774 | test_acc: 0.9139 | learning rate: 0.100000 | time (sec): 67.17\n",
      "Epoch 00005: reducing learning rate of group 0 to 1.0000e-02.\n",
      "Epoch: 6 | train_loss: 0.7214 | train_acc: 0.9563 | test_loss: 2.3413 | test_acc: 0.8963 | learning rate: 0.010000 | time (sec): 66.81\n",
      "Epoch: 7 | train_loss: 0.7043 | train_acc: 0.9512 | test_loss: 2.4891 | test_acc: 0.8941 | learning rate: 0.010000 | time (sec): 67.20\n",
      "Epoch 00007: reducing learning rate of group 0 to 1.0000e-03.\n",
      "early stopping!\n"
     ]
    }
   ],
   "source": [
    "# Define loss and optimizer\n",
    "loss_fn = nn.CrossEntropyLoss()\n",
    "optimizer = torch.optim.Adam(model.parameters(), lr=0.1)\n",
    "set_seeds()\n",
    "results = train(model=model,\n",
    "                       train_dataloader=train_dataloader,\n",
    "                       test_dataloader=test_dataloader,\n",
    "                       optimizer=optimizer,\n",
    "                       loss_fn=loss_fn,\n",
    "                       epochs=15,\n",
    "                       device=device)"
   ]
  },
  {
   "cell_type": "code",
   "execution_count": 19,
   "id": "a05cb24b-c8a2-4022-bcc5-e95c7daa4e85",
   "metadata": {},
   "outputs": [
    {
     "name": "stdout",
     "output_type": "stream",
     "text": [
      "average train accuracy: 0.9195781573498966\n",
      "average test accuracy: 0.8915142276422764\n"
     ]
    },
    {
     "data": {
      "image/png": "[encoded data removed]",
      "text/plain": [
       "<Figure size 1080x504 with 2 Axes>"
      ]
     },
     "metadata": {
      "needs_background": "light"
     },
     "output_type": "display_data"
    }
   ],
   "source": [
    "# Plot the loss curves of our model\n",
    "plot_loss_curves(results)"
   ]
  },
  {
   "cell_type": "code",
   "execution_count": 20,
   "id": "20b233eb",
   "metadata": {},
   "outputs": [
    {
     "data": {
      "application/vnd.jupyter.widget-view+json": {
       "model_id": "3147a0370b8b4b108f0651fea3260331",
       "version_major": 2,
       "version_minor": 0
      },
      "text/plain": [
       "Making predictions: 0it [00:00, ?it/s]"
      ]
     },
     "metadata": {},
     "output_type": "display_data"
    },
    {
     "data": {
      "image/png": "[encoded data removed]",
      "text/plain": [
       "<Figure size 720x504 with 1 Axes>"
      ]
     },
     "metadata": {
      "needs_background": "light"
     },
     "output_type": "display_data"
    }
   ],
   "source": [
    "plot_confision_matrix(model)"
   ]
  },
  {
   "cell_type": "markdown",
   "id": "0354a5ee",
   "metadata": {
    "tags": []
   },
   "source": [
    "# vgg16"
   ]
  },
  {
   "cell_type": "code",
   "execution_count": 21,
   "id": "855f395f",
   "metadata": {},
   "outputs": [
    {
     "data": {
      "text/plain": [
       "VGG16_Weights.IMAGENET1K_V1"
      ]
     },
     "execution_count": 21,
     "metadata": {},
     "output_type": "execute_result"
    }
   ],
   "source": [
    "# Get a set of pretrained model weights\n",
    "weights = torchvision.models.VGG16_Weights.DEFAULT # .DEFAULT = best available weights from pretraining on ImageNet\n",
    "weights"
   ]
  },
  {
   "cell_type": "code",
   "execution_count": 22,
   "id": "f6f2a47b",
   "metadata": {},
   "outputs": [
    {
     "data": {
      "text/plain": [
       "ImageClassification(\n",
       "    crop_size=[224]\n",
       "    resize_size=[256]\n",
       "    mean=[0.485, 0.456, 0.406]\n",
       "    std=[0.229, 0.224, 0.225]\n",
       "    interpolation=InterpolationMode.BILINEAR\n",
       ")"
      ]
     },
     "execution_count": 22,
     "metadata": {},
     "output_type": "execute_result"
    }
   ],
   "source": [
    "# Get the transforms used to create our pretrained weights\n",
    "auto_transforms = weights.transforms()\n",
    "auto_transforms"
   ]
  },
  {
   "cell_type": "code",
   "execution_count": 23,
   "id": "0072dd05",
   "metadata": {},
   "outputs": [
    {
     "data": {
      "text/plain": [
       "(<torch.utils.data.dataloader.DataLoader at 0x1aa1739ee80>,\n",
       " <torch.utils.data.dataloader.DataLoader at 0x1aa1739eb50>,\n",
       " ['COVID19', 'NORMAL', 'PNEUMONIA'])"
      ]
     },
     "execution_count": 23,
     "metadata": {},
     "output_type": "execute_result"
    }
   ],
   "source": [
    "# Create training and testing DataLoaders as well as get a list of class names\n",
    "train_dataloader, test_dataloader, class_names = create_dataloaders(train_dir=train_dir,\n",
    "                                                                               test_dir=test_dir,\n",
    "                                                                               transform=auto_transforms, # perform same data transforms on our own data as the pretrained model\n",
    "                                                                               batch_size=32) # set mini-batch size to 32\n",
    "\n",
    "train_dataloader, test_dataloader, class_names"
   ]
  },
  {
   "cell_type": "code",
   "execution_count": 24,
   "id": "05e09364-2416-41f2-9e2c-d858369e73e2",
   "metadata": {},
   "outputs": [],
   "source": [
    "model = torchvision.models.vgg16(weights=weights).to(device)"
   ]
  },
  {
   "cell_type": "code",
   "execution_count": 25,
   "id": "5d13da0e-1e22-4f3e-8537-86d7c29b437e",
   "metadata": {},
   "outputs": [
    {
     "data": {
      "text/plain": [
       "====================================================================================================\n",
       "Layer (type (var_name))                  Input Shape     Output Shape    Param #         Trainable\n",
       "====================================================================================================\n",
       "VGG (VGG)                                [32, 3, 224, 224] [32, 1000]      --              True\n",
       "├─Sequential (features)                  [32, 3, 224, 224] [32, 512, 7, 7] --              True\n",
       "│    └─Conv2d (0)                        [32, 3, 224, 224] [32, 64, 224, 224] 1,792           True\n",
       "│    └─ReLU (1)                          [32, 64, 224, 224] [32, 64, 224, 224] --              --\n",
       "│    └─Conv2d (2)                        [32, 64, 224, 224] [32, 64, 224, 224] 36,928          True\n",
       "│    └─ReLU (3)                          [32, 64, 224, 224] [32, 64, 224, 224] --              --\n",
       "│    └─MaxPool2d (4)                     [32, 64, 224, 224] [32, 64, 112, 112] --              --\n",
       "│    └─Conv2d (5)                        [32, 64, 112, 112] [32, 128, 112, 112] 73,856          True\n",
       "│    └─ReLU (6)                          [32, 128, 112, 112] [32, 128, 112, 112] --              --\n",
       "│    └─Conv2d (7)                        [32, 128, 112, 112] [32, 128, 112, 112] 147,584         True\n",
       "│    └─ReLU (8)                          [32, 128, 112, 112] [32, 128, 112, 112] --              --\n",
       "│    └─MaxPool2d (9)                     [32, 128, 112, 112] [32, 128, 56, 56] --              --\n",
       "│    └─Conv2d (10)                       [32, 128, 56, 56] [32, 256, 56, 56] 295,168         True\n",
       "│    └─ReLU (11)                         [32, 256, 56, 56] [32, 256, 56, 56] --              --\n",
       "│    └─Conv2d (12)                       [32, 256, 56, 56] [32, 256, 56, 56] 590,080         True\n",
       "│    └─ReLU (13)                         [32, 256, 56, 56] [32, 256, 56, 56] --              --\n",
       "│    └─Conv2d (14)                       [32, 256, 56, 56] [32, 256, 56, 56] 590,080         True\n",
       "│    └─ReLU (15)                         [32, 256, 56, 56] [32, 256, 56, 56] --              --\n",
       "│    └─MaxPool2d (16)                    [32, 256, 56, 56] [32, 256, 28, 28] --              --\n",
       "│    └─Conv2d (17)                       [32, 256, 28, 28] [32, 512, 28, 28] 1,180,160       True\n",
       "│    └─ReLU (18)                         [32, 512, 28, 28] [32, 512, 28, 28] --              --\n",
       "│    └─Conv2d (19)                       [32, 512, 28, 28] [32, 512, 28, 28] 2,359,808       True\n",
       "│    └─ReLU (20)                         [32, 512, 28, 28] [32, 512, 28, 28] --              --\n",
       "│    └─Conv2d (21)                       [32, 512, 28, 28] [32, 512, 28, 28] 2,359,808       True\n",
       "│    └─ReLU (22)                         [32, 512, 28, 28] [32, 512, 28, 28] --              --\n",
       "│    └─MaxPool2d (23)                    [32, 512, 28, 28] [32, 512, 14, 14] --              --\n",
       "│    └─Conv2d (24)                       [32, 512, 14, 14] [32, 512, 14, 14] 2,359,808       True\n",
       "│    └─ReLU (25)                         [32, 512, 14, 14] [32, 512, 14, 14] --              --\n",
       "│    └─Conv2d (26)                       [32, 512, 14, 14] [32, 512, 14, 14] 2,359,808       True\n",
       "│    └─ReLU (27)                         [32, 512, 14, 14] [32, 512, 14, 14] --              --\n",
       "│    └─Conv2d (28)                       [32, 512, 14, 14] [32, 512, 14, 14] 2,359,808       True\n",
       "│    └─ReLU (29)                         [32, 512, 14, 14] [32, 512, 14, 14] --              --\n",
       "│    └─MaxPool2d (30)                    [32, 512, 14, 14] [32, 512, 7, 7] --              --\n",
       "├─AdaptiveAvgPool2d (avgpool)            [32, 512, 7, 7] [32, 512, 7, 7] --              --\n",
       "├─Sequential (classifier)                [32, 25088]     [32, 1000]      --              True\n",
       "│    └─Linear (0)                        [32, 25088]     [32, 4096]      102,764,544     True\n",
       "│    └─ReLU (1)                          [32, 4096]      [32, 4096]      --              --\n",
       "│    └─Dropout (2)                       [32, 4096]      [32, 4096]      --              --\n",
       "│    └─Linear (3)                        [32, 4096]      [32, 4096]      16,781,312      True\n",
       "│    └─ReLU (4)                          [32, 4096]      [32, 4096]      --              --\n",
       "│    └─Dropout (5)                       [32, 4096]      [32, 4096]      --              --\n",
       "│    └─Linear (6)                        [32, 4096]      [32, 1000]      4,097,000       True\n",
       "====================================================================================================\n",
       "Total params: 138,357,544\n",
       "Trainable params: 138,357,544\n",
       "Non-trainable params: 0\n",
       "Total mult-adds (G): 495.48\n",
       "====================================================================================================\n",
       "Input size (MB): 19.27\n",
       "Forward/backward pass size (MB): 3470.52\n",
       "Params size (MB): 553.43\n",
       "Estimated Total Size (MB): 4043.22\n",
       "===================================================================================================="
      ]
     },
     "execution_count": 25,
     "metadata": {},
     "output_type": "execute_result"
    }
   ],
   "source": [
    "# Print a summary using torchinfo (uncomment for actual output)\n",
    "summary(model=model, \n",
    "        input_size=(32, 3, 224, 224), # make sure this is \"input_size\", not \"input_shape\"\n",
    "        # col_names=[\"input_size\"], # uncomment for smaller output\n",
    "        col_names=[\"input_size\", \"output_size\", \"num_params\", \"trainable\"],\n",
    "        col_width=15,\n",
    "        row_settings=[\"var_names\"]\n",
    ")"
   ]
  },
  {
   "cell_type": "code",
   "execution_count": 26,
   "id": "15bcd3d8-0829-4573-b76c-91aa486d16ba",
   "metadata": {},
   "outputs": [],
   "source": [
    "# Freeze all base layers in the \"features\" section of the model (the feature extractor) by setting requires_grad=False\n",
    "for param in model.parameters():\n",
    "    param.requires_grad = False"
   ]
  },
  {
   "cell_type": "code",
   "execution_count": 27,
   "id": "d9571414-3d02-4386-b742-952e29de08f9",
   "metadata": {},
   "outputs": [
    {
     "data": {
      "text/plain": [
       "Linear(in_features=4096, out_features=1000, bias=True)"
      ]
     },
     "execution_count": 27,
     "metadata": {},
     "output_type": "execute_result"
    }
   ],
   "source": [
    "model.classifier[6]"
   ]
  },
  {
   "cell_type": "code",
   "execution_count": 28,
   "id": "5823112e-091e-4ca8-b36b-b12ce69518ff",
   "metadata": {},
   "outputs": [],
   "source": [
    "# Get the length of class_names (one output unit for each class)\n",
    "output_shape = len(class_names)\n",
    "\n",
    "# Recreate the classifier layer and seed it to the target device\n",
    "model.classifier[6] =  torch.nn.Linear(in_features=4096, \n",
    "                    out_features=output_shape, # same number of output units as our number of classes\n",
    "                    bias=True).to(device)"
   ]
  },
  {
   "cell_type": "code",
   "execution_count": 29,
   "id": "86e910a8-a935-4626-8bc1-c34c0150d51f",
   "metadata": {},
   "outputs": [
    {
     "data": {
      "text/plain": [
       "====================================================================================================\n",
       "Layer (type (var_name))                  Input Shape     Output Shape    Param #         Trainable\n",
       "====================================================================================================\n",
       "VGG (VGG)                                [32, 3, 224, 224] [32, 3]         --              Partial\n",
       "├─Sequential (features)                  [32, 3, 224, 224] [32, 512, 7, 7] --              False\n",
       "│    └─Conv2d (0)                        [32, 3, 224, 224] [32, 64, 224, 224] (1,792)         False\n",
       "│    └─ReLU (1)                          [32, 64, 224, 224] [32, 64, 224, 224] --              --\n",
       "│    └─Conv2d (2)                        [32, 64, 224, 224] [32, 64, 224, 224] (36,928)        False\n",
       "│    └─ReLU (3)                          [32, 64, 224, 224] [32, 64, 224, 224] --              --\n",
       "│    └─MaxPool2d (4)                     [32, 64, 224, 224] [32, 64, 112, 112] --              --\n",
       "│    └─Conv2d (5)                        [32, 64, 112, 112] [32, 128, 112, 112] (73,856)        False\n",
       "│    └─ReLU (6)                          [32, 128, 112, 112] [32, 128, 112, 112] --              --\n",
       "│    └─Conv2d (7)                        [32, 128, 112, 112] [32, 128, 112, 112] (147,584)       False\n",
       "│    └─ReLU (8)                          [32, 128, 112, 112] [32, 128, 112, 112] --              --\n",
       "│    └─MaxPool2d (9)                     [32, 128, 112, 112] [32, 128, 56, 56] --              --\n",
       "│    └─Conv2d (10)                       [32, 128, 56, 56] [32, 256, 56, 56] (295,168)       False\n",
       "│    └─ReLU (11)                         [32, 256, 56, 56] [32, 256, 56, 56] --              --\n",
       "│    └─Conv2d (12)                       [32, 256, 56, 56] [32, 256, 56, 56] (590,080)       False\n",
       "│    └─ReLU (13)                         [32, 256, 56, 56] [32, 256, 56, 56] --              --\n",
       "│    └─Conv2d (14)                       [32, 256, 56, 56] [32, 256, 56, 56] (590,080)       False\n",
       "│    └─ReLU (15)                         [32, 256, 56, 56] [32, 256, 56, 56] --              --\n",
       "│    └─MaxPool2d (16)                    [32, 256, 56, 56] [32, 256, 28, 28] --              --\n",
       "│    └─Conv2d (17)                       [32, 256, 28, 28] [32, 512, 28, 28] (1,180,160)     False\n",
       "│    └─ReLU (18)                         [32, 512, 28, 28] [32, 512, 28, 28] --              --\n",
       "│    └─Conv2d (19)                       [32, 512, 28, 28] [32, 512, 28, 28] (2,359,808)     False\n",
       "│    └─ReLU (20)                         [32, 512, 28, 28] [32, 512, 28, 28] --              --\n",
       "│    └─Conv2d (21)                       [32, 512, 28, 28] [32, 512, 28, 28] (2,359,808)     False\n",
       "│    └─ReLU (22)                         [32, 512, 28, 28] [32, 512, 28, 28] --              --\n",
       "│    └─MaxPool2d (23)                    [32, 512, 28, 28] [32, 512, 14, 14] --              --\n",
       "│    └─Conv2d (24)                       [32, 512, 14, 14] [32, 512, 14, 14] (2,359,808)     False\n",
       "│    └─ReLU (25)                         [32, 512, 14, 14] [32, 512, 14, 14] --              --\n",
       "│    └─Conv2d (26)                       [32, 512, 14, 14] [32, 512, 14, 14] (2,359,808)     False\n",
       "│    └─ReLU (27)                         [32, 512, 14, 14] [32, 512, 14, 14] --              --\n",
       "│    └─Conv2d (28)                       [32, 512, 14, 14] [32, 512, 14, 14] (2,359,808)     False\n",
       "│    └─ReLU (29)                         [32, 512, 14, 14] [32, 512, 14, 14] --              --\n",
       "│    └─MaxPool2d (30)                    [32, 512, 14, 14] [32, 512, 7, 7] --              --\n",
       "├─AdaptiveAvgPool2d (avgpool)            [32, 512, 7, 7] [32, 512, 7, 7] --              --\n",
       "├─Sequential (classifier)                [32, 25088]     [32, 3]         --              Partial\n",
       "│    └─Linear (0)                        [32, 25088]     [32, 4096]      (102,764,544)   False\n",
       "│    └─ReLU (1)                          [32, 4096]      [32, 4096]      --              --\n",
       "│    └─Dropout (2)                       [32, 4096]      [32, 4096]      --              --\n",
       "│    └─Linear (3)                        [32, 4096]      [32, 4096]      (16,781,312)    False\n",
       "│    └─ReLU (4)                          [32, 4096]      [32, 4096]      --              --\n",
       "│    └─Dropout (5)                       [32, 4096]      [32, 4096]      --              --\n",
       "│    └─Linear (6)                        [32, 4096]      [32, 3]         12,291          True\n",
       "====================================================================================================\n",
       "Total params: 134,272,835\n",
       "Trainable params: 12,291\n",
       "Non-trainable params: 134,260,544\n",
       "Total mult-adds (G): 495.35\n",
       "====================================================================================================\n",
       "Input size (MB): 19.27\n",
       "Forward/backward pass size (MB): 3470.26\n",
       "Params size (MB): 537.09\n",
       "Estimated Total Size (MB): 4026.62\n",
       "===================================================================================================="
      ]
     },
     "execution_count": 29,
     "metadata": {},
     "output_type": "execute_result"
    }
   ],
   "source": [
    "# Print a summary using torchinfo (uncomment for actual output)\n",
    "summary(model=model, \n",
    "        input_size=(32, 3, 224, 224), # make sure this is \"input_size\", not \"input_shape\"\n",
    "        # col_names=[\"input_size\"], # uncomment for smaller output\n",
    "        col_names=[\"input_size\", \"output_size\", \"num_params\", \"trainable\"],\n",
    "        col_width=15,\n",
    "        row_settings=[\"var_names\"]\n",
    ")"
   ]
  },
  {
   "cell_type": "code",
   "execution_count": 30,
   "id": "adf08fce-eb10-4e33-9b38-458ee5f2d010",
   "metadata": {},
   "outputs": [
    {
     "data": {
      "application/vnd.jupyter.widget-view+json": {
       "model_id": "80aef13e29f746fe822e24ca712a18f0",
       "version_major": 2,
       "version_minor": 0
      },
      "text/plain": [
       "  0%|          | 0/15 [00:00<?, ?it/s]"
      ]
     },
     "metadata": {},
     "output_type": "display_data"
    },
    {
     "name": "stdout",
     "output_type": "stream",
     "text": [
      "Epoch: 1 | train_loss: 6.4215 | train_acc: 0.8277 | test_loss: 3.7715 | test_acc: 0.9070 | learning rate: 0.100000 | time (sec): 94.68\n",
      "Epoch: 2 | train_loss: 7.1870 | train_acc: 0.8599 | test_loss: 3.1786 | test_acc: 0.9284 | learning rate: 0.100000 | time (sec): 93.52\n",
      "Epoch: 3 | train_loss: 7.1105 | train_acc: 0.8755 | test_loss: 3.1454 | test_acc: 0.9207 | learning rate: 0.100000 | time (sec): 92.32\n",
      "Epoch: 4 | train_loss: 7.7365 | train_acc: 0.8747 | test_loss: 6.8094 | test_acc: 0.8765 | learning rate: 0.100000 | time (sec): 92.73\n",
      "Epoch 00004: reducing learning rate of group 0 to 1.0000e-02.\n",
      "early stopping!\n"
     ]
    }
   ],
   "source": [
    "# Define loss and optimizer\n",
    "loss_fn = nn.CrossEntropyLoss()\n",
    "optimizer = torch.optim.Adam(model.parameters(), lr=0.1)\n",
    "set_seeds()\n",
    "results = train(model=model,\n",
    "                       train_dataloader=train_dataloader,\n",
    "                       test_dataloader=test_dataloader,\n",
    "                       optimizer=optimizer,\n",
    "                       loss_fn=loss_fn,\n",
    "                       epochs=15,\n",
    "                       device=device)"
   ]
  },
  {
   "cell_type": "code",
   "execution_count": 31,
   "id": "dcdd0124-b934-4499-b87c-348059582b4e",
   "metadata": {},
   "outputs": [
    {
     "name": "stdout",
     "output_type": "stream",
     "text": [
      "average train accuracy: 0.854339199447895\n",
      "average test accuracy: 0.91869918699187\n"
     ]
    },
    {
     "data": {
      "image/png": "[encoded data removed]",
      "text/plain": [
       "<Figure size 1080x504 with 2 Axes>"
      ]
     },
     "metadata": {
      "needs_background": "light"
     },
     "output_type": "display_data"
    }
   ],
   "source": [
    "# Plot the loss curves of our model\n",
    "plot_loss_curves(results)"
   ]
  },
  {
   "cell_type": "code",
   "execution_count": 32,
   "id": "4d6df799-d331-4bf2-b91e-0a0f52908f53",
   "metadata": {},
   "outputs": [
    {
     "data": {
      "application/vnd.jupyter.widget-view+json": {
       "model_id": "9452e5d581404624be64e7e690b941e8",
       "version_major": 2,
       "version_minor": 0
      },
      "text/plain": [
       "Making predictions: 0it [00:00, ?it/s]"
      ]
     },
     "metadata": {},
     "output_type": "display_data"
    },
    {
     "data": {
      "image/png": "[encoded data removed]",
      "text/plain": [
       "<Figure size 720x504 with 1 Axes>"
      ]
     },
     "metadata": {
      "needs_background": "light"
     },
     "output_type": "display_data"
    }
   ],
   "source": [
    "plot_confision_matrix(model)"
   ]
  },
  {
   "cell_type": "markdown",
   "id": "6c8737b8-9f0b-4178-a0ac-354132313a4c",
   "metadata": {},
   "source": [
    "# fine-tune the top layer"
   ]
  },
  {
   "cell_type": "code",
   "execution_count": 33,
   "id": "adf07a18-72b3-4b5f-a4fd-4c20c89ea1af",
   "metadata": {},
   "outputs": [],
   "source": [
    "# Freeze all base layers in the \"features\" section of the model (the feature extractor) by setting requires_grad=False\n",
    "for param in model.parameters():\n",
    "    param.requires_grad = False"
   ]
  },
  {
   "cell_type": "code",
   "execution_count": 34,
   "id": "7ce0c811-cb26-4c77-b1eb-ba3db7594d62",
   "metadata": {},
   "outputs": [
    {
     "data": {
      "text/plain": [
       "====================================================================================================\n",
       "Layer (type (var_name))                  Input Shape     Output Shape    Param #         Trainable\n",
       "====================================================================================================\n",
       "VGG (VGG)                                [32, 3, 224, 224] [32, 3]         --              False\n",
       "├─Sequential (features)                  [32, 3, 224, 224] [32, 512, 7, 7] --              False\n",
       "│    └─Conv2d (0)                        [32, 3, 224, 224] [32, 64, 224, 224] (1,792)         False\n",
       "│    └─ReLU (1)                          [32, 64, 224, 224] [32, 64, 224, 224] --              --\n",
       "│    └─Conv2d (2)                        [32, 64, 224, 224] [32, 64, 224, 224] (36,928)        False\n",
       "│    └─ReLU (3)                          [32, 64, 224, 224] [32, 64, 224, 224] --              --\n",
       "│    └─MaxPool2d (4)                     [32, 64, 224, 224] [32, 64, 112, 112] --              --\n",
       "│    └─Conv2d (5)                        [32, 64, 112, 112] [32, 128, 112, 112] (73,856)        False\n",
       "│    └─ReLU (6)                          [32, 128, 112, 112] [32, 128, 112, 112] --              --\n",
       "│    └─Conv2d (7)                        [32, 128, 112, 112] [32, 128, 112, 112] (147,584)       False\n",
       "│    └─ReLU (8)                          [32, 128, 112, 112] [32, 128, 112, 112] --              --\n",
       "│    └─MaxPool2d (9)                     [32, 128, 112, 112] [32, 128, 56, 56] --              --\n",
       "│    └─Conv2d (10)                       [32, 128, 56, 56] [32, 256, 56, 56] (295,168)       False\n",
       "│    └─ReLU (11)                         [32, 256, 56, 56] [32, 256, 56, 56] --              --\n",
       "│    └─Conv2d (12)                       [32, 256, 56, 56] [32, 256, 56, 56] (590,080)       False\n",
       "│    └─ReLU (13)                         [32, 256, 56, 56] [32, 256, 56, 56] --              --\n",
       "│    └─Conv2d (14)                       [32, 256, 56, 56] [32, 256, 56, 56] (590,080)       False\n",
       "│    └─ReLU (15)                         [32, 256, 56, 56] [32, 256, 56, 56] --              --\n",
       "│    └─MaxPool2d (16)                    [32, 256, 56, 56] [32, 256, 28, 28] --              --\n",
       "│    └─Conv2d (17)                       [32, 256, 28, 28] [32, 512, 28, 28] (1,180,160)     False\n",
       "│    └─ReLU (18)                         [32, 512, 28, 28] [32, 512, 28, 28] --              --\n",
       "│    └─Conv2d (19)                       [32, 512, 28, 28] [32, 512, 28, 28] (2,359,808)     False\n",
       "│    └─ReLU (20)                         [32, 512, 28, 28] [32, 512, 28, 28] --              --\n",
       "│    └─Conv2d (21)                       [32, 512, 28, 28] [32, 512, 28, 28] (2,359,808)     False\n",
       "│    └─ReLU (22)                         [32, 512, 28, 28] [32, 512, 28, 28] --              --\n",
       "│    └─MaxPool2d (23)                    [32, 512, 28, 28] [32, 512, 14, 14] --              --\n",
       "│    └─Conv2d (24)                       [32, 512, 14, 14] [32, 512, 14, 14] (2,359,808)     False\n",
       "│    └─ReLU (25)                         [32, 512, 14, 14] [32, 512, 14, 14] --              --\n",
       "│    └─Conv2d (26)                       [32, 512, 14, 14] [32, 512, 14, 14] (2,359,808)     False\n",
       "│    └─ReLU (27)                         [32, 512, 14, 14] [32, 512, 14, 14] --              --\n",
       "│    └─Conv2d (28)                       [32, 512, 14, 14] [32, 512, 14, 14] (2,359,808)     False\n",
       "│    └─ReLU (29)                         [32, 512, 14, 14] [32, 512, 14, 14] --              --\n",
       "│    └─MaxPool2d (30)                    [32, 512, 14, 14] [32, 512, 7, 7] --              --\n",
       "├─AdaptiveAvgPool2d (avgpool)            [32, 512, 7, 7] [32, 512, 7, 7] --              --\n",
       "├─Sequential (classifier)                [32, 25088]     [32, 3]         --              False\n",
       "│    └─Linear (0)                        [32, 25088]     [32, 4096]      (102,764,544)   False\n",
       "│    └─ReLU (1)                          [32, 4096]      [32, 4096]      --              --\n",
       "│    └─Dropout (2)                       [32, 4096]      [32, 4096]      --              --\n",
       "│    └─Linear (3)                        [32, 4096]      [32, 4096]      (16,781,312)    False\n",
       "│    └─ReLU (4)                          [32, 4096]      [32, 4096]      --              --\n",
       "│    └─Dropout (5)                       [32, 4096]      [32, 4096]      --              --\n",
       "│    └─Linear (6)                        [32, 4096]      [32, 3]         (12,291)        False\n",
       "====================================================================================================\n",
       "Total params: 134,272,835\n",
       "Trainable params: 0\n",
       "Non-trainable params: 134,272,835\n",
       "Total mult-adds (G): 495.35\n",
       "====================================================================================================\n",
       "Input size (MB): 19.27\n",
       "Forward/backward pass size (MB): 3470.26\n",
       "Params size (MB): 537.09\n",
       "Estimated Total Size (MB): 4026.62\n",
       "===================================================================================================="
      ]
     },
     "execution_count": 34,
     "metadata": {},
     "output_type": "execute_result"
    }
   ],
   "source": [
    "# Print a summary using torchinfo (uncomment for actual output)\n",
    "summary(model=model, \n",
    "        input_size=(32, 3, 224, 224), # make sure this is \"input_size\", not \"input_shape\"\n",
    "        # col_names=[\"input_size\"], # uncomment for smaller output\n",
    "        col_names=[\"input_size\", \"output_size\", \"num_params\", \"trainable\"],\n",
    "        col_width=15,\n",
    "        row_settings=[\"var_names\"]\n",
    ")"
   ]
  },
  {
   "cell_type": "code",
   "execution_count": 35,
   "id": "b849afaf-1912-4133-a61c-ce2d9240e93d",
   "metadata": {},
   "outputs": [
    {
     "data": {
      "text/plain": [
       "Linear(in_features=4096, out_features=4096, bias=True)"
      ]
     },
     "execution_count": 35,
     "metadata": {},
     "output_type": "execute_result"
    }
   ],
   "source": [
    "model.classifier[3]"
   ]
  },
  {
   "cell_type": "code",
   "execution_count": 36,
   "id": "338acacd-b857-411c-a01a-6c554a8b5655",
   "metadata": {},
   "outputs": [],
   "source": [
    "for param in model.classifier[3].parameters():\n",
    "    param.requires_grad = True"
   ]
  },
  {
   "cell_type": "code",
   "execution_count": 37,
   "id": "d657f969-ac7c-4cef-9da4-89cbabb93dbf",
   "metadata": {},
   "outputs": [
    {
     "data": {
      "text/plain": [
       "====================================================================================================\n",
       "Layer (type (var_name))                  Input Shape     Output Shape    Param #         Trainable\n",
       "====================================================================================================\n",
       "VGG (VGG)                                [32, 3, 224, 224] [32, 3]         --              Partial\n",
       "├─Sequential (features)                  [32, 3, 224, 224] [32, 512, 7, 7] --              False\n",
       "│    └─Conv2d (0)                        [32, 3, 224, 224] [32, 64, 224, 224] (1,792)         False\n",
       "│    └─ReLU (1)                          [32, 64, 224, 224] [32, 64, 224, 224] --              --\n",
       "│    └─Conv2d (2)                        [32, 64, 224, 224] [32, 64, 224, 224] (36,928)        False\n",
       "│    └─ReLU (3)                          [32, 64, 224, 224] [32, 64, 224, 224] --              --\n",
       "│    └─MaxPool2d (4)                     [32, 64, 224, 224] [32, 64, 112, 112] --              --\n",
       "│    └─Conv2d (5)                        [32, 64, 112, 112] [32, 128, 112, 112] (73,856)        False\n",
       "│    └─ReLU (6)                          [32, 128, 112, 112] [32, 128, 112, 112] --              --\n",
       "│    └─Conv2d (7)                        [32, 128, 112, 112] [32, 128, 112, 112] (147,584)       False\n",
       "│    └─ReLU (8)                          [32, 128, 112, 112] [32, 128, 112, 112] --              --\n",
       "│    └─MaxPool2d (9)                     [32, 128, 112, 112] [32, 128, 56, 56] --              --\n",
       "│    └─Conv2d (10)                       [32, 128, 56, 56] [32, 256, 56, 56] (295,168)       False\n",
       "│    └─ReLU (11)                         [32, 256, 56, 56] [32, 256, 56, 56] --              --\n",
       "│    └─Conv2d (12)                       [32, 256, 56, 56] [32, 256, 56, 56] (590,080)       False\n",
       "│    └─ReLU (13)                         [32, 256, 56, 56] [32, 256, 56, 56] --              --\n",
       "│    └─Conv2d (14)                       [32, 256, 56, 56] [32, 256, 56, 56] (590,080)       False\n",
       "│    └─ReLU (15)                         [32, 256, 56, 56] [32, 256, 56, 56] --              --\n",
       "│    └─MaxPool2d (16)                    [32, 256, 56, 56] [32, 256, 28, 28] --              --\n",
       "│    └─Conv2d (17)                       [32, 256, 28, 28] [32, 512, 28, 28] (1,180,160)     False\n",
       "│    └─ReLU (18)                         [32, 512, 28, 28] [32, 512, 28, 28] --              --\n",
       "│    └─Conv2d (19)                       [32, 512, 28, 28] [32, 512, 28, 28] (2,359,808)     False\n",
       "│    └─ReLU (20)                         [32, 512, 28, 28] [32, 512, 28, 28] --              --\n",
       "│    └─Conv2d (21)                       [32, 512, 28, 28] [32, 512, 28, 28] (2,359,808)     False\n",
       "│    └─ReLU (22)                         [32, 512, 28, 28] [32, 512, 28, 28] --              --\n",
       "│    └─MaxPool2d (23)                    [32, 512, 28, 28] [32, 512, 14, 14] --              --\n",
       "│    └─Conv2d (24)                       [32, 512, 14, 14] [32, 512, 14, 14] (2,359,808)     False\n",
       "│    └─ReLU (25)                         [32, 512, 14, 14] [32, 512, 14, 14] --              --\n",
       "│    └─Conv2d (26)                       [32, 512, 14, 14] [32, 512, 14, 14] (2,359,808)     False\n",
       "│    └─ReLU (27)                         [32, 512, 14, 14] [32, 512, 14, 14] --              --\n",
       "│    └─Conv2d (28)                       [32, 512, 14, 14] [32, 512, 14, 14] (2,359,808)     False\n",
       "│    └─ReLU (29)                         [32, 512, 14, 14] [32, 512, 14, 14] --              --\n",
       "│    └─MaxPool2d (30)                    [32, 512, 14, 14] [32, 512, 7, 7] --              --\n",
       "├─AdaptiveAvgPool2d (avgpool)            [32, 512, 7, 7] [32, 512, 7, 7] --              --\n",
       "├─Sequential (classifier)                [32, 25088]     [32, 3]         --              Partial\n",
       "│    └─Linear (0)                        [32, 25088]     [32, 4096]      (102,764,544)   False\n",
       "│    └─ReLU (1)                          [32, 4096]      [32, 4096]      --              --\n",
       "│    └─Dropout (2)                       [32, 4096]      [32, 4096]      --              --\n",
       "│    └─Linear (3)                        [32, 4096]      [32, 4096]      16,781,312      True\n",
       "│    └─ReLU (4)                          [32, 4096]      [32, 4096]      --              --\n",
       "│    └─Dropout (5)                       [32, 4096]      [32, 4096]      --              --\n",
       "│    └─Linear (6)                        [32, 4096]      [32, 3]         (12,291)        False\n",
       "====================================================================================================\n",
       "Total params: 134,272,835\n",
       "Trainable params: 16,781,312\n",
       "Non-trainable params: 117,491,523\n",
       "Total mult-adds (G): 495.35\n",
       "====================================================================================================\n",
       "Input size (MB): 19.27\n",
       "Forward/backward pass size (MB): 3470.26\n",
       "Params size (MB): 537.09\n",
       "Estimated Total Size (MB): 4026.62\n",
       "===================================================================================================="
      ]
     },
     "execution_count": 37,
     "metadata": {},
     "output_type": "execute_result"
    }
   ],
   "source": [
    "# Print a summary using torchinfo (uncomment for actual output)\n",
    "summary(model=model, \n",
    "        input_size=(32, 3, 224, 224), # make sure this is \"input_size\", not \"input_shape\"\n",
    "        # col_names=[\"input_size\"], # uncomment for smaller output\n",
    "        col_names=[\"input_size\", \"output_size\", \"num_params\", \"trainable\"],\n",
    "        col_width=15,\n",
    "        row_settings=[\"var_names\"]\n",
    ")"
   ]
  },
  {
   "cell_type": "code",
   "execution_count": 38,
   "id": "6e0683f9-adb7-4c50-8527-92d40ea7fb45",
   "metadata": {},
   "outputs": [
    {
     "data": {
      "application/vnd.jupyter.widget-view+json": {
       "model_id": "63a28e807bdb46c8b3d7a26b58d0096d",
       "version_major": 2,
       "version_minor": 0
      },
      "text/plain": [
       "  0%|          | 0/15 [00:00<?, ?it/s]"
      ]
     },
     "metadata": {},
     "output_type": "display_data"
    },
    {
     "name": "stdout",
     "output_type": "stream",
     "text": [
      "Epoch: 1 | train_loss: 4331.6009 | train_acc: 0.8453 | test_loss: 1662.5584 | test_acc: 0.9276 | learning rate: 0.100000 | time (sec): 96.37\n",
      "Epoch: 2 | train_loss: 2210.9789 | train_acc: 0.8978 | test_loss: 1126.0768 | test_acc: 0.9291 | learning rate: 0.100000 | time (sec): 94.74\n",
      "Epoch: 3 | train_loss: 1039.1480 | train_acc: 0.9031 | test_loss: 871.5243 | test_acc: 0.9093 | learning rate: 0.100000 | time (sec): 96.92\n",
      "early stopping!\n"
     ]
    }
   ],
   "source": [
    "# Define loss and optimizer\n",
    "loss_fn = nn.CrossEntropyLoss()\n",
    "optimizer = torch.optim.Adam(model.parameters(), lr=0.1)\n",
    "set_seeds()\n",
    "results = train(model=model,\n",
    "                       train_dataloader=train_dataloader,\n",
    "                       test_dataloader=test_dataloader,\n",
    "                       optimizer=optimizer,\n",
    "                       loss_fn=loss_fn,\n",
    "                       epochs=15,\n",
    "                       device=device)"
   ]
  },
  {
   "cell_type": "code",
   "execution_count": 39,
   "id": "d96a1172-9155-4681-9477-0091bfadc54b",
   "metadata": {},
   "outputs": [
    {
     "name": "stdout",
     "output_type": "stream",
     "text": [
      "average train accuracy: 0.8715385610766044\n",
      "average test accuracy: 0.9283536585365854\n"
     ]
    },
    {
     "data": {
      "image/png": "[encoded data removed]",
      "text/plain": [
       "<Figure size 1080x504 with 2 Axes>"
      ]
     },
     "metadata": {
      "needs_background": "light"
     },
     "output_type": "display_data"
    }
   ],
   "source": [
    "# Plot the loss curves of our model\n",
    "plot_loss_curves(results)"
   ]
  },
  {
   "cell_type": "code",
   "execution_count": null,
   "id": "352fa022-4ca4-4f65-99f1-03224f47d20b",
   "metadata": {},
   "outputs": [],
   "source": []
  }
 ],
 "metadata": {
  "kernelspec": {
   "display_name": "Python 3 (ipykernel)",
   "language": "python",
   "name": "python3"
  },
  "language_info": {
   "codemirror_mode": {
    "name": "ipython",
    "version": 3
   },
   "file_extension": ".py",
   "mimetype": "text/x-python",
   "name": "python",
   "nbconvert_exporter": "python",
   "pygments_lexer": "ipython3",
   "version": "3.9.12"
  }
 },
 "nbformat": 4,
 "nbformat_minor": 5
}
